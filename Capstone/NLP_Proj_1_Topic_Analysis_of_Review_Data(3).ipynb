{
 "cells": [
  {
   "cell_type": "markdown",
   "metadata": {
    "id": "8OcCvoB2SwOa"
   },
   "source": [
    "DESCRIPTION\n",
    "Help a leading mobile brand understand the voice of the customer by analyzing the reviews of their product on Amazon and the topics that customers are talking about. You will perform topic modeling on specific parts of speech. You’ll finally interpret the emerging topics.\n",
    "\n",
    "Problem Statement: \n",
    "A popular mobile phone brand, Lenovo has launched their budget smartphone in the Indian market. The client wants to understand the VOC (voice of the customer) on the product. This will be useful to not just evaluate the current product, but to also get some direction for developing the product pipeline. The client is particularly interested in the different aspects that customers care about. Product reviews by customers on a leading e-commerce site should provide a good view.\n",
    "\n",
    "Domain: Amazon reviews for a leading phone brand\n",
    "\n",
    "Analysis to be done: POS tagging, topic modeling using LDA, and topic interpretation\n",
    "\n",
    "Content: \n",
    "Dataset: ‘K8 Reviews v0.2.csv’\n",
    "\n",
    "Columns:\n",
    "Sentiment: The sentiment against the review (4,5 star reviews are positive, 1,2 are negative)\n",
    "\n",
    "Reviews: The main text of the review\n",
    "\n",
    "Steps to perform:\n",
    "Discover the topics in the reviews and present it to business in a consumable format. Employ techniques in syntactic processing and topic modeling.\n",
    "Perform specific cleanup, POS tagging, and restricting to relevant POS tags, then, perform topic modeling using LDA. Finally, give business-friendly names to the topics and make a table for business.\n",
    "\n",
    "Tasks: \n",
    "1.\tRead the .csv file using Pandas. Take a look at the top few records.\n",
    "2.\tNormalize casings for the review text and extract the text into a list for easier manipulation.\n",
    "3.\tTokenize the reviews using NLTKs word_tokenize function.\n",
    "4.\tPerform parts-of-speech tagging on each sentence using the NLTK POS tagger.\n",
    "5.\tFor the topic model, we should  want to include only nouns.\n",
    "        1. Find out all the POS tags that correspond to nouns.\n",
    "        2. Limit the data to only terms with these tags.\n",
    "6.  Lemmatize.\n",
    "        1. Different forms of the terms need to be treated as one.\n",
    "        2. No need to provide POS tag to lemmatizer for now.\n",
    "7.   Remove stopwords and punctuation (if there are any). \n",
    "8.   Create a topic model using LDA on the cleaned-up data with 12 topics\n",
    "        1. Print out the top terms for each topic.\n",
    "        2. What is the coherence of the model with the c_v metric?\n",
    "9.  Analyze the topics through the business lens.\n",
    "        1. Determine which of the topics can be combined.\n",
    "10. Create a topic model using LDA with what you think is the optimal number of topics\n",
    "        1. What is the coherence of the model?\n",
    "11. The business should be able to interpret the topics.\n",
    "        1. Name each of the identified topics.\n",
    "        2. Create a table with the topic name and the top 10 terms in each to present to the business.\n",
    "\n",
    "Auther: Preetida V-Jani/15th May 22"
   ]
  },
  {
   "cell_type": "markdown",
   "metadata": {
    "id": "jekJbHT00299"
   },
   "source": [
    "Libraries"
   ]
  },
  {
   "cell_type": "code",
   "execution_count": 1,
   "metadata": {
    "colab": {
     "base_uri": "https://localhost:8080/"
    },
    "id": "HFQR6Wul9Rgw",
    "outputId": "ba382937-d1fe-42c7-c655-8ec18a7c3a0a"
   },
   "outputs": [
    {
     "name": "stdout",
     "output_type": "stream",
     "text": [
      "[nltk_data] Downloading package punkt to /root/nltk_data...\n",
      "[nltk_data]   Unzipping tokenizers/punkt.zip.\n",
      "[nltk_data] Downloading package stopwords to /root/nltk_data...\n",
      "[nltk_data]   Unzipping corpora/stopwords.zip.\n",
      "[nltk_data] Downloading package wordnet to /root/nltk_data...\n",
      "[nltk_data]   Unzipping corpora/wordnet.zip.\n"
     ]
    },
    {
     "data": {
      "text/plain": [
       "True"
      ]
     },
     "execution_count": 1,
     "metadata": {},
     "output_type": "execute_result"
    }
   ],
   "source": [
    "#data manipulation\n",
    "import numpy as np\n",
    "import pandas as pd\n",
    "import tqdm\n",
    "#file and system operations\n",
    "import os\n",
    "import sys\n",
    "assert sys.version_info >= (3,5)\n",
    "#visualization imports\n",
    "import matplotlib.pyplot as plt\n",
    "import seaborn as sns\n",
    "%matplotlib inline\n",
    "#consistent sized plots\n",
    "from pylab import rcParams\n",
    "rcParams['figure.figsize']=12,5\n",
    "rcParams['axes.labelsize']=12\n",
    "rcParams['ytick.labelsize']=12\n",
    "rcParams['xtick.labelsize']=12\n",
    "#handle unwanted warnings \n",
    "import warnings\n",
    "warnings.filterwarnings(action='ignore',category=DeprecationWarning)\n",
    "warnings.filterwarnings(action='ignore',category=FutureWarning)\n",
    "#view all the columns\n",
    "pd.options.display.max_columns = None\n",
    "#basic text manipulation libraries\n",
    "import nltk\n",
    "from nltk.tokenize import word_tokenize\n",
    "nltk.download('punkt')\n",
    "from nltk.tokenize import sent_tokenize\n",
    "from nltk.corpus import stopwords\n",
    "nltk.download('stopwords')\n",
    "from nltk.stem import SnowballStemmer\n",
    "from nltk.stem import WordNetLemmatizer\n",
    "nltk.download('wordnet')"
   ]
  },
  {
   "cell_type": "markdown",
   "metadata": {
    "id": "DtylhkpnORwL"
   },
   "source": [
    "Task 1: Reading CSV file"
   ]
  },
  {
   "cell_type": "code",
   "execution_count": 2,
   "metadata": {
    "colab": {
     "base_uri": "https://localhost:8080/",
     "height": 74,
     "resources": {
      "http://localhost:8080/nbextensions/google.colab/files.js": {
       "data": "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",
       "headers": [
        [
         "content-type",
         "application/javascript"
        ]
       ],
       "ok": true,
       "status": 200,
       "status_text": "OK"
      }
     }
    },
    "id": "9XTalvn0Amaa",
    "outputId": "ef7bfa9e-5f54-4266-aad2-e02e0105a9a1"
   },
   "outputs": [
    {
     "data": {
      "text/html": [
       "\n",
       "     <input type=\"file\" id=\"files-b8c884c6-6645-4819-9e2d-b08495f0de99\" name=\"files[]\" multiple disabled\n",
       "        style=\"border:none\" />\n",
       "     <output id=\"result-b8c884c6-6645-4819-9e2d-b08495f0de99\">\n",
       "      Upload widget is only available when the cell has been executed in the\n",
       "      current browser session. Please rerun this cell to enable.\n",
       "      </output>\n",
       "      <script src=\"/nbextensions/google.colab/files.js\"></script> "
      ],
      "text/plain": [
       "<IPython.core.display.HTML object>"
      ]
     },
     "metadata": {},
     "output_type": "display_data"
    },
    {
     "name": "stdout",
     "output_type": "stream",
     "text": [
      "Saving K8 Reviews v0.2.csv to K8 Reviews v0.2.csv\n"
     ]
    }
   ],
   "source": [
    "from google.colab import files\n",
    "uploaded = files.upload()"
   ]
  },
  {
   "cell_type": "markdown",
   "metadata": {
    "id": "xxWqhcwR1O8_"
   },
   "source": [
    "Storing dataset in PANDAS"
   ]
  },
  {
   "cell_type": "code",
   "execution_count": 3,
   "metadata": {
    "colab": {
     "base_uri": "https://localhost:8080/",
     "height": 206
    },
    "id": "dirfLatsEJZC",
    "outputId": "34ea8b51-7b1d-4247-a85e-d10e4432bf2f"
   },
   "outputs": [
    {
     "data": {
      "text/html": [
       "\n",
       "  <div id=\"df-c932204d-4bf9-49c8-9721-e3ff9af3fe63\">\n",
       "    <div class=\"colab-df-container\">\n",
       "      <div>\n",
       "<style scoped>\n",
       "    .dataframe tbody tr th:only-of-type {\n",
       "        vertical-align: middle;\n",
       "    }\n",
       "\n",
       "    .dataframe tbody tr th {\n",
       "        vertical-align: top;\n",
       "    }\n",
       "\n",
       "    .dataframe thead th {\n",
       "        text-align: right;\n",
       "    }\n",
       "</style>\n",
       "<table border=\"1\" class=\"dataframe\">\n",
       "  <thead>\n",
       "    <tr style=\"text-align: right;\">\n",
       "      <th></th>\n",
       "      <th>sentiment</th>\n",
       "      <th>review</th>\n",
       "    </tr>\n",
       "  </thead>\n",
       "  <tbody>\n",
       "    <tr>\n",
       "      <th>0</th>\n",
       "      <td>1</td>\n",
       "      <td>Good but need updates and improvements</td>\n",
       "    </tr>\n",
       "    <tr>\n",
       "      <th>1</th>\n",
       "      <td>0</td>\n",
       "      <td>Worst mobile i have bought ever, Battery is dr...</td>\n",
       "    </tr>\n",
       "    <tr>\n",
       "      <th>2</th>\n",
       "      <td>1</td>\n",
       "      <td>when I will get my 10% cash back.... its alrea...</td>\n",
       "    </tr>\n",
       "    <tr>\n",
       "      <th>3</th>\n",
       "      <td>1</td>\n",
       "      <td>Good</td>\n",
       "    </tr>\n",
       "    <tr>\n",
       "      <th>4</th>\n",
       "      <td>0</td>\n",
       "      <td>The worst phone everThey have changed the last...</td>\n",
       "    </tr>\n",
       "  </tbody>\n",
       "</table>\n",
       "</div>\n",
       "      <button class=\"colab-df-convert\" onclick=\"convertToInteractive('df-c932204d-4bf9-49c8-9721-e3ff9af3fe63')\"\n",
       "              title=\"Convert this dataframe to an interactive table.\"\n",
       "              style=\"display:none;\">\n",
       "        \n",
       "  <svg xmlns=\"http://www.w3.org/2000/svg\" height=\"24px\"viewBox=\"0 0 24 24\"\n",
       "       width=\"24px\">\n",
       "    <path d=\"M0 0h24v24H0V0z\" fill=\"none\"/>\n",
       "    <path d=\"M18.56 5.44l.94 2.06.94-2.06 2.06-.94-2.06-.94-.94-2.06-.94 2.06-2.06.94zm-11 1L8.5 8.5l.94-2.06 2.06-.94-2.06-.94L8.5 2.5l-.94 2.06-2.06.94zm10 10l.94 2.06.94-2.06 2.06-.94-2.06-.94-.94-2.06-.94 2.06-2.06.94z\"/><path d=\"M17.41 7.96l-1.37-1.37c-.4-.4-.92-.59-1.43-.59-.52 0-1.04.2-1.43.59L10.3 9.45l-7.72 7.72c-.78.78-.78 2.05 0 2.83L4 21.41c.39.39.9.59 1.41.59.51 0 1.02-.2 1.41-.59l7.78-7.78 2.81-2.81c.8-.78.8-2.07 0-2.86zM5.41 20L4 18.59l7.72-7.72 1.47 1.35L5.41 20z\"/>\n",
       "  </svg>\n",
       "      </button>\n",
       "      \n",
       "  <style>\n",
       "    .colab-df-container {\n",
       "      display:flex;\n",
       "      flex-wrap:wrap;\n",
       "      gap: 12px;\n",
       "    }\n",
       "\n",
       "    .colab-df-convert {\n",
       "      background-color: #E8F0FE;\n",
       "      border: none;\n",
       "      border-radius: 50%;\n",
       "      cursor: pointer;\n",
       "      display: none;\n",
       "      fill: #1967D2;\n",
       "      height: 32px;\n",
       "      padding: 0 0 0 0;\n",
       "      width: 32px;\n",
       "    }\n",
       "\n",
       "    .colab-df-convert:hover {\n",
       "      background-color: #E2EBFA;\n",
       "      box-shadow: 0px 1px 2px rgba(60, 64, 67, 0.3), 0px 1px 3px 1px rgba(60, 64, 67, 0.15);\n",
       "      fill: #174EA6;\n",
       "    }\n",
       "\n",
       "    [theme=dark] .colab-df-convert {\n",
       "      background-color: #3B4455;\n",
       "      fill: #D2E3FC;\n",
       "    }\n",
       "\n",
       "    [theme=dark] .colab-df-convert:hover {\n",
       "      background-color: #434B5C;\n",
       "      box-shadow: 0px 1px 3px 1px rgba(0, 0, 0, 0.15);\n",
       "      filter: drop-shadow(0px 1px 2px rgba(0, 0, 0, 0.3));\n",
       "      fill: #FFFFFF;\n",
       "    }\n",
       "  </style>\n",
       "\n",
       "      <script>\n",
       "        const buttonEl =\n",
       "          document.querySelector('#df-c932204d-4bf9-49c8-9721-e3ff9af3fe63 button.colab-df-convert');\n",
       "        buttonEl.style.display =\n",
       "          google.colab.kernel.accessAllowed ? 'block' : 'none';\n",
       "\n",
       "        async function convertToInteractive(key) {\n",
       "          const element = document.querySelector('#df-c932204d-4bf9-49c8-9721-e3ff9af3fe63');\n",
       "          const dataTable =\n",
       "            await google.colab.kernel.invokeFunction('convertToInteractive',\n",
       "                                                     [key], {});\n",
       "          if (!dataTable) return;\n",
       "\n",
       "          const docLinkHtml = 'Like what you see? Visit the ' +\n",
       "            '<a target=\"_blank\" href=https://colab.research.google.com/notebooks/data_table.ipynb>data table notebook</a>'\n",
       "            + ' to learn more about interactive tables.';\n",
       "          element.innerHTML = '';\n",
       "          dataTable['output_type'] = 'display_data';\n",
       "          await google.colab.output.renderOutput(dataTable, element);\n",
       "          const docLink = document.createElement('div');\n",
       "          docLink.innerHTML = docLinkHtml;\n",
       "          element.appendChild(docLink);\n",
       "        }\n",
       "      </script>\n",
       "    </div>\n",
       "  </div>\n",
       "  "
      ],
      "text/plain": [
       "   sentiment                                             review\n",
       "0          1             Good but need updates and improvements\n",
       "1          0  Worst mobile i have bought ever, Battery is dr...\n",
       "2          1  when I will get my 10% cash back.... its alrea...\n",
       "3          1                                               Good\n",
       "4          0  The worst phone everThey have changed the last..."
      ]
     },
     "execution_count": 3,
     "metadata": {},
     "output_type": "execute_result"
    }
   ],
   "source": [
    "import io\n",
    "AnaReviews_df = pd.read_csv(io.BytesIO(uploaded['K8 Reviews v0.2.csv']))\n",
    "AnaReviews_df.head()"
   ]
  },
  {
   "cell_type": "code",
   "execution_count": 4,
   "metadata": {
    "colab": {
     "base_uri": "https://localhost:8080/"
    },
    "id": "aRBMZ8PIE_gS",
    "outputId": "c68ca514-cb8d-44f7-ca6c-904367e2bb22"
   },
   "outputs": [
    {
     "data": {
      "text/plain": [
       "14675"
      ]
     },
     "execution_count": 4,
     "metadata": {},
     "output_type": "execute_result"
    }
   ],
   "source": [
    "#checking number of AnaReviews\n",
    "len(AnaReviews_df)"
   ]
  },
  {
   "cell_type": "markdown",
   "metadata": {
    "id": "2jgmP5Ee0DC8"
   },
   "source": [
    "Task 2: Normalize casings for the review text and extract the text into a list for easier manipulation.\n",
    "Pre-Processing of Data"
   ]
  },
  {
   "cell_type": "markdown",
   "metadata": {
    "id": "toLB5zDK0SIZ"
   },
   "source": [
    "Replacing + Dropping NULL values"
   ]
  },
  {
   "cell_type": "code",
   "execution_count": 5,
   "metadata": {
    "colab": {
     "base_uri": "https://localhost:8080/"
    },
    "id": "Rd1DqkBM0eiR",
    "outputId": "b6045956-88c1-43da-84b7-54c85cf6e05c"
   },
   "outputs": [
    {
     "data": {
      "text/plain": [
       "sentiment    0\n",
       "review       0\n",
       "dtype: int64"
      ]
     },
     "execution_count": 5,
     "metadata": {},
     "output_type": "execute_result"
    }
   ],
   "source": [
    "AnaReviews_df.isnull().sum()"
   ]
  },
  {
   "cell_type": "code",
   "execution_count": 6,
   "metadata": {
    "colab": {
     "base_uri": "https://localhost:8080/"
    },
    "id": "iKdmVWjEE91o",
    "outputId": "f0d897ba-8082-4d45-9543-a180a6d8ddb4"
   },
   "outputs": [
    {
     "name": "stdout",
     "output_type": "stream",
     "text": [
      "<class 'pandas.core.frame.DataFrame'>\n",
      "RangeIndex: 14675 entries, 0 to 14674\n",
      "Data columns (total 2 columns):\n",
      " #   Column     Non-Null Count  Dtype \n",
      "---  ------     --------------  ----- \n",
      " 0   sentiment  14675 non-null  int64 \n",
      " 1   review     14675 non-null  object\n",
      "dtypes: int64(1), object(1)\n",
      "memory usage: 229.4+ KB\n"
     ]
    }
   ],
   "source": [
    "AnaReviews_df.info()"
   ]
  },
  {
   "cell_type": "markdown",
   "metadata": {
    "id": "DmqCKW6oF51X"
   },
   "source": [
    "- Above info oucome shows that Dataset does not have any null or missing values."
   ]
  },
  {
   "cell_type": "markdown",
   "metadata": {
    "id": "KsdN9ujo1oAW"
   },
   "source": [
    "Converting to LOWER case"
   ]
  },
  {
   "cell_type": "code",
   "execution_count": 7,
   "metadata": {
    "colab": {
     "base_uri": "https://localhost:8080/",
     "height": 206
    },
    "id": "T0MJ-OB_1qW5",
    "outputId": "f463aef3-29bd-4729-b4b6-52fbace55e40"
   },
   "outputs": [
    {
     "data": {
      "text/html": [
       "\n",
       "  <div id=\"df-26ca1944-3b6b-4e5b-92f7-1995df5f4bc6\">\n",
       "    <div class=\"colab-df-container\">\n",
       "      <div>\n",
       "<style scoped>\n",
       "    .dataframe tbody tr th:only-of-type {\n",
       "        vertical-align: middle;\n",
       "    }\n",
       "\n",
       "    .dataframe tbody tr th {\n",
       "        vertical-align: top;\n",
       "    }\n",
       "\n",
       "    .dataframe thead th {\n",
       "        text-align: right;\n",
       "    }\n",
       "</style>\n",
       "<table border=\"1\" class=\"dataframe\">\n",
       "  <thead>\n",
       "    <tr style=\"text-align: right;\">\n",
       "      <th></th>\n",
       "      <th>sentiment</th>\n",
       "      <th>review</th>\n",
       "      <th>clean_review</th>\n",
       "    </tr>\n",
       "  </thead>\n",
       "  <tbody>\n",
       "    <tr>\n",
       "      <th>0</th>\n",
       "      <td>1</td>\n",
       "      <td>Good but need updates and improvements</td>\n",
       "      <td>good but need updates and improvements</td>\n",
       "    </tr>\n",
       "    <tr>\n",
       "      <th>1</th>\n",
       "      <td>0</td>\n",
       "      <td>Worst mobile i have bought ever, Battery is dr...</td>\n",
       "      <td>worst mobile i have bought ever, battery is dr...</td>\n",
       "    </tr>\n",
       "    <tr>\n",
       "      <th>2</th>\n",
       "      <td>1</td>\n",
       "      <td>when I will get my 10% cash back.... its alrea...</td>\n",
       "      <td>when i will get my 10% cash back.... its alrea...</td>\n",
       "    </tr>\n",
       "    <tr>\n",
       "      <th>3</th>\n",
       "      <td>1</td>\n",
       "      <td>Good</td>\n",
       "      <td>good</td>\n",
       "    </tr>\n",
       "    <tr>\n",
       "      <th>4</th>\n",
       "      <td>0</td>\n",
       "      <td>The worst phone everThey have changed the last...</td>\n",
       "      <td>the worst phone everthey have changed the last...</td>\n",
       "    </tr>\n",
       "  </tbody>\n",
       "</table>\n",
       "</div>\n",
       "      <button class=\"colab-df-convert\" onclick=\"convertToInteractive('df-26ca1944-3b6b-4e5b-92f7-1995df5f4bc6')\"\n",
       "              title=\"Convert this dataframe to an interactive table.\"\n",
       "              style=\"display:none;\">\n",
       "        \n",
       "  <svg xmlns=\"http://www.w3.org/2000/svg\" height=\"24px\"viewBox=\"0 0 24 24\"\n",
       "       width=\"24px\">\n",
       "    <path d=\"M0 0h24v24H0V0z\" fill=\"none\"/>\n",
       "    <path d=\"M18.56 5.44l.94 2.06.94-2.06 2.06-.94-2.06-.94-.94-2.06-.94 2.06-2.06.94zm-11 1L8.5 8.5l.94-2.06 2.06-.94-2.06-.94L8.5 2.5l-.94 2.06-2.06.94zm10 10l.94 2.06.94-2.06 2.06-.94-2.06-.94-.94-2.06-.94 2.06-2.06.94z\"/><path d=\"M17.41 7.96l-1.37-1.37c-.4-.4-.92-.59-1.43-.59-.52 0-1.04.2-1.43.59L10.3 9.45l-7.72 7.72c-.78.78-.78 2.05 0 2.83L4 21.41c.39.39.9.59 1.41.59.51 0 1.02-.2 1.41-.59l7.78-7.78 2.81-2.81c.8-.78.8-2.07 0-2.86zM5.41 20L4 18.59l7.72-7.72 1.47 1.35L5.41 20z\"/>\n",
       "  </svg>\n",
       "      </button>\n",
       "      \n",
       "  <style>\n",
       "    .colab-df-container {\n",
       "      display:flex;\n",
       "      flex-wrap:wrap;\n",
       "      gap: 12px;\n",
       "    }\n",
       "\n",
       "    .colab-df-convert {\n",
       "      background-color: #E8F0FE;\n",
       "      border: none;\n",
       "      border-radius: 50%;\n",
       "      cursor: pointer;\n",
       "      display: none;\n",
       "      fill: #1967D2;\n",
       "      height: 32px;\n",
       "      padding: 0 0 0 0;\n",
       "      width: 32px;\n",
       "    }\n",
       "\n",
       "    .colab-df-convert:hover {\n",
       "      background-color: #E2EBFA;\n",
       "      box-shadow: 0px 1px 2px rgba(60, 64, 67, 0.3), 0px 1px 3px 1px rgba(60, 64, 67, 0.15);\n",
       "      fill: #174EA6;\n",
       "    }\n",
       "\n",
       "    [theme=dark] .colab-df-convert {\n",
       "      background-color: #3B4455;\n",
       "      fill: #D2E3FC;\n",
       "    }\n",
       "\n",
       "    [theme=dark] .colab-df-convert:hover {\n",
       "      background-color: #434B5C;\n",
       "      box-shadow: 0px 1px 3px 1px rgba(0, 0, 0, 0.15);\n",
       "      filter: drop-shadow(0px 1px 2px rgba(0, 0, 0, 0.3));\n",
       "      fill: #FFFFFF;\n",
       "    }\n",
       "  </style>\n",
       "\n",
       "      <script>\n",
       "        const buttonEl =\n",
       "          document.querySelector('#df-26ca1944-3b6b-4e5b-92f7-1995df5f4bc6 button.colab-df-convert');\n",
       "        buttonEl.style.display =\n",
       "          google.colab.kernel.accessAllowed ? 'block' : 'none';\n",
       "\n",
       "        async function convertToInteractive(key) {\n",
       "          const element = document.querySelector('#df-26ca1944-3b6b-4e5b-92f7-1995df5f4bc6');\n",
       "          const dataTable =\n",
       "            await google.colab.kernel.invokeFunction('convertToInteractive',\n",
       "                                                     [key], {});\n",
       "          if (!dataTable) return;\n",
       "\n",
       "          const docLinkHtml = 'Like what you see? Visit the ' +\n",
       "            '<a target=\"_blank\" href=https://colab.research.google.com/notebooks/data_table.ipynb>data table notebook</a>'\n",
       "            + ' to learn more about interactive tables.';\n",
       "          element.innerHTML = '';\n",
       "          dataTable['output_type'] = 'display_data';\n",
       "          await google.colab.output.renderOutput(dataTable, element);\n",
       "          const docLink = document.createElement('div');\n",
       "          docLink.innerHTML = docLinkHtml;\n",
       "          element.appendChild(docLink);\n",
       "        }\n",
       "      </script>\n",
       "    </div>\n",
       "  </div>\n",
       "  "
      ],
      "text/plain": [
       "   sentiment                                             review  \\\n",
       "0          1             Good but need updates and improvements   \n",
       "1          0  Worst mobile i have bought ever, Battery is dr...   \n",
       "2          1  when I will get my 10% cash back.... its alrea...   \n",
       "3          1                                               Good   \n",
       "4          0  The worst phone everThey have changed the last...   \n",
       "\n",
       "                                        clean_review  \n",
       "0             good but need updates and improvements  \n",
       "1  worst mobile i have bought ever, battery is dr...  \n",
       "2  when i will get my 10% cash back.... its alrea...  \n",
       "3                                               good  \n",
       "4  the worst phone everthey have changed the last...  "
      ]
     },
     "execution_count": 7,
     "metadata": {},
     "output_type": "execute_result"
    }
   ],
   "source": [
    "AnaReviews_df['clean_review'] = AnaReviews_df['review'].apply(lambda x: str(x).lower())\n",
    "AnaReviews_df.head()"
   ]
  },
  {
   "cell_type": "markdown",
   "metadata": {
    "id": "fYDGWNxS3utw"
   },
   "source": [
    "REMOVE NON-ALPHA DATA(DIGITS,PUNCTUATIONS,DIACRITICS)"
   ]
  },
  {
   "cell_type": "code",
   "execution_count": 8,
   "metadata": {
    "colab": {
     "base_uri": "https://localhost:8080/",
     "height": 206
    },
    "id": "jog9dJQL3-Ri",
    "outputId": "eddee557-f93e-43d3-ff85-51b50b01d7ab"
   },
   "outputs": [
    {
     "data": {
      "text/html": [
       "\n",
       "  <div id=\"df-78f52fa1-fa63-485a-8864-2f3a94de9ead\">\n",
       "    <div class=\"colab-df-container\">\n",
       "      <div>\n",
       "<style scoped>\n",
       "    .dataframe tbody tr th:only-of-type {\n",
       "        vertical-align: middle;\n",
       "    }\n",
       "\n",
       "    .dataframe tbody tr th {\n",
       "        vertical-align: top;\n",
       "    }\n",
       "\n",
       "    .dataframe thead th {\n",
       "        text-align: right;\n",
       "    }\n",
       "</style>\n",
       "<table border=\"1\" class=\"dataframe\">\n",
       "  <thead>\n",
       "    <tr style=\"text-align: right;\">\n",
       "      <th></th>\n",
       "      <th>sentiment</th>\n",
       "      <th>review</th>\n",
       "      <th>clean_review</th>\n",
       "    </tr>\n",
       "  </thead>\n",
       "  <tbody>\n",
       "    <tr>\n",
       "      <th>0</th>\n",
       "      <td>1</td>\n",
       "      <td>Good but need updates and improvements</td>\n",
       "      <td>good but need updates and improvements</td>\n",
       "    </tr>\n",
       "    <tr>\n",
       "      <th>1</th>\n",
       "      <td>0</td>\n",
       "      <td>Worst mobile i have bought ever, Battery is dr...</td>\n",
       "      <td>worst mobile i have bought ever  battery is dr...</td>\n",
       "    </tr>\n",
       "    <tr>\n",
       "      <th>2</th>\n",
       "      <td>1</td>\n",
       "      <td>when I will get my 10% cash back.... its alrea...</td>\n",
       "      <td>when i will get my     cash back     its alrea...</td>\n",
       "    </tr>\n",
       "    <tr>\n",
       "      <th>3</th>\n",
       "      <td>1</td>\n",
       "      <td>Good</td>\n",
       "      <td>good</td>\n",
       "    </tr>\n",
       "    <tr>\n",
       "      <th>4</th>\n",
       "      <td>0</td>\n",
       "      <td>The worst phone everThey have changed the last...</td>\n",
       "      <td>the worst phone everthey have changed the last...</td>\n",
       "    </tr>\n",
       "  </tbody>\n",
       "</table>\n",
       "</div>\n",
       "      <button class=\"colab-df-convert\" onclick=\"convertToInteractive('df-78f52fa1-fa63-485a-8864-2f3a94de9ead')\"\n",
       "              title=\"Convert this dataframe to an interactive table.\"\n",
       "              style=\"display:none;\">\n",
       "        \n",
       "  <svg xmlns=\"http://www.w3.org/2000/svg\" height=\"24px\"viewBox=\"0 0 24 24\"\n",
       "       width=\"24px\">\n",
       "    <path d=\"M0 0h24v24H0V0z\" fill=\"none\"/>\n",
       "    <path d=\"M18.56 5.44l.94 2.06.94-2.06 2.06-.94-2.06-.94-.94-2.06-.94 2.06-2.06.94zm-11 1L8.5 8.5l.94-2.06 2.06-.94-2.06-.94L8.5 2.5l-.94 2.06-2.06.94zm10 10l.94 2.06.94-2.06 2.06-.94-2.06-.94-.94-2.06-.94 2.06-2.06.94z\"/><path d=\"M17.41 7.96l-1.37-1.37c-.4-.4-.92-.59-1.43-.59-.52 0-1.04.2-1.43.59L10.3 9.45l-7.72 7.72c-.78.78-.78 2.05 0 2.83L4 21.41c.39.39.9.59 1.41.59.51 0 1.02-.2 1.41-.59l7.78-7.78 2.81-2.81c.8-.78.8-2.07 0-2.86zM5.41 20L4 18.59l7.72-7.72 1.47 1.35L5.41 20z\"/>\n",
       "  </svg>\n",
       "      </button>\n",
       "      \n",
       "  <style>\n",
       "    .colab-df-container {\n",
       "      display:flex;\n",
       "      flex-wrap:wrap;\n",
       "      gap: 12px;\n",
       "    }\n",
       "\n",
       "    .colab-df-convert {\n",
       "      background-color: #E8F0FE;\n",
       "      border: none;\n",
       "      border-radius: 50%;\n",
       "      cursor: pointer;\n",
       "      display: none;\n",
       "      fill: #1967D2;\n",
       "      height: 32px;\n",
       "      padding: 0 0 0 0;\n",
       "      width: 32px;\n",
       "    }\n",
       "\n",
       "    .colab-df-convert:hover {\n",
       "      background-color: #E2EBFA;\n",
       "      box-shadow: 0px 1px 2px rgba(60, 64, 67, 0.3), 0px 1px 3px 1px rgba(60, 64, 67, 0.15);\n",
       "      fill: #174EA6;\n",
       "    }\n",
       "\n",
       "    [theme=dark] .colab-df-convert {\n",
       "      background-color: #3B4455;\n",
       "      fill: #D2E3FC;\n",
       "    }\n",
       "\n",
       "    [theme=dark] .colab-df-convert:hover {\n",
       "      background-color: #434B5C;\n",
       "      box-shadow: 0px 1px 3px 1px rgba(0, 0, 0, 0.15);\n",
       "      filter: drop-shadow(0px 1px 2px rgba(0, 0, 0, 0.3));\n",
       "      fill: #FFFFFF;\n",
       "    }\n",
       "  </style>\n",
       "\n",
       "      <script>\n",
       "        const buttonEl =\n",
       "          document.querySelector('#df-78f52fa1-fa63-485a-8864-2f3a94de9ead button.colab-df-convert');\n",
       "        buttonEl.style.display =\n",
       "          google.colab.kernel.accessAllowed ? 'block' : 'none';\n",
       "\n",
       "        async function convertToInteractive(key) {\n",
       "          const element = document.querySelector('#df-78f52fa1-fa63-485a-8864-2f3a94de9ead');\n",
       "          const dataTable =\n",
       "            await google.colab.kernel.invokeFunction('convertToInteractive',\n",
       "                                                     [key], {});\n",
       "          if (!dataTable) return;\n",
       "\n",
       "          const docLinkHtml = 'Like what you see? Visit the ' +\n",
       "            '<a target=\"_blank\" href=https://colab.research.google.com/notebooks/data_table.ipynb>data table notebook</a>'\n",
       "            + ' to learn more about interactive tables.';\n",
       "          element.innerHTML = '';\n",
       "          dataTable['output_type'] = 'display_data';\n",
       "          await google.colab.output.renderOutput(dataTable, element);\n",
       "          const docLink = document.createElement('div');\n",
       "          docLink.innerHTML = docLinkHtml;\n",
       "          element.appendChild(docLink);\n",
       "        }\n",
       "      </script>\n",
       "    </div>\n",
       "  </div>\n",
       "  "
      ],
      "text/plain": [
       "   sentiment                                             review  \\\n",
       "0          1             Good but need updates and improvements   \n",
       "1          0  Worst mobile i have bought ever, Battery is dr...   \n",
       "2          1  when I will get my 10% cash back.... its alrea...   \n",
       "3          1                                               Good   \n",
       "4          0  The worst phone everThey have changed the last...   \n",
       "\n",
       "                                        clean_review  \n",
       "0             good but need updates and improvements  \n",
       "1  worst mobile i have bought ever  battery is dr...  \n",
       "2  when i will get my     cash back     its alrea...  \n",
       "3                                               good  \n",
       "4  the worst phone everthey have changed the last...  "
      ]
     },
     "execution_count": 8,
     "metadata": {},
     "output_type": "execute_result"
    }
   ],
   "source": [
    "AnaReviews_df['clean_review'] = AnaReviews_df['clean_review'].str.replace(r'[^a-zA-Z\\s]', ' ',regex=True) \n",
    "AnaReviews_df.head()"
   ]
  },
  {
   "cell_type": "markdown",
   "metadata": {
    "id": "yLBVPwv_4OkD"
   },
   "source": [
    "REMOVING WHITE SPACE"
   ]
  },
  {
   "cell_type": "code",
   "execution_count": 9,
   "metadata": {
    "colab": {
     "base_uri": "https://localhost:8080/",
     "height": 206
    },
    "id": "9p6xHmYD4TJA",
    "outputId": "a81ec254-5edf-4ac3-ed21-c76f34fadce7"
   },
   "outputs": [
    {
     "data": {
      "text/html": [
       "\n",
       "  <div id=\"df-e5eb3e3a-e9db-4242-8cfa-44f2838e731d\">\n",
       "    <div class=\"colab-df-container\">\n",
       "      <div>\n",
       "<style scoped>\n",
       "    .dataframe tbody tr th:only-of-type {\n",
       "        vertical-align: middle;\n",
       "    }\n",
       "\n",
       "    .dataframe tbody tr th {\n",
       "        vertical-align: top;\n",
       "    }\n",
       "\n",
       "    .dataframe thead th {\n",
       "        text-align: right;\n",
       "    }\n",
       "</style>\n",
       "<table border=\"1\" class=\"dataframe\">\n",
       "  <thead>\n",
       "    <tr style=\"text-align: right;\">\n",
       "      <th></th>\n",
       "      <th>sentiment</th>\n",
       "      <th>review</th>\n",
       "      <th>clean_review</th>\n",
       "    </tr>\n",
       "  </thead>\n",
       "  <tbody>\n",
       "    <tr>\n",
       "      <th>0</th>\n",
       "      <td>1</td>\n",
       "      <td>Good but need updates and improvements</td>\n",
       "      <td>good but need updates and improvements</td>\n",
       "    </tr>\n",
       "    <tr>\n",
       "      <th>1</th>\n",
       "      <td>0</td>\n",
       "      <td>Worst mobile i have bought ever, Battery is dr...</td>\n",
       "      <td>worst mobile i have bought ever battery is dra...</td>\n",
       "    </tr>\n",
       "    <tr>\n",
       "      <th>2</th>\n",
       "      <td>1</td>\n",
       "      <td>when I will get my 10% cash back.... its alrea...</td>\n",
       "      <td>when i will get my cash back its already january</td>\n",
       "    </tr>\n",
       "    <tr>\n",
       "      <th>3</th>\n",
       "      <td>1</td>\n",
       "      <td>Good</td>\n",
       "      <td>good</td>\n",
       "    </tr>\n",
       "    <tr>\n",
       "      <th>4</th>\n",
       "      <td>0</td>\n",
       "      <td>The worst phone everThey have changed the last...</td>\n",
       "      <td>the worst phone everthey have changed the last...</td>\n",
       "    </tr>\n",
       "  </tbody>\n",
       "</table>\n",
       "</div>\n",
       "      <button class=\"colab-df-convert\" onclick=\"convertToInteractive('df-e5eb3e3a-e9db-4242-8cfa-44f2838e731d')\"\n",
       "              title=\"Convert this dataframe to an interactive table.\"\n",
       "              style=\"display:none;\">\n",
       "        \n",
       "  <svg xmlns=\"http://www.w3.org/2000/svg\" height=\"24px\"viewBox=\"0 0 24 24\"\n",
       "       width=\"24px\">\n",
       "    <path d=\"M0 0h24v24H0V0z\" fill=\"none\"/>\n",
       "    <path d=\"M18.56 5.44l.94 2.06.94-2.06 2.06-.94-2.06-.94-.94-2.06-.94 2.06-2.06.94zm-11 1L8.5 8.5l.94-2.06 2.06-.94-2.06-.94L8.5 2.5l-.94 2.06-2.06.94zm10 10l.94 2.06.94-2.06 2.06-.94-2.06-.94-.94-2.06-.94 2.06-2.06.94z\"/><path d=\"M17.41 7.96l-1.37-1.37c-.4-.4-.92-.59-1.43-.59-.52 0-1.04.2-1.43.59L10.3 9.45l-7.72 7.72c-.78.78-.78 2.05 0 2.83L4 21.41c.39.39.9.59 1.41.59.51 0 1.02-.2 1.41-.59l7.78-7.78 2.81-2.81c.8-.78.8-2.07 0-2.86zM5.41 20L4 18.59l7.72-7.72 1.47 1.35L5.41 20z\"/>\n",
       "  </svg>\n",
       "      </button>\n",
       "      \n",
       "  <style>\n",
       "    .colab-df-container {\n",
       "      display:flex;\n",
       "      flex-wrap:wrap;\n",
       "      gap: 12px;\n",
       "    }\n",
       "\n",
       "    .colab-df-convert {\n",
       "      background-color: #E8F0FE;\n",
       "      border: none;\n",
       "      border-radius: 50%;\n",
       "      cursor: pointer;\n",
       "      display: none;\n",
       "      fill: #1967D2;\n",
       "      height: 32px;\n",
       "      padding: 0 0 0 0;\n",
       "      width: 32px;\n",
       "    }\n",
       "\n",
       "    .colab-df-convert:hover {\n",
       "      background-color: #E2EBFA;\n",
       "      box-shadow: 0px 1px 2px rgba(60, 64, 67, 0.3), 0px 1px 3px 1px rgba(60, 64, 67, 0.15);\n",
       "      fill: #174EA6;\n",
       "    }\n",
       "\n",
       "    [theme=dark] .colab-df-convert {\n",
       "      background-color: #3B4455;\n",
       "      fill: #D2E3FC;\n",
       "    }\n",
       "\n",
       "    [theme=dark] .colab-df-convert:hover {\n",
       "      background-color: #434B5C;\n",
       "      box-shadow: 0px 1px 3px 1px rgba(0, 0, 0, 0.15);\n",
       "      filter: drop-shadow(0px 1px 2px rgba(0, 0, 0, 0.3));\n",
       "      fill: #FFFFFF;\n",
       "    }\n",
       "  </style>\n",
       "\n",
       "      <script>\n",
       "        const buttonEl =\n",
       "          document.querySelector('#df-e5eb3e3a-e9db-4242-8cfa-44f2838e731d button.colab-df-convert');\n",
       "        buttonEl.style.display =\n",
       "          google.colab.kernel.accessAllowed ? 'block' : 'none';\n",
       "\n",
       "        async function convertToInteractive(key) {\n",
       "          const element = document.querySelector('#df-e5eb3e3a-e9db-4242-8cfa-44f2838e731d');\n",
       "          const dataTable =\n",
       "            await google.colab.kernel.invokeFunction('convertToInteractive',\n",
       "                                                     [key], {});\n",
       "          if (!dataTable) return;\n",
       "\n",
       "          const docLinkHtml = 'Like what you see? Visit the ' +\n",
       "            '<a target=\"_blank\" href=https://colab.research.google.com/notebooks/data_table.ipynb>data table notebook</a>'\n",
       "            + ' to learn more about interactive tables.';\n",
       "          element.innerHTML = '';\n",
       "          dataTable['output_type'] = 'display_data';\n",
       "          await google.colab.output.renderOutput(dataTable, element);\n",
       "          const docLink = document.createElement('div');\n",
       "          docLink.innerHTML = docLinkHtml;\n",
       "          element.appendChild(docLink);\n",
       "        }\n",
       "      </script>\n",
       "    </div>\n",
       "  </div>\n",
       "  "
      ],
      "text/plain": [
       "   sentiment                                             review  \\\n",
       "0          1             Good but need updates and improvements   \n",
       "1          0  Worst mobile i have bought ever, Battery is dr...   \n",
       "2          1  when I will get my 10% cash back.... its alrea...   \n",
       "3          1                                               Good   \n",
       "4          0  The worst phone everThey have changed the last...   \n",
       "\n",
       "                                        clean_review  \n",
       "0             good but need updates and improvements  \n",
       "1  worst mobile i have bought ever battery is dra...  \n",
       "2  when i will get my cash back its already january   \n",
       "3                                               good  \n",
       "4  the worst phone everthey have changed the last...  "
      ]
     },
     "execution_count": 9,
     "metadata": {},
     "output_type": "execute_result"
    }
   ],
   "source": [
    "AnaReviews_df['clean_review'] = AnaReviews_df['clean_review'].str.replace(r'\\s{2,}', ' ',regex=True)\n",
    "AnaReviews_df.head()"
   ]
  },
  {
   "cell_type": "markdown",
   "metadata": {
    "id": "Dg3NJhaY4oPA"
   },
   "source": [
    "\n",
    "Task 3: TOKENIZATION"
   ]
  },
  {
   "cell_type": "code",
   "execution_count": 10,
   "metadata": {
    "colab": {
     "base_uri": "https://localhost:8080/",
     "height": 206
    },
    "id": "VmE1tMlL4q6R",
    "outputId": "7fb59fe3-7867-4a5d-f76d-ff357703c2de"
   },
   "outputs": [
    {
     "data": {
      "text/html": [
       "\n",
       "  <div id=\"df-caa5cb85-817b-4294-b777-48dcb3bf206f\">\n",
       "    <div class=\"colab-df-container\">\n",
       "      <div>\n",
       "<style scoped>\n",
       "    .dataframe tbody tr th:only-of-type {\n",
       "        vertical-align: middle;\n",
       "    }\n",
       "\n",
       "    .dataframe tbody tr th {\n",
       "        vertical-align: top;\n",
       "    }\n",
       "\n",
       "    .dataframe thead th {\n",
       "        text-align: right;\n",
       "    }\n",
       "</style>\n",
       "<table border=\"1\" class=\"dataframe\">\n",
       "  <thead>\n",
       "    <tr style=\"text-align: right;\">\n",
       "      <th></th>\n",
       "      <th>sentiment</th>\n",
       "      <th>review</th>\n",
       "      <th>clean_review</th>\n",
       "    </tr>\n",
       "  </thead>\n",
       "  <tbody>\n",
       "    <tr>\n",
       "      <th>0</th>\n",
       "      <td>1</td>\n",
       "      <td>Good but need updates and improvements</td>\n",
       "      <td>[good, but, need, updates, and, improvements]</td>\n",
       "    </tr>\n",
       "    <tr>\n",
       "      <th>1</th>\n",
       "      <td>0</td>\n",
       "      <td>Worst mobile i have bought ever, Battery is dr...</td>\n",
       "      <td>[worst, mobile, i, have, bought, ever, battery...</td>\n",
       "    </tr>\n",
       "    <tr>\n",
       "      <th>2</th>\n",
       "      <td>1</td>\n",
       "      <td>when I will get my 10% cash back.... its alrea...</td>\n",
       "      <td>[when, i, will, get, my, cash, back, its, alre...</td>\n",
       "    </tr>\n",
       "    <tr>\n",
       "      <th>3</th>\n",
       "      <td>1</td>\n",
       "      <td>Good</td>\n",
       "      <td>[good]</td>\n",
       "    </tr>\n",
       "    <tr>\n",
       "      <th>4</th>\n",
       "      <td>0</td>\n",
       "      <td>The worst phone everThey have changed the last...</td>\n",
       "      <td>[the, worst, phone, everthey, have, changed, t...</td>\n",
       "    </tr>\n",
       "  </tbody>\n",
       "</table>\n",
       "</div>\n",
       "      <button class=\"colab-df-convert\" onclick=\"convertToInteractive('df-caa5cb85-817b-4294-b777-48dcb3bf206f')\"\n",
       "              title=\"Convert this dataframe to an interactive table.\"\n",
       "              style=\"display:none;\">\n",
       "        \n",
       "  <svg xmlns=\"http://www.w3.org/2000/svg\" height=\"24px\"viewBox=\"0 0 24 24\"\n",
       "       width=\"24px\">\n",
       "    <path d=\"M0 0h24v24H0V0z\" fill=\"none\"/>\n",
       "    <path d=\"M18.56 5.44l.94 2.06.94-2.06 2.06-.94-2.06-.94-.94-2.06-.94 2.06-2.06.94zm-11 1L8.5 8.5l.94-2.06 2.06-.94-2.06-.94L8.5 2.5l-.94 2.06-2.06.94zm10 10l.94 2.06.94-2.06 2.06-.94-2.06-.94-.94-2.06-.94 2.06-2.06.94z\"/><path d=\"M17.41 7.96l-1.37-1.37c-.4-.4-.92-.59-1.43-.59-.52 0-1.04.2-1.43.59L10.3 9.45l-7.72 7.72c-.78.78-.78 2.05 0 2.83L4 21.41c.39.39.9.59 1.41.59.51 0 1.02-.2 1.41-.59l7.78-7.78 2.81-2.81c.8-.78.8-2.07 0-2.86zM5.41 20L4 18.59l7.72-7.72 1.47 1.35L5.41 20z\"/>\n",
       "  </svg>\n",
       "      </button>\n",
       "      \n",
       "  <style>\n",
       "    .colab-df-container {\n",
       "      display:flex;\n",
       "      flex-wrap:wrap;\n",
       "      gap: 12px;\n",
       "    }\n",
       "\n",
       "    .colab-df-convert {\n",
       "      background-color: #E8F0FE;\n",
       "      border: none;\n",
       "      border-radius: 50%;\n",
       "      cursor: pointer;\n",
       "      display: none;\n",
       "      fill: #1967D2;\n",
       "      height: 32px;\n",
       "      padding: 0 0 0 0;\n",
       "      width: 32px;\n",
       "    }\n",
       "\n",
       "    .colab-df-convert:hover {\n",
       "      background-color: #E2EBFA;\n",
       "      box-shadow: 0px 1px 2px rgba(60, 64, 67, 0.3), 0px 1px 3px 1px rgba(60, 64, 67, 0.15);\n",
       "      fill: #174EA6;\n",
       "    }\n",
       "\n",
       "    [theme=dark] .colab-df-convert {\n",
       "      background-color: #3B4455;\n",
       "      fill: #D2E3FC;\n",
       "    }\n",
       "\n",
       "    [theme=dark] .colab-df-convert:hover {\n",
       "      background-color: #434B5C;\n",
       "      box-shadow: 0px 1px 3px 1px rgba(0, 0, 0, 0.15);\n",
       "      filter: drop-shadow(0px 1px 2px rgba(0, 0, 0, 0.3));\n",
       "      fill: #FFFFFF;\n",
       "    }\n",
       "  </style>\n",
       "\n",
       "      <script>\n",
       "        const buttonEl =\n",
       "          document.querySelector('#df-caa5cb85-817b-4294-b777-48dcb3bf206f button.colab-df-convert');\n",
       "        buttonEl.style.display =\n",
       "          google.colab.kernel.accessAllowed ? 'block' : 'none';\n",
       "\n",
       "        async function convertToInteractive(key) {\n",
       "          const element = document.querySelector('#df-caa5cb85-817b-4294-b777-48dcb3bf206f');\n",
       "          const dataTable =\n",
       "            await google.colab.kernel.invokeFunction('convertToInteractive',\n",
       "                                                     [key], {});\n",
       "          if (!dataTable) return;\n",
       "\n",
       "          const docLinkHtml = 'Like what you see? Visit the ' +\n",
       "            '<a target=\"_blank\" href=https://colab.research.google.com/notebooks/data_table.ipynb>data table notebook</a>'\n",
       "            + ' to learn more about interactive tables.';\n",
       "          element.innerHTML = '';\n",
       "          dataTable['output_type'] = 'display_data';\n",
       "          await google.colab.output.renderOutput(dataTable, element);\n",
       "          const docLink = document.createElement('div');\n",
       "          docLink.innerHTML = docLinkHtml;\n",
       "          element.appendChild(docLink);\n",
       "        }\n",
       "      </script>\n",
       "    </div>\n",
       "  </div>\n",
       "  "
      ],
      "text/plain": [
       "   sentiment                                             review  \\\n",
       "0          1             Good but need updates and improvements   \n",
       "1          0  Worst mobile i have bought ever, Battery is dr...   \n",
       "2          1  when I will get my 10% cash back.... its alrea...   \n",
       "3          1                                               Good   \n",
       "4          0  The worst phone everThey have changed the last...   \n",
       "\n",
       "                                        clean_review  \n",
       "0      [good, but, need, updates, and, improvements]  \n",
       "1  [worst, mobile, i, have, bought, ever, battery...  \n",
       "2  [when, i, will, get, my, cash, back, its, alre...  \n",
       "3                                             [good]  \n",
       "4  [the, worst, phone, everthey, have, changed, t...  "
      ]
     },
     "execution_count": 10,
     "metadata": {},
     "output_type": "execute_result"
    }
   ],
   "source": [
    "AnaReviews_df['clean_review'] = AnaReviews_df['clean_review'].apply(lambda x: word_tokenize(x))\n",
    "AnaReviews_df.head()"
   ]
  },
  {
   "cell_type": "markdown",
   "metadata": {
    "id": "SaX22tvO-aPq"
   },
   "source": [
    "Task 7: REMOVE UNNECESSARY WORDS - Stop words"
   ]
  },
  {
   "cell_type": "code",
   "execution_count": 11,
   "metadata": {
    "colab": {
     "base_uri": "https://localhost:8080/",
     "height": 206
    },
    "id": "wtgJOgXd-cnQ",
    "outputId": "33faa9c4-7f54-442a-db5f-bcafd1209e70"
   },
   "outputs": [
    {
     "data": {
      "text/html": [
       "\n",
       "  <div id=\"df-b2b6270f-3de2-476e-8892-1a5f17bbbeb1\">\n",
       "    <div class=\"colab-df-container\">\n",
       "      <div>\n",
       "<style scoped>\n",
       "    .dataframe tbody tr th:only-of-type {\n",
       "        vertical-align: middle;\n",
       "    }\n",
       "\n",
       "    .dataframe tbody tr th {\n",
       "        vertical-align: top;\n",
       "    }\n",
       "\n",
       "    .dataframe thead th {\n",
       "        text-align: right;\n",
       "    }\n",
       "</style>\n",
       "<table border=\"1\" class=\"dataframe\">\n",
       "  <thead>\n",
       "    <tr style=\"text-align: right;\">\n",
       "      <th></th>\n",
       "      <th>sentiment</th>\n",
       "      <th>review</th>\n",
       "      <th>clean_review</th>\n",
       "    </tr>\n",
       "  </thead>\n",
       "  <tbody>\n",
       "    <tr>\n",
       "      <th>0</th>\n",
       "      <td>1</td>\n",
       "      <td>Good but need updates and improvements</td>\n",
       "      <td>[good, need, updates, improvements]</td>\n",
       "    </tr>\n",
       "    <tr>\n",
       "      <th>1</th>\n",
       "      <td>0</td>\n",
       "      <td>Worst mobile i have bought ever, Battery is dr...</td>\n",
       "      <td>[worst, mobile, bought, ever, battery, drainin...</td>\n",
       "    </tr>\n",
       "    <tr>\n",
       "      <th>2</th>\n",
       "      <td>1</td>\n",
       "      <td>when I will get my 10% cash back.... its alrea...</td>\n",
       "      <td>[cash, back, already, january]</td>\n",
       "    </tr>\n",
       "    <tr>\n",
       "      <th>3</th>\n",
       "      <td>1</td>\n",
       "      <td>Good</td>\n",
       "      <td>[good]</td>\n",
       "    </tr>\n",
       "    <tr>\n",
       "      <th>4</th>\n",
       "      <td>0</td>\n",
       "      <td>The worst phone everThey have changed the last...</td>\n",
       "      <td>[worst, phone, everthey, changed, last, phone,...</td>\n",
       "    </tr>\n",
       "  </tbody>\n",
       "</table>\n",
       "</div>\n",
       "      <button class=\"colab-df-convert\" onclick=\"convertToInteractive('df-b2b6270f-3de2-476e-8892-1a5f17bbbeb1')\"\n",
       "              title=\"Convert this dataframe to an interactive table.\"\n",
       "              style=\"display:none;\">\n",
       "        \n",
       "  <svg xmlns=\"http://www.w3.org/2000/svg\" height=\"24px\"viewBox=\"0 0 24 24\"\n",
       "       width=\"24px\">\n",
       "    <path d=\"M0 0h24v24H0V0z\" fill=\"none\"/>\n",
       "    <path d=\"M18.56 5.44l.94 2.06.94-2.06 2.06-.94-2.06-.94-.94-2.06-.94 2.06-2.06.94zm-11 1L8.5 8.5l.94-2.06 2.06-.94-2.06-.94L8.5 2.5l-.94 2.06-2.06.94zm10 10l.94 2.06.94-2.06 2.06-.94-2.06-.94-.94-2.06-.94 2.06-2.06.94z\"/><path d=\"M17.41 7.96l-1.37-1.37c-.4-.4-.92-.59-1.43-.59-.52 0-1.04.2-1.43.59L10.3 9.45l-7.72 7.72c-.78.78-.78 2.05 0 2.83L4 21.41c.39.39.9.59 1.41.59.51 0 1.02-.2 1.41-.59l7.78-7.78 2.81-2.81c.8-.78.8-2.07 0-2.86zM5.41 20L4 18.59l7.72-7.72 1.47 1.35L5.41 20z\"/>\n",
       "  </svg>\n",
       "      </button>\n",
       "      \n",
       "  <style>\n",
       "    .colab-df-container {\n",
       "      display:flex;\n",
       "      flex-wrap:wrap;\n",
       "      gap: 12px;\n",
       "    }\n",
       "\n",
       "    .colab-df-convert {\n",
       "      background-color: #E8F0FE;\n",
       "      border: none;\n",
       "      border-radius: 50%;\n",
       "      cursor: pointer;\n",
       "      display: none;\n",
       "      fill: #1967D2;\n",
       "      height: 32px;\n",
       "      padding: 0 0 0 0;\n",
       "      width: 32px;\n",
       "    }\n",
       "\n",
       "    .colab-df-convert:hover {\n",
       "      background-color: #E2EBFA;\n",
       "      box-shadow: 0px 1px 2px rgba(60, 64, 67, 0.3), 0px 1px 3px 1px rgba(60, 64, 67, 0.15);\n",
       "      fill: #174EA6;\n",
       "    }\n",
       "\n",
       "    [theme=dark] .colab-df-convert {\n",
       "      background-color: #3B4455;\n",
       "      fill: #D2E3FC;\n",
       "    }\n",
       "\n",
       "    [theme=dark] .colab-df-convert:hover {\n",
       "      background-color: #434B5C;\n",
       "      box-shadow: 0px 1px 3px 1px rgba(0, 0, 0, 0.15);\n",
       "      filter: drop-shadow(0px 1px 2px rgba(0, 0, 0, 0.3));\n",
       "      fill: #FFFFFF;\n",
       "    }\n",
       "  </style>\n",
       "\n",
       "      <script>\n",
       "        const buttonEl =\n",
       "          document.querySelector('#df-b2b6270f-3de2-476e-8892-1a5f17bbbeb1 button.colab-df-convert');\n",
       "        buttonEl.style.display =\n",
       "          google.colab.kernel.accessAllowed ? 'block' : 'none';\n",
       "\n",
       "        async function convertToInteractive(key) {\n",
       "          const element = document.querySelector('#df-b2b6270f-3de2-476e-8892-1a5f17bbbeb1');\n",
       "          const dataTable =\n",
       "            await google.colab.kernel.invokeFunction('convertToInteractive',\n",
       "                                                     [key], {});\n",
       "          if (!dataTable) return;\n",
       "\n",
       "          const docLinkHtml = 'Like what you see? Visit the ' +\n",
       "            '<a target=\"_blank\" href=https://colab.research.google.com/notebooks/data_table.ipynb>data table notebook</a>'\n",
       "            + ' to learn more about interactive tables.';\n",
       "          element.innerHTML = '';\n",
       "          dataTable['output_type'] = 'display_data';\n",
       "          await google.colab.output.renderOutput(dataTable, element);\n",
       "          const docLink = document.createElement('div');\n",
       "          docLink.innerHTML = docLinkHtml;\n",
       "          element.appendChild(docLink);\n",
       "        }\n",
       "      </script>\n",
       "    </div>\n",
       "  </div>\n",
       "  "
      ],
      "text/plain": [
       "   sentiment                                             review  \\\n",
       "0          1             Good but need updates and improvements   \n",
       "1          0  Worst mobile i have bought ever, Battery is dr...   \n",
       "2          1  when I will get my 10% cash back.... its alrea...   \n",
       "3          1                                               Good   \n",
       "4          0  The worst phone everThey have changed the last...   \n",
       "\n",
       "                                        clean_review  \n",
       "0                [good, need, updates, improvements]  \n",
       "1  [worst, mobile, bought, ever, battery, drainin...  \n",
       "2                     [cash, back, already, january]  \n",
       "3                                             [good]  \n",
       "4  [worst, phone, everthey, changed, last, phone,...  "
      ]
     },
     "execution_count": 11,
     "metadata": {},
     "output_type": "execute_result"
    }
   ],
   "source": [
    "AnaReviews_df['clean_review'] = AnaReviews_df['clean_review'].apply\\\n",
    "(lambda x:[word for word in x if word not in stopwords.words(\"english\") and len(word) > 3 and word.isalpha()])\n",
    "AnaReviews_df.head()"
   ]
  },
  {
   "cell_type": "code",
   "execution_count": 12,
   "metadata": {
    "id": "iJ2EyTXF_4i2"
   },
   "outputs": [],
   "source": [
    "AnaReviews_df = AnaReviews_df[AnaReviews_df['clean_review'].map(lambda x: len(x)) > 1].reset_index(drop=True)\n",
    "# Keeping records with more than single words"
   ]
  },
  {
   "cell_type": "markdown",
   "metadata": {
    "id": "FF-Wb2aN_I7e"
   },
   "source": [
    "Task 6: LEMMATIZATION"
   ]
  },
  {
   "cell_type": "code",
   "execution_count": 13,
   "metadata": {
    "colab": {
     "base_uri": "https://localhost:8080/",
     "height": 206
    },
    "id": "8eRkCrZmAJER",
    "outputId": "4e0fd609-2730-4efe-8a58-313e5b07ca3a"
   },
   "outputs": [
    {
     "data": {
      "text/html": [
       "\n",
       "  <div id=\"df-48a97d3d-efe0-4339-bd20-c3503a4de2ad\">\n",
       "    <div class=\"colab-df-container\">\n",
       "      <div>\n",
       "<style scoped>\n",
       "    .dataframe tbody tr th:only-of-type {\n",
       "        vertical-align: middle;\n",
       "    }\n",
       "\n",
       "    .dataframe tbody tr th {\n",
       "        vertical-align: top;\n",
       "    }\n",
       "\n",
       "    .dataframe thead th {\n",
       "        text-align: right;\n",
       "    }\n",
       "</style>\n",
       "<table border=\"1\" class=\"dataframe\">\n",
       "  <thead>\n",
       "    <tr style=\"text-align: right;\">\n",
       "      <th></th>\n",
       "      <th>sentiment</th>\n",
       "      <th>review</th>\n",
       "      <th>clean_review</th>\n",
       "    </tr>\n",
       "  </thead>\n",
       "  <tbody>\n",
       "    <tr>\n",
       "      <th>0</th>\n",
       "      <td>1</td>\n",
       "      <td>Good but need updates and improvements</td>\n",
       "      <td>[good, need, update, improvement]</td>\n",
       "    </tr>\n",
       "    <tr>\n",
       "      <th>1</th>\n",
       "      <td>0</td>\n",
       "      <td>Worst mobile i have bought ever, Battery is dr...</td>\n",
       "      <td>[worst, mobile, bought, ever, battery, drainin...</td>\n",
       "    </tr>\n",
       "    <tr>\n",
       "      <th>2</th>\n",
       "      <td>1</td>\n",
       "      <td>when I will get my 10% cash back.... its alrea...</td>\n",
       "      <td>[cash, back, already, january]</td>\n",
       "    </tr>\n",
       "    <tr>\n",
       "      <th>3</th>\n",
       "      <td>0</td>\n",
       "      <td>The worst phone everThey have changed the last...</td>\n",
       "      <td>[worst, phone, everthey, changed, last, phone,...</td>\n",
       "    </tr>\n",
       "    <tr>\n",
       "      <th>4</th>\n",
       "      <td>0</td>\n",
       "      <td>Only I'm telling don't buyI'm totally disappoi...</td>\n",
       "      <td>[telling, buyi, totally, disappointedpoor, bat...</td>\n",
       "    </tr>\n",
       "  </tbody>\n",
       "</table>\n",
       "</div>\n",
       "      <button class=\"colab-df-convert\" onclick=\"convertToInteractive('df-48a97d3d-efe0-4339-bd20-c3503a4de2ad')\"\n",
       "              title=\"Convert this dataframe to an interactive table.\"\n",
       "              style=\"display:none;\">\n",
       "        \n",
       "  <svg xmlns=\"http://www.w3.org/2000/svg\" height=\"24px\"viewBox=\"0 0 24 24\"\n",
       "       width=\"24px\">\n",
       "    <path d=\"M0 0h24v24H0V0z\" fill=\"none\"/>\n",
       "    <path d=\"M18.56 5.44l.94 2.06.94-2.06 2.06-.94-2.06-.94-.94-2.06-.94 2.06-2.06.94zm-11 1L8.5 8.5l.94-2.06 2.06-.94-2.06-.94L8.5 2.5l-.94 2.06-2.06.94zm10 10l.94 2.06.94-2.06 2.06-.94-2.06-.94-.94-2.06-.94 2.06-2.06.94z\"/><path d=\"M17.41 7.96l-1.37-1.37c-.4-.4-.92-.59-1.43-.59-.52 0-1.04.2-1.43.59L10.3 9.45l-7.72 7.72c-.78.78-.78 2.05 0 2.83L4 21.41c.39.39.9.59 1.41.59.51 0 1.02-.2 1.41-.59l7.78-7.78 2.81-2.81c.8-.78.8-2.07 0-2.86zM5.41 20L4 18.59l7.72-7.72 1.47 1.35L5.41 20z\"/>\n",
       "  </svg>\n",
       "      </button>\n",
       "      \n",
       "  <style>\n",
       "    .colab-df-container {\n",
       "      display:flex;\n",
       "      flex-wrap:wrap;\n",
       "      gap: 12px;\n",
       "    }\n",
       "\n",
       "    .colab-df-convert {\n",
       "      background-color: #E8F0FE;\n",
       "      border: none;\n",
       "      border-radius: 50%;\n",
       "      cursor: pointer;\n",
       "      display: none;\n",
       "      fill: #1967D2;\n",
       "      height: 32px;\n",
       "      padding: 0 0 0 0;\n",
       "      width: 32px;\n",
       "    }\n",
       "\n",
       "    .colab-df-convert:hover {\n",
       "      background-color: #E2EBFA;\n",
       "      box-shadow: 0px 1px 2px rgba(60, 64, 67, 0.3), 0px 1px 3px 1px rgba(60, 64, 67, 0.15);\n",
       "      fill: #174EA6;\n",
       "    }\n",
       "\n",
       "    [theme=dark] .colab-df-convert {\n",
       "      background-color: #3B4455;\n",
       "      fill: #D2E3FC;\n",
       "    }\n",
       "\n",
       "    [theme=dark] .colab-df-convert:hover {\n",
       "      background-color: #434B5C;\n",
       "      box-shadow: 0px 1px 3px 1px rgba(0, 0, 0, 0.15);\n",
       "      filter: drop-shadow(0px 1px 2px rgba(0, 0, 0, 0.3));\n",
       "      fill: #FFFFFF;\n",
       "    }\n",
       "  </style>\n",
       "\n",
       "      <script>\n",
       "        const buttonEl =\n",
       "          document.querySelector('#df-48a97d3d-efe0-4339-bd20-c3503a4de2ad button.colab-df-convert');\n",
       "        buttonEl.style.display =\n",
       "          google.colab.kernel.accessAllowed ? 'block' : 'none';\n",
       "\n",
       "        async function convertToInteractive(key) {\n",
       "          const element = document.querySelector('#df-48a97d3d-efe0-4339-bd20-c3503a4de2ad');\n",
       "          const dataTable =\n",
       "            await google.colab.kernel.invokeFunction('convertToInteractive',\n",
       "                                                     [key], {});\n",
       "          if (!dataTable) return;\n",
       "\n",
       "          const docLinkHtml = 'Like what you see? Visit the ' +\n",
       "            '<a target=\"_blank\" href=https://colab.research.google.com/notebooks/data_table.ipynb>data table notebook</a>'\n",
       "            + ' to learn more about interactive tables.';\n",
       "          element.innerHTML = '';\n",
       "          dataTable['output_type'] = 'display_data';\n",
       "          await google.colab.output.renderOutput(dataTable, element);\n",
       "          const docLink = document.createElement('div');\n",
       "          docLink.innerHTML = docLinkHtml;\n",
       "          element.appendChild(docLink);\n",
       "        }\n",
       "      </script>\n",
       "    </div>\n",
       "  </div>\n",
       "  "
      ],
      "text/plain": [
       "   sentiment                                             review  \\\n",
       "0          1             Good but need updates and improvements   \n",
       "1          0  Worst mobile i have bought ever, Battery is dr...   \n",
       "2          1  when I will get my 10% cash back.... its alrea...   \n",
       "3          0  The worst phone everThey have changed the last...   \n",
       "4          0  Only I'm telling don't buyI'm totally disappoi...   \n",
       "\n",
       "                                        clean_review  \n",
       "0                  [good, need, update, improvement]  \n",
       "1  [worst, mobile, bought, ever, battery, drainin...  \n",
       "2                     [cash, back, already, january]  \n",
       "3  [worst, phone, everthey, changed, last, phone,...  \n",
       "4  [telling, buyi, totally, disappointedpoor, bat...  "
      ]
     },
     "execution_count": 13,
     "metadata": {},
     "output_type": "execute_result"
    }
   ],
   "source": [
    "AnaReviews_df['clean_review'] = AnaReviews_df['clean_review'].apply\\\n",
    "(lambda x: [WordNetLemmatizer().lemmatize(word) for word in x])\n",
    "AnaReviews_df.head()"
   ]
  },
  {
   "cell_type": "markdown",
   "metadata": {
    "id": "OJpKCQxSA3Pk"
   },
   "source": [
    "Task 4: Perform parts-of-speech tagging on each sentence using the NLTK POS tagger."
   ]
  },
  {
   "cell_type": "code",
   "execution_count": 14,
   "metadata": {
    "colab": {
     "base_uri": "https://localhost:8080/"
    },
    "id": "yNGnPnPaA4xi",
    "outputId": "2fcde27d-bb5c-4da0-fb52-9b8df37edfa2"
   },
   "outputs": [
    {
     "name": "stdout",
     "output_type": "stream",
     "text": [
      "[nltk_data] Downloading package averaged_perceptron_tagger to\n",
      "[nltk_data]     /root/nltk_data...\n",
      "[nltk_data]   Unzipping taggers/averaged_perceptron_tagger.zip.\n"
     ]
    },
    {
     "data": {
      "text/plain": [
       "True"
      ]
     },
     "execution_count": 14,
     "metadata": {},
     "output_type": "execute_result"
    }
   ],
   "source": [
    "nltk.download('averaged_perceptron_tagger')"
   ]
  },
  {
   "cell_type": "markdown",
   "metadata": {
    "id": "q4xoodhQQ48Y"
   },
   "source": [
    "task 5: Extracting only NOUN"
   ]
  },
  {
   "cell_type": "code",
   "execution_count": 15,
   "metadata": {
    "id": "p5EKai0lBDZM"
   },
   "outputs": [],
   "source": [
    "AnaReviews_df['clean_review'] = AnaReviews_df['clean_review'].apply\\\n",
    "(lambda x: [word for word in x if nltk.pos_tag([word])[0][1] == 'NN'])"
   ]
  },
  {
   "cell_type": "code",
   "execution_count": 16,
   "metadata": {
    "id": "0ECYIiLiByuv"
   },
   "outputs": [],
   "source": [
    "AnaReviews_df = AnaReviews_df[AnaReviews_df['clean_review'].map(lambda x: len(x)) > 1].reset_index(drop=True)\n",
    "# Keeping records with more than single words"
   ]
  },
  {
   "cell_type": "code",
   "execution_count": 17,
   "metadata": {
    "colab": {
     "base_uri": "https://localhost:8080/",
     "height": 206
    },
    "id": "J8pHo3wqCQft",
    "outputId": "c501003f-0872-4c47-ec54-a084452c2828"
   },
   "outputs": [
    {
     "data": {
      "text/html": [
       "\n",
       "  <div id=\"df-f012f424-4a98-4e43-92e1-1dabc6acbb7a\">\n",
       "    <div class=\"colab-df-container\">\n",
       "      <div>\n",
       "<style scoped>\n",
       "    .dataframe tbody tr th:only-of-type {\n",
       "        vertical-align: middle;\n",
       "    }\n",
       "\n",
       "    .dataframe tbody tr th {\n",
       "        vertical-align: top;\n",
       "    }\n",
       "\n",
       "    .dataframe thead th {\n",
       "        text-align: right;\n",
       "    }\n",
       "</style>\n",
       "<table border=\"1\" class=\"dataframe\">\n",
       "  <thead>\n",
       "    <tr style=\"text-align: right;\">\n",
       "      <th></th>\n",
       "      <th>sentiment</th>\n",
       "      <th>review</th>\n",
       "      <th>clean_review</th>\n",
       "    </tr>\n",
       "  </thead>\n",
       "  <tbody>\n",
       "    <tr>\n",
       "      <th>0</th>\n",
       "      <td>1</td>\n",
       "      <td>Good but need updates and improvements</td>\n",
       "      <td>[need, update, improvement]</td>\n",
       "    </tr>\n",
       "    <tr>\n",
       "      <th>1</th>\n",
       "      <td>0</td>\n",
       "      <td>Worst mobile i have bought ever, Battery is dr...</td>\n",
       "      <td>[mobile, bought, battery, hell, backup, hour, ...</td>\n",
       "    </tr>\n",
       "    <tr>\n",
       "      <th>2</th>\n",
       "      <td>1</td>\n",
       "      <td>when I will get my 10% cash back.... its alrea...</td>\n",
       "      <td>[cash, january]</td>\n",
       "    </tr>\n",
       "    <tr>\n",
       "      <th>3</th>\n",
       "      <td>0</td>\n",
       "      <td>The worst phone everThey have changed the last...</td>\n",
       "      <td>[phone, everthey, phone, problem, amazon, phon...</td>\n",
       "    </tr>\n",
       "    <tr>\n",
       "      <th>4</th>\n",
       "      <td>0</td>\n",
       "      <td>Only I'm telling don't buyI'm totally disappoi...</td>\n",
       "      <td>[buyi, disappointedpoor, batterypoor, camerawa...</td>\n",
       "    </tr>\n",
       "  </tbody>\n",
       "</table>\n",
       "</div>\n",
       "      <button class=\"colab-df-convert\" onclick=\"convertToInteractive('df-f012f424-4a98-4e43-92e1-1dabc6acbb7a')\"\n",
       "              title=\"Convert this dataframe to an interactive table.\"\n",
       "              style=\"display:none;\">\n",
       "        \n",
       "  <svg xmlns=\"http://www.w3.org/2000/svg\" height=\"24px\"viewBox=\"0 0 24 24\"\n",
       "       width=\"24px\">\n",
       "    <path d=\"M0 0h24v24H0V0z\" fill=\"none\"/>\n",
       "    <path d=\"M18.56 5.44l.94 2.06.94-2.06 2.06-.94-2.06-.94-.94-2.06-.94 2.06-2.06.94zm-11 1L8.5 8.5l.94-2.06 2.06-.94-2.06-.94L8.5 2.5l-.94 2.06-2.06.94zm10 10l.94 2.06.94-2.06 2.06-.94-2.06-.94-.94-2.06-.94 2.06-2.06.94z\"/><path d=\"M17.41 7.96l-1.37-1.37c-.4-.4-.92-.59-1.43-.59-.52 0-1.04.2-1.43.59L10.3 9.45l-7.72 7.72c-.78.78-.78 2.05 0 2.83L4 21.41c.39.39.9.59 1.41.59.51 0 1.02-.2 1.41-.59l7.78-7.78 2.81-2.81c.8-.78.8-2.07 0-2.86zM5.41 20L4 18.59l7.72-7.72 1.47 1.35L5.41 20z\"/>\n",
       "  </svg>\n",
       "      </button>\n",
       "      \n",
       "  <style>\n",
       "    .colab-df-container {\n",
       "      display:flex;\n",
       "      flex-wrap:wrap;\n",
       "      gap: 12px;\n",
       "    }\n",
       "\n",
       "    .colab-df-convert {\n",
       "      background-color: #E8F0FE;\n",
       "      border: none;\n",
       "      border-radius: 50%;\n",
       "      cursor: pointer;\n",
       "      display: none;\n",
       "      fill: #1967D2;\n",
       "      height: 32px;\n",
       "      padding: 0 0 0 0;\n",
       "      width: 32px;\n",
       "    }\n",
       "\n",
       "    .colab-df-convert:hover {\n",
       "      background-color: #E2EBFA;\n",
       "      box-shadow: 0px 1px 2px rgba(60, 64, 67, 0.3), 0px 1px 3px 1px rgba(60, 64, 67, 0.15);\n",
       "      fill: #174EA6;\n",
       "    }\n",
       "\n",
       "    [theme=dark] .colab-df-convert {\n",
       "      background-color: #3B4455;\n",
       "      fill: #D2E3FC;\n",
       "    }\n",
       "\n",
       "    [theme=dark] .colab-df-convert:hover {\n",
       "      background-color: #434B5C;\n",
       "      box-shadow: 0px 1px 3px 1px rgba(0, 0, 0, 0.15);\n",
       "      filter: drop-shadow(0px 1px 2px rgba(0, 0, 0, 0.3));\n",
       "      fill: #FFFFFF;\n",
       "    }\n",
       "  </style>\n",
       "\n",
       "      <script>\n",
       "        const buttonEl =\n",
       "          document.querySelector('#df-f012f424-4a98-4e43-92e1-1dabc6acbb7a button.colab-df-convert');\n",
       "        buttonEl.style.display =\n",
       "          google.colab.kernel.accessAllowed ? 'block' : 'none';\n",
       "\n",
       "        async function convertToInteractive(key) {\n",
       "          const element = document.querySelector('#df-f012f424-4a98-4e43-92e1-1dabc6acbb7a');\n",
       "          const dataTable =\n",
       "            await google.colab.kernel.invokeFunction('convertToInteractive',\n",
       "                                                     [key], {});\n",
       "          if (!dataTable) return;\n",
       "\n",
       "          const docLinkHtml = 'Like what you see? Visit the ' +\n",
       "            '<a target=\"_blank\" href=https://colab.research.google.com/notebooks/data_table.ipynb>data table notebook</a>'\n",
       "            + ' to learn more about interactive tables.';\n",
       "          element.innerHTML = '';\n",
       "          dataTable['output_type'] = 'display_data';\n",
       "          await google.colab.output.renderOutput(dataTable, element);\n",
       "          const docLink = document.createElement('div');\n",
       "          docLink.innerHTML = docLinkHtml;\n",
       "          element.appendChild(docLink);\n",
       "        }\n",
       "      </script>\n",
       "    </div>\n",
       "  </div>\n",
       "  "
      ],
      "text/plain": [
       "   sentiment                                             review  \\\n",
       "0          1             Good but need updates and improvements   \n",
       "1          0  Worst mobile i have bought ever, Battery is dr...   \n",
       "2          1  when I will get my 10% cash back.... its alrea...   \n",
       "3          0  The worst phone everThey have changed the last...   \n",
       "4          0  Only I'm telling don't buyI'm totally disappoi...   \n",
       "\n",
       "                                        clean_review  \n",
       "0                        [need, update, improvement]  \n",
       "1  [mobile, bought, battery, hell, backup, hour, ...  \n",
       "2                                    [cash, january]  \n",
       "3  [phone, everthey, phone, problem, amazon, phon...  \n",
       "4  [buyi, disappointedpoor, batterypoor, camerawa...  "
      ]
     },
     "execution_count": 17,
     "metadata": {},
     "output_type": "execute_result"
    }
   ],
   "source": [
    "AnaReviews_df.head()"
   ]
  },
  {
   "cell_type": "code",
   "execution_count": 18,
   "metadata": {
    "colab": {
     "base_uri": "https://localhost:8080/"
    },
    "id": "fbHnlZZ1GN_S",
    "outputId": "dae48833-acac-4b21-d8fa-6f8038b1717a"
   },
   "outputs": [
    {
     "data": {
      "text/plain": [
       "0    6630\n",
       "1    4551\n",
       "Name: sentiment, dtype: int64"
      ]
     },
     "execution_count": 18,
     "metadata": {},
     "output_type": "execute_result"
    }
   ],
   "source": [
    "#check the sentiment labels as objective is to do topic modeling and not classification\n",
    "AnaReviews_df['sentiment'].value_counts()"
   ]
  },
  {
   "cell_type": "code",
   "execution_count": 19,
   "metadata": {
    "colab": {
     "base_uri": "https://localhost:8080/",
     "height": 301
    },
    "id": "W4uMNrtNHWaG",
    "outputId": "f2f76774-dc7f-46d4-9614-2062d01eafc3"
   },
   "outputs": [
    {
     "data": {
      "image/png": "[encoded data removed]",
      "text/plain": [
       "<Figure size 432x288 with 1 Axes>"
      ]
     },
     "metadata": {
      "needs_background": "light"
     },
     "output_type": "display_data"
    }
   ],
   "source": [
    "sns.countplot(AnaReviews_df['sentiment'])\n",
    "plt.title('Count of the review sentiments')\n",
    "plt.show()"
   ]
  },
  {
   "cell_type": "markdown",
   "metadata": {
    "id": "6XNp12xyHl1z"
   },
   "source": [
    "- Above Plot visulaization shows that there are well diffiened dataset as 0 and 1 sentiments count size  is not differing much Such balancing is helpful in modeling 'sentiment'"
   ]
  },
  {
   "cell_type": "code",
   "execution_count": 20,
   "metadata": {
    "colab": {
     "base_uri": "https://localhost:8080/"
    },
    "id": "czzDrWcrH4Rp",
    "outputId": "6e6fd416-2ff4-4459-c518-1c830ec86e14"
   },
   "outputs": [
    {
     "name": "stdout",
     "output_type": "stream",
     "text": [
      "Not very satisfied with it, it just capture some good images, apart that nothing is good in this phone..sometimes lags too much, msgs just gone disppear for while, sometimes doesnt show the contact Name, sometimes doesnt open the required app..before this phone. i was using Lenovo P2, i thought, lenovo has upgraded this phn with some extraordinary apps, but this phone dissapointed me..\n"
     ]
    }
   ],
   "source": [
    "#check randomly any of the reviews\n",
    "random = np.random.randint(1,len(AnaReviews_df))\n",
    "print(AnaReviews_df['review'][random])"
   ]
  },
  {
   "cell_type": "markdown",
   "metadata": {
    "id": "yS-Mc1b3H1iI"
   },
   "source": [
    "Document Term Matrix"
   ]
  },
  {
   "cell_type": "code",
   "execution_count": 21,
   "metadata": {
    "id": "-paGbH0Zj0x8"
   },
   "outputs": [],
   "source": [
    "#load the gensim library\n",
    "import gensim\n",
    "from gensim import corpora "
   ]
  },
  {
   "cell_type": "code",
   "execution_count": 22,
   "metadata": {
    "colab": {
     "base_uri": "https://localhost:8080/"
    },
    "id": "2FGkEXMmHUDn",
    "outputId": "b261e552-90cb-4895-d411-eba4b5d196c8"
   },
   "outputs": [
    {
     "name": "stdout",
     "output_type": "stream",
     "text": [
      "Dictionary(6724 unique tokens: ['improvement', 'need', 'update', 'amazon', 'backup']...)\n"
     ]
    }
   ],
   "source": [
    "dictionary = corpora.Dictionary(AnaReviews_df['clean_review'])\n",
    "print(dictionary)"
   ]
  },
  {
   "cell_type": "code",
   "execution_count": 23,
   "metadata": {
    "colab": {
     "base_uri": "https://localhost:8080/"
    },
    "id": "3J1V4nrtIm0M",
    "outputId": "3dcd054a-2c3b-4797-9668-4e64919f6e23"
   },
   "outputs": [
    {
     "data": {
      "text/plain": [
       "[0, 1, 2, 3, 4, 5, 6, 7, 8, 9]"
      ]
     },
     "execution_count": 23,
     "metadata": {},
     "output_type": "execute_result"
    }
   ],
   "source": [
    "dictionary.keys()[:10]"
   ]
  },
  {
   "cell_type": "code",
   "execution_count": 24,
   "metadata": {
    "colab": {
     "base_uri": "https://localhost:8080/"
    },
    "id": "X5aTL57DInDI",
    "outputId": "7ebe4f58-d679-4c03-e369-c630c3193b8c"
   },
   "outputs": [
    {
     "name": "stdout",
     "output_type": "stream",
     "text": [
      "0 improvement\n",
      "1 need\n",
      "2 update\n",
      "3 amazon\n",
      "4 backup\n",
      "5 battery\n",
      "6 booster\n",
      "7 bought\n",
      "8 charger\n",
      "9 fake\n",
      "10 hell\n"
     ]
    }
   ],
   "source": [
    "#print a few words in the dictionary\n",
    "count = 0\n",
    "for k,v in dictionary.iteritems():\n",
    "    print(k,v)\n",
    "    count = count + 1\n",
    "    if count > 10:\n",
    "        break"
   ]
  },
  {
   "cell_type": "code",
   "execution_count": 25,
   "metadata": {
    "colab": {
     "base_uri": "https://localhost:8080/"
    },
    "id": "WilqjqnxIEMs",
    "outputId": "e6fd3dbc-3612-482a-de90-b299daf42acb"
   },
   "outputs": [
    {
     "data": {
      "text/plain": [
       "0                             [(0, 1), (1, 1), (2, 1)]\n",
       "1    [(3, 1), (4, 1), (5, 2), (6, 1), (7, 1), (8, 1...\n",
       "2                                   [(19, 1), (20, 1)]\n",
       "3                  [(3, 2), (21, 1), (22, 3), (23, 1)]\n",
       "4        [(24, 1), (25, 1), (26, 1), (27, 1), (28, 1)]\n",
       "5    [(14, 1), (22, 1), (29, 1), (30, 1), (31, 1), ...\n",
       "6                           [(5, 1), (36, 1), (37, 1)]\n",
       "7    [(14, 2), (22, 2), (23, 2), (34, 1), (38, 1), ...\n",
       "8                 [(44, 1), (45, 1), (46, 1), (47, 1)]\n",
       "9                  [(8, 1), (22, 1), (48, 1), (49, 1)]\n",
       "Name: clean_review, dtype: object"
      ]
     },
     "execution_count": 25,
     "metadata": {},
     "output_type": "execute_result"
    }
   ],
   "source": [
    "doc_term_matrix = AnaReviews_df['clean_review'].apply(lambda x: dictionary.doc2bow(x))\n",
    "doc_term_matrix[:10]\n",
    "\n",
    "# Each tokenized words has been assigned index value and their count in corpus"
   ]
  },
  {
   "cell_type": "code",
   "execution_count": 26,
   "metadata": {
    "colab": {
     "base_uri": "https://localhost:8080/"
    },
    "id": "p7PzRkohK2MW",
    "outputId": "1235bbb6-98a9-4da5-bffb-70b177328e0b"
   },
   "outputs": [
    {
     "name": "stdout",
     "output_type": "stream",
     "text": [
      "Word 14 lenovo appears 2 times\n",
      "Word 22 phone appears 3 times\n",
      "Word 115 show appears 1 times\n",
      "Word 140 apps appears 1 times\n",
      "Word 142 contact appears 1 times\n",
      "Word 265 image appears 1 times\n",
      "Word 323 name appears 1 times\n",
      "Word 583 thought appears 1 times\n",
      "Word 605 nothing appears 1 times\n",
      "Word 627 lag appears 1 times\n",
      "Word 636 doesnt appears 2 times\n",
      "Word 931 capture appears 1 times\n",
      "Word 1863 msg appears 1 times\n",
      "Word 6041 disppear appears 1 times\n"
     ]
    }
   ],
   "source": [
    "document_num = random\n",
    "bow_doc_x = doc_term_matrix[random]\n",
    "\n",
    "for i in range(len(bow_doc_x)):\n",
    "    print(f'Word {bow_doc_x[i][0]} {dictionary[bow_doc_x[i][0]]} appears {bow_doc_x[i][1]} times')"
   ]
  },
  {
   "cell_type": "markdown",
   "metadata": {
    "id": "hlrc7amdLul-"
   },
   "source": [
    "Task 8: Topic model using LDA"
   ]
  },
  {
   "cell_type": "code",
   "execution_count": 27,
   "metadata": {
    "id": "f4sKFbM8LwjF"
   },
   "outputs": [],
   "source": [
    "from IPython.display import clear_output"
   ]
  },
  {
   "cell_type": "code",
   "execution_count": 28,
   "metadata": {
    "id": "XRVniy04L5zX"
   },
   "outputs": [],
   "source": [
    "Lda = gensim.models.ldamodel.LdaModel\n",
    "ldamodel = Lda(corpus=doc_term_matrix, num_topics=12, id2word=dictionary, passes=10,random_state=45)\n",
    "clear_output()\n",
    "\n",
    "# corpus requires document term matrix\n",
    "# num_topics is used to define number of topics to create from corpus\n",
    "# id2word requires mapping of words\n",
    "# passes is used to define number of iterations"
   ]
  },
  {
   "cell_type": "code",
   "execution_count": 29,
   "metadata": {
    "colab": {
     "base_uri": "https://localhost:8080/"
    },
    "id": "eDG1rOqAMhfL",
    "outputId": "bae29c11-da19-4f5a-ac3a-62bd9bf4b80a"
   },
   "outputs": [
    {
     "name": "stdout",
     "output_type": "stream",
     "text": [
      "Topic: 0 \n",
      "Words: 0.199*\"camera\" + 0.099*\"quality\" + 0.041*\"phone\" + 0.031*\"sound\" + 0.026*\"front\" + 0.025*\"battery\" + 0.022*\"mode\" + 0.019*\"depth\" + 0.017*\"rear\" + 0.016*\"feature\" + 0.015*\"display\" + 0.015*\"performance\" + 0.014*\"dolby\" + 0.013*\"photo\" + 0.012*\"picture\"\n",
      "\n",
      "\n",
      "Topic: 1 \n",
      "Words: 0.057*\"android\" + 0.042*\"phone\" + 0.034*\"feature\" + 0.031*\"stock\" + 0.028*\"card\" + 0.026*\"contact\" + 0.022*\"user\" + 0.021*\"memory\" + 0.020*\"headphone\" + 0.017*\"slot\" + 0.014*\"con\" + 0.013*\"software\" + 0.013*\"provide\" + 0.013*\"message\" + 0.010*\"function\"\n",
      "\n",
      "\n",
      "Topic: 2 \n",
      "Words: 0.315*\"mobile\" + 0.162*\"problem\" + 0.091*\"heating\" + 0.031*\"battery\" + 0.022*\"heat\" + 0.014*\"network\" + 0.012*\"game\" + 0.008*\"month\" + 0.007*\"class\" + 0.007*\"hang\" + 0.006*\"player\" + 0.006*\"connection\" + 0.006*\"ringtone\" + 0.005*\"face\" + 0.005*\"time\"\n",
      "\n",
      "\n",
      "Topic: 3 \n",
      "Words: 0.062*\"phone\" + 0.060*\"screen\" + 0.058*\"charger\" + 0.048*\"turbo\" + 0.039*\"feature\" + 0.027*\"glass\" + 0.018*\"gorilla\" + 0.017*\"time\" + 0.017*\"charge\" + 0.015*\"core\" + 0.015*\"month\" + 0.014*\"display\" + 0.012*\"cost\" + 0.012*\"work\" + 0.011*\"deca\"\n",
      "\n",
      "\n",
      "Topic: 4 \n",
      "Words: 0.120*\"update\" + 0.053*\"phone\" + 0.049*\"software\" + 0.034*\"need\" + 0.034*\"system\" + 0.028*\"oreo\" + 0.026*\"problem\" + 0.019*\"lenovo\" + 0.013*\"bill\" + 0.012*\"please\" + 0.012*\"think\" + 0.012*\"order\" + 0.010*\"gallery\" + 0.010*\"send\" + 0.010*\"bug\"\n",
      "\n",
      "\n",
      "Topic: 5 \n",
      "Words: 0.196*\"phone\" + 0.101*\"battery\" + 0.057*\"price\" + 0.052*\"camera\" + 0.050*\"awesome\" + 0.047*\"performance\" + 0.044*\"backup\" + 0.027*\"range\" + 0.027*\"life\" + 0.020*\"superb\" + 0.018*\"excellent\" + 0.015*\"processor\" + 0.015*\"everything\" + 0.013*\"budget\" + 0.011*\"fast\"\n",
      "\n",
      "\n",
      "Topic: 6 \n",
      "Words: 0.129*\"battery\" + 0.100*\"issue\" + 0.057*\"heating\" + 0.047*\"fast\" + 0.042*\"phone\" + 0.042*\"drain\" + 0.039*\"hour\" + 0.038*\"charge\" + 0.028*\"time\" + 0.021*\"usage\" + 0.017*\"heat\" + 0.013*\"apps\" + 0.010*\"notification\" + 0.010*\"month\" + 0.010*\"day\"\n",
      "\n",
      "\n",
      "Topic: 7 \n",
      "Words: 0.297*\"product\" + 0.036*\"price\" + 0.029*\"excellent\" + 0.018*\"performance\" + 0.013*\"awesome\" + 0.013*\"till\" + 0.013*\"amazon\" + 0.012*\"expectation\" + 0.012*\"feature\" + 0.010*\"lenovo\" + 0.010*\"purchase\" + 0.010*\"smartphone\" + 0.009*\"feel\" + 0.009*\"range\" + 0.009*\"dont\"\n",
      "\n",
      "\n",
      "Topic: 8 \n",
      "Words: 0.063*\"call\" + 0.049*\"phone\" + 0.036*\"network\" + 0.035*\"device\" + 0.030*\"work\" + 0.029*\"screen\" + 0.026*\"speaker\" + 0.025*\"issue\" + 0.025*\"support\" + 0.022*\"cast\" + 0.022*\"signal\" + 0.021*\"option\" + 0.019*\"bluetooth\" + 0.019*\"time\" + 0.018*\"volta\"\n",
      "\n",
      "\n",
      "Topic: 9 \n",
      "Words: 0.149*\"note\" + 0.144*\"lenovo\" + 0.072*\"phone\" + 0.020*\"redmi\" + 0.016*\"killer\" + 0.013*\"review\" + 0.011*\"game\" + 0.011*\"model\" + 0.010*\"bought\" + 0.009*\"feature\" + 0.009*\"moto\" + 0.008*\"year\" + 0.008*\"recommend\" + 0.007*\"feel\" + 0.007*\"sale\"\n",
      "\n",
      "\n",
      "Topic: 10 \n",
      "Words: 0.104*\"phone\" + 0.071*\"amazon\" + 0.043*\"service\" + 0.035*\"lenovo\" + 0.034*\"return\" + 0.023*\"day\" + 0.022*\"please\" + 0.020*\"product\" + 0.020*\"problem\" + 0.019*\"customer\" + 0.016*\"time\" + 0.015*\"replacement\" + 0.015*\"want\" + 0.012*\"help\" + 0.012*\"center\"\n",
      "\n",
      "\n",
      "Topic: 11 \n",
      "Words: 0.160*\"money\" + 0.086*\"waste\" + 0.074*\"worth\" + 0.061*\"value\" + 0.032*\"delivery\" + 0.017*\"super\" + 0.013*\"buying\" + 0.012*\"facility\" + 0.009*\"dont\" + 0.008*\"iron\" + 0.008*\"package\" + 0.008*\"time\" + 0.007*\"fone\" + 0.007*\"cash\" + 0.005*\"mobil\"\n",
      "\n",
      "\n"
     ]
    }
   ],
   "source": [
    "'''\n",
    "For each topic, explore each word and its relative weight in the topic\n",
    "'''\n",
    "\n",
    "for idx,topic in ldamodel.print_topics(-1,num_words=15):\n",
    "    print(\"Topic: {} \\nWords: {}\".format(idx, topic ))\n",
    "    print(\"\\n\")"
   ]
  },
  {
   "cell_type": "markdown",
   "metadata": {
    "id": "LgbHCGjvNQTK"
   },
   "source": [
    "Visualizing LDA model topics"
   ]
  },
  {
   "cell_type": "code",
   "execution_count": 30,
   "metadata": {
    "colab": {
     "base_uri": "https://localhost:8080/"
    },
    "id": "CEOt9_l9NoaL",
    "outputId": "82eeb0e6-dc6f-49f3-d60d-6eb6613eb4b3"
   },
   "outputs": [
    {
     "name": "stdout",
     "output_type": "stream",
     "text": [
      "Collecting pyLDAvis\n",
      "  Downloading pyLDAvis-3.3.1.tar.gz (1.7 MB)\n",
      "\u001b[K     |████████████████████████████████| 1.7 MB 4.9 MB/s \n",
      "\u001b[?25h  Installing build dependencies ... \u001b[?25l\u001b[?25hdone\n",
      "  Getting requirements to build wheel ... \u001b[?25l\u001b[?25hdone\n",
      "  Installing backend dependencies ... \u001b[?25l\u001b[?25hdone\n",
      "    Preparing wheel metadata ... \u001b[?25l\u001b[?25hdone\n",
      "Requirement already satisfied: gensim in /usr/local/lib/python3.7/dist-packages (from pyLDAvis) (3.6.0)\n",
      "Requirement already satisfied: setuptools in /usr/local/lib/python3.7/dist-packages (from pyLDAvis) (57.4.0)\n",
      "Requirement already satisfied: numexpr in /usr/local/lib/python3.7/dist-packages (from pyLDAvis) (2.8.1)\n",
      "Requirement already satisfied: scikit-learn in /usr/local/lib/python3.7/dist-packages (from pyLDAvis) (1.0.2)\n",
      "Collecting funcy\n",
      "  Downloading funcy-1.17-py2.py3-none-any.whl (33 kB)\n",
      "Requirement already satisfied: numpy>=1.20.0 in /usr/local/lib/python3.7/dist-packages (from pyLDAvis) (1.21.6)\n",
      "Requirement already satisfied: joblib in /usr/local/lib/python3.7/dist-packages (from pyLDAvis) (1.1.0)\n",
      "Requirement already satisfied: pandas>=1.2.0 in /usr/local/lib/python3.7/dist-packages (from pyLDAvis) (1.3.5)\n",
      "Requirement already satisfied: sklearn in /usr/local/lib/python3.7/dist-packages (from pyLDAvis) (0.0)\n",
      "Requirement already satisfied: scipy in /usr/local/lib/python3.7/dist-packages (from pyLDAvis) (1.4.1)\n",
      "Requirement already satisfied: jinja2 in /usr/local/lib/python3.7/dist-packages (from pyLDAvis) (2.11.3)\n",
      "Requirement already satisfied: future in /usr/local/lib/python3.7/dist-packages (from pyLDAvis) (0.16.0)\n",
      "Requirement already satisfied: python-dateutil>=2.7.3 in /usr/local/lib/python3.7/dist-packages (from pandas>=1.2.0->pyLDAvis) (2.8.2)\n",
      "Requirement already satisfied: pytz>=2017.3 in /usr/local/lib/python3.7/dist-packages (from pandas>=1.2.0->pyLDAvis) (2022.1)\n",
      "Requirement already satisfied: six>=1.5 in /usr/local/lib/python3.7/dist-packages (from python-dateutil>=2.7.3->pandas>=1.2.0->pyLDAvis) (1.15.0)\n",
      "Requirement already satisfied: smart-open>=1.2.1 in /usr/local/lib/python3.7/dist-packages (from gensim->pyLDAvis) (6.0.0)\n",
      "Requirement already satisfied: MarkupSafe>=0.23 in /usr/local/lib/python3.7/dist-packages (from jinja2->pyLDAvis) (2.0.1)\n",
      "Requirement already satisfied: packaging in /usr/local/lib/python3.7/dist-packages (from numexpr->pyLDAvis) (21.3)\n",
      "Requirement already satisfied: pyparsing!=3.0.5,>=2.0.2 in /usr/local/lib/python3.7/dist-packages (from packaging->numexpr->pyLDAvis) (3.0.8)\n",
      "Requirement already satisfied: threadpoolctl>=2.0.0 in /usr/local/lib/python3.7/dist-packages (from scikit-learn->pyLDAvis) (3.1.0)\n",
      "Building wheels for collected packages: pyLDAvis\n",
      "  Building wheel for pyLDAvis (PEP 517) ... \u001b[?25l\u001b[?25hdone\n",
      "  Created wheel for pyLDAvis: filename=pyLDAvis-3.3.1-py2.py3-none-any.whl size=136898 sha256=8962492279b5ff4fa4d50244c6a4d356c6d238ffc485f5f364274091eab5e1ac\n",
      "  Stored in directory: /root/.cache/pip/wheels/c9/21/f6/17bcf2667e8a68532ba2fbf6d5c72fdf4c7f7d9abfa4852d2f\n",
      "Successfully built pyLDAvis\n",
      "Installing collected packages: funcy, pyLDAvis\n",
      "Successfully installed funcy-1.17 pyLDAvis-3.3.1\n"
     ]
    }
   ],
   "source": [
    "!pip install pyLDAvis # To visualize lda model"
   ]
  },
  {
   "cell_type": "code",
   "execution_count": 46,
   "metadata": {
    "colab": {
     "base_uri": "https://localhost:8080/",
     "height": 861
    },
    "id": "wEI5AxswNRzI",
    "outputId": "73d7ab4e-6fd3-4c40-bb3c-128933abe8f0"
   },
   "outputs": [
    {
     "data": {
      "text/html": [
       "\n",
       "<link rel=\"stylesheet\" type=\"text/css\" href=\"https://cdn.jsdelivr.net/gh/bmabey/pyLDAvis@3.3.1/pyLDAvis/js/ldavis.v1.0.0.css\">\n",
       "\n",
       "\n",
       "<div id=\"ldavis_el2871396321854294565748775858\"></div>\n",
       "<script type=\"text/javascript\">\n",
       "\n",
       "var ldavis_el2871396321854294565748775858_data = {\"mdsDat\": {\"x\": [-0.151077174419279, 0.08121812348745096, -0.2794938653013879, -0.012697673090497973, 0.22452914229027823, 0.13752144703343597], \"y\": [-0.18379955732827066, -0.004608072512684884, 0.006758995188565319, 0.27925368148371466, -0.09810513687879686, 0.0005000900474722684], \"topics\": [1, 2, 3, 4, 5, 6], \"cluster\": [1, 1, 1, 1, 1, 1], \"Freq\": [21.159833962077084, 18.22232635587731, 17.256118125630174, 15.857926584594182, 14.428330041545276, 13.075464930275974]}, \"tinfo\": {\"Term\": [\"mobile\", \"camera\", \"battery\", \"quality\", \"note\", \"problem\", \"phone\", \"lenovo\", \"heating\", \"money\", \"update\", \"issue\", \"awesome\", \"amazon\", \"screen\", \"backup\", \"price\", \"performance\", \"charger\", \"fast\", \"network\", \"drain\", \"front\", \"turbo\", \"service\", \"excellent\", \"sound\", \"return\", \"waste\", \"call\", \"awesome\", \"excellent\", \"life\", \"backup\", \"discharge\", \"drain\", \"stand\", \"drainage\", \"yesterday\", \"bekar\", \"hota\", \"ghatiya\", \"capacity\", \"clearity\", \"mast\", \"plug\", \"penny\", \"bahut\", \"iska\", \"lena\", \"percent\", \"karta\", \"jyada\", \"mobail\", \"effort\", \"kharab\", \"heatup\", \"vivo\", \"booting\", \"bilkul\", \"battery\", \"thank\", \"price\", \"fast\", \"range\", \"bettery\", \"performance\", \"budget\", \"half\", \"super\", \"hour\", \"charge\", \"quick\", \"usage\", \"phone\", \"heat\", \"superb\", \"perfect\", \"love\", \"heating\", \"faster\", \"product\", \"issue\", \"game\", \"camera\", \"time\", \"feature\", \"delivery\", \"look\", \"everything\", \"month\", \"processor\", \"money\", \"charger\", \"value\", \"glass\", \"cast\", \"gorilla\", \"piece\", \"broken\", \"scratch\", \"today\", \"cable\", \"hotspot\", \"fall\", \"turbo\", \"iron\", \"pick\", \"trust\", \"manufacturing\", \"broke\", \"accessory\", \"guard\", \"wait\", \"present\", \"concern\", \"bakwas\", \"deal\", \"protection\", \"phon\", \"break\", \"fool\", \"waste\", \"screen\", \"cost\", \"stop\", \"buying\", \"faulty\", \"wifi\", \"sure\", \"care\", \"customer\", \"worth\", \"cell\", \"handset\", \"hand\", \"day\", \"bought\", \"phone\", \"smart\", \"product\", \"amazon\", \"lenovo\", \"month\", \"charge\", \"time\", \"option\", \"work\", \"please\", \"hour\", \"device\", \"display\", \"feature\", \"front\", \"depth\", \"rear\", \"quality\", \"picture\", \"flash\", \"earphone\", \"clarity\", \"selfie\", \"bokeh\", \"focus\", \"pic\", \"lenova\", \"improvement\", \"space\", \"blur\", \"primary\", \"fone\", \"capture\", \"background\", \"minor\", \"cash\", \"satisfactory\", \"effect\", \"dull\", \"zoom\", \"awsome\", \"processer\", \"slight\", \"setup\", \"build\", \"image\", \"camera\", \"photo\", \"design\", \"weight\", \"mode\", \"sound\", \"edge\", \"light\", \"fingerprint\", \"display\", \"mark\", \"sensor\", \"con\", \"speed\", \"look\", \"work\", \"dolby\", \"touch\", \"performance\", \"video\", \"phone\", \"music\", \"feature\", \"battery\", \"speaker\", \"screen\", \"stock\", \"volume\", \"voice\", \"version\", \"headset\", \"recorder\", \"button\", \"vibe\", \"player\", \"processing\", \"loud\", \"seller\", \"inbuilt\", \"bottom\", \"note\", \"audio\", \"record\", \"nougat\", \"paisa\", \"handy\", \"handle\", \"standard\", \"caller\", \"described\", \"list\", \"mobil\", \"comparison\", \"didnt\", \"category\", \"decacore\", \"google\", \"android\", \"contact\", \"redmi\", \"gallery\", \"slot\", \"smartphone\", \"lenovo\", \"call\", \"compare\", \"notification\", \"message\", \"auto\", \"feature\", \"user\", \"killer\", \"option\", \"speaker\", \"music\", \"headphone\", \"apps\", \"dolby\", \"delivery\", \"phone\", \"product\", \"memory\", \"card\", \"sound\", \"time\", \"mobile\", \"exchange\", \"place\", \"suggestion\", \"visit\", \"detail\", \"store\", \"degree\", \"site\", \"airtel\", \"invoice\", \"cause\", \"discount\", \"jata\", \"custom\", \"kiya\", \"department\", \"refund\", \"moment\", \"bhai\", \"imei\", \"satisfy\", \"decide\", \"bettry\", \"honest\", \"handsfree\", \"position\", \"deta\", \"prob\", \"impression\", \"ringtone\", \"october\", \"problem\", \"return\", \"policy\", \"hate\", \"bluetooth\", \"amazon\", \"team\", \"want\", \"heating\", \"switch\", \"replacement\", \"network\", \"item\", \"connectivity\", \"facility\", \"issue\", \"product\", \"restart\", \"face\", \"solution\", \"device\", \"service\", \"heat\", \"please\", \"month\", \"time\", \"lenovo\", \"purchase\", \"hang\", \"day\", \"work\", \"game\", \"call\", \"dont\", \"need\", \"speaker\", \"oreo\", \"deca\", \"warranty\", \"centre\", \"storage\", \"bill\", \"result\", \"lenevo\", \"reception\", \"receive\", \"volta\", \"repair\", \"increase\", \"icon\", \"helio\", \"blowing\", \"water\", \"ring\", \"resolve\", \"coverage\", \"alarm\", \"location\", \"turbocharger\", \"accept\", \"blue\", \"india\", \"battry\", \"tone\", \"told\", \"west\", \"fact\", \"update\", \"software\", \"core\", \"center\", \"strength\", \"signal\", \"service\", \"system\", \"network\", \"date\", \"medium\", \"talk\", \"till\", \"issue\", \"hope\", \"phone\", \"processor\", \"problem\", \"please\", \"support\", \"lenovo\", \"call\", \"show\", \"time\", \"heating\", \"work\", \"month\", \"hang\", \"day\"], \"Freq\": [2208.0, 3300.0, 3096.0, 1341.0, 1312.0, 1540.0, 6470.0, 1983.0, 1249.0, 643.0, 591.0, 1466.0, 638.0, 877.0, 740.0, 579.0, 857.0, 845.0, 454.0, 768.0, 524.0, 441.0, 356.0, 378.0, 492.0, 378.0, 493.0, 384.0, 346.0, 657.0, 637.9610585286302, 377.4025283200675, 310.95996061506196, 573.6779400103231, 39.7546117388804, 432.7590984543117, 35.647609182722874, 30.040872553261682, 30.369622304698435, 28.88724466051098, 27.044178800005266, 18.453597982270924, 37.21122750608864, 16.712108591784872, 13.438627010053859, 12.082435461339687, 11.682350615428305, 38.107683531796674, 11.735320299563668, 11.384769477419923, 23.0920249703647, 10.652474818707132, 10.65627161382942, 10.538836935905033, 10.771678568908934, 10.599696682397669, 10.275711225611474, 10.423238432999621, 10.205747467164304, 9.999214989050191, 2831.558522952909, 61.04163640394998, 727.4862470597838, 624.2954461248356, 296.07377130324016, 21.28139535507786, 602.5821116424044, 134.1220805067789, 67.5160895649352, 143.449263979234, 348.84223505751953, 361.06326940147073, 63.85663789396689, 190.01509191792815, 2646.9217621326798, 296.5242722689582, 147.90141131666545, 88.42042851495425, 97.17142636670494, 462.0220233036547, 57.902106534965185, 490.4912325248628, 419.1908948302612, 116.05889115508681, 636.0967052384029, 265.98047076797496, 213.22916579473664, 100.39960017733657, 106.26962112357137, 92.18608796515952, 108.64536074705615, 95.50774687522886, 642.3839253094493, 453.72194609996143, 243.3861016936912, 214.2499768904689, 205.95010093436488, 137.76321962865396, 107.29992192844811, 69.23733535454828, 56.56672379384037, 54.2880327774912, 52.53479783310145, 49.294027294270315, 38.20216268169843, 370.21307875354415, 31.520381519602747, 31.449292727834553, 28.732782590773173, 28.45982306418988, 28.077351495543354, 27.152913519822945, 26.82704821403931, 26.057429565020442, 25.508278630040696, 25.350618273292724, 25.168529681123378, 31.71672779584384, 24.129725536559224, 23.711310314847523, 23.422281737402532, 22.650345295379815, 334.6634547017301, 610.5951862276137, 90.26309687605043, 60.630632356137426, 133.2951619341313, 54.98941417155623, 106.94444014524264, 57.02758005390094, 98.32631839145287, 150.66550542206787, 184.9670935528957, 52.954795374062385, 137.37429270179544, 72.63622014250167, 232.4384193559754, 153.74741783260777, 1376.8911917692828, 91.70235597323841, 403.1501319206536, 255.8462542874836, 385.22615741189486, 179.93502415084276, 173.12001507012764, 234.055738750511, 144.1823757210956, 170.04011995902897, 138.6795694944271, 151.525866822932, 117.12907896930585, 103.9580972957319, 105.53488578232705, 356.0185346024715, 253.60127601031346, 233.10364641836645, 1335.2463381513737, 165.67367361130667, 156.66574113718605, 141.19001750251465, 140.30844541441374, 91.8546075077467, 62.73605554059698, 55.282395931810356, 51.53966258414072, 48.26572159534524, 46.40668653533467, 42.62087512149314, 38.365714167581594, 32.17386301441834, 28.32410908855253, 27.775492563639045, 27.585981309394747, 27.902322923281137, 27.615987506725034, 26.501483829759028, 117.31320335360424, 23.89925462157397, 23.84628260930975, 21.91161020196022, 21.894697762732807, 21.64844755335366, 21.214733730625024, 79.77285761092332, 107.30904682073597, 2663.6017139836667, 175.86021942877636, 73.81135312386289, 56.244986145656036, 315.4602646707647, 374.0058400345589, 40.114861156170114, 151.60351118079237, 58.02057138198846, 238.7195871277501, 133.89325215875283, 88.72180847559574, 76.776249582505, 131.68381380439283, 147.58784262432724, 230.9560472170163, 132.8881211606027, 105.000955555782, 242.5877459424751, 128.8222107797331, 671.8744934390783, 105.19565854481208, 160.366252089806, 195.31170152682606, 110.03511153963534, 115.48933438678425, 166.31272257152096, 106.98149435498244, 104.87503307882304, 89.43190759326271, 67.90439313970722, 67.89225059259891, 123.05760496946965, 55.641155696437856, 50.14913284285603, 46.19531469033899, 45.56800217905219, 44.92833864921575, 37.74805188815125, 37.09518150963766, 1285.0186665010626, 92.36666613710757, 35.95145963645131, 31.090739510690963, 30.819452332450076, 28.345839931587072, 27.584427251324325, 26.636981240138454, 26.022597615607054, 23.739824360998593, 23.490914946155982, 22.12149713598741, 20.91058345430692, 20.419916658016373, 18.696726469325597, 18.240424544309082, 89.50779119790229, 269.45151770960234, 136.6919444527098, 151.5931465978683, 96.5115904256198, 109.55359305359632, 107.61957057594991, 1092.3187261056764, 387.34789645674294, 76.57927018187667, 85.4092572911738, 72.85380506287022, 60.35200314285941, 377.7286291558301, 114.62439387390546, 94.06722985962799, 189.27594692488714, 175.45687980027736, 132.69223332395325, 92.76140863993925, 126.73098880208377, 128.99326236496267, 119.5783702244152, 614.2606775845353, 244.84082767555873, 89.64547744140827, 92.4629287394844, 114.39669185647477, 121.02793433158925, 2205.061489980489, 45.285826157826534, 34.17361904249715, 43.063648952444325, 28.22802900276282, 28.43376606209015, 27.79272870507695, 26.030310235352598, 23.217183891780905, 22.59140560515145, 35.29390202125854, 20.334485770973803, 19.905830847523312, 19.13602397418591, 16.77619567820097, 15.100130469071582, 14.55826126307921, 110.96737402887999, 13.493978124237758, 13.246255743564507, 12.671776118862482, 11.775737084160559, 11.89392541434307, 11.1291067312805, 11.174299934831181, 10.417917749029627, 10.119602174299702, 10.622629051417519, 9.709373439374433, 9.819485493508235, 35.521844680121525, 18.208435218339446, 1206.5624979977852, 316.15279075806455, 70.0205679422852, 19.40012685294312, 125.88778655787634, 536.7563741865652, 44.58905683902356, 175.8747241546363, 653.0738102311873, 69.28356698877728, 109.57942589138193, 253.273800523236, 47.12229546022987, 58.40964495751047, 36.20733649602829, 483.36747085629895, 549.6016396630165, 49.68357975697739, 43.69324907798682, 38.70000073163019, 137.31401006765827, 144.80301739074795, 148.80444446439358, 125.88141072561045, 141.0405975074288, 191.24770763343753, 212.8038241636999, 73.40475056116249, 68.49356276996085, 78.27343058547243, 75.08465591143741, 60.31991884437376, 71.11238595799728, 54.45335784455734, 56.259378887444534, 54.65314834216277, 128.818921053366, 90.57782454667627, 84.80011452193027, 91.15446708898367, 63.90533255727915, 59.48579762430975, 56.1490114763538, 51.96438443537867, 35.53750558280366, 46.307469708487794, 164.8780906715069, 28.69273725473834, 28.123106123143774, 24.8385074883452, 24.156642519116467, 22.914093883060897, 22.109636282306138, 21.97940347484852, 28.15028325576486, 21.71831060254478, 21.442608362843913, 20.38393359577477, 18.87833944722769, 18.767883341471038, 18.082420689239978, 17.892039024847833, 17.86771470708022, 17.60361672906666, 35.1375083712123, 17.014617517771807, 17.12653320322094, 520.6370461152703, 270.3893575576041, 116.46827132431551, 116.12077073108499, 40.29848867833663, 151.8305338585457, 317.78026965302536, 107.56313436766844, 270.5568111550502, 52.94030646207327, 45.68392459808721, 36.497637611006915, 84.6463942424998, 495.8368812426276, 57.512264940448844, 1119.390218365117, 149.63375785758825, 332.913433157474, 127.83838506607329, 105.63411283310705, 291.1987420476032, 152.4148120532939, 76.20521665710824, 127.74146173690752, 132.78593803109905, 88.7275841275824, 79.60651381494327, 63.68387451121142, 66.22248769493973], \"Total\": [2208.0, 3300.0, 3096.0, 1341.0, 1312.0, 1540.0, 6470.0, 1983.0, 1249.0, 643.0, 591.0, 1466.0, 638.0, 877.0, 740.0, 579.0, 857.0, 845.0, 454.0, 768.0, 524.0, 441.0, 356.0, 378.0, 492.0, 378.0, 493.0, 384.0, 346.0, 657.0, 638.7602067041589, 378.247360666835, 312.77749900202457, 579.2981205256774, 40.555111903555535, 441.5753026452759, 36.44780673504788, 30.841134637343956, 31.187159171219562, 29.68656700411525, 27.854686555691003, 19.254909538724604, 38.89371126620353, 17.511895715713784, 14.23676425253282, 12.88559961786157, 12.480263915086477, 40.72440619103289, 12.548111344908676, 12.184419125674834, 24.812986779335464, 11.454922189137909, 11.461219600533552, 11.338542318513728, 11.591717175936177, 11.412016217903636, 11.074901205098303, 11.234520367141299, 11.012588660144843, 10.799464497295045, 3096.0341698289153, 66.8101947854462, 857.5113399932023, 768.6538288447541, 357.9994291906001, 23.79771392287035, 845.8731069992052, 170.80687283415065, 82.3092994879315, 190.94994114668447, 512.6733780258288, 535.079018810991, 81.31602228297072, 275.17951822942024, 6470.552960953884, 519.1283748488767, 233.71486272432134, 126.90050930565747, 148.81831883756414, 1249.73298936351, 79.6416017196841, 1828.5652161812313, 1466.6388254623853, 226.0034489902336, 3300.932760338685, 970.223471067254, 857.179432540109, 243.75413121663868, 293.41684845985327, 220.19417218256723, 509.54750771102226, 340.4168375562126, 643.1781937450643, 454.5151003241258, 244.17784484586562, 215.0414958408817, 206.74259672556414, 138.5549654236122, 108.09584070175518, 70.02845146775682, 57.3585104281402, 55.082046878291344, 53.32830190484871, 50.087353777013604, 38.99682750501899, 378.40573948820594, 32.31477859498597, 32.24890230695201, 29.529544742531616, 29.253678507040085, 28.86808898897757, 27.94886306291118, 27.619101653041145, 26.852968254891177, 26.308004268784973, 26.14878508801918, 25.962142080207705, 32.724805902268045, 24.924644352216188, 24.506588790861485, 24.215062919425307, 23.444031803516566, 346.59572339946857, 740.2239685941821, 100.50756937323663, 67.5403250983658, 163.7214088437667, 61.458500883229945, 128.87191537536506, 64.23804652745126, 122.39266246977252, 225.24951888206988, 293.75497851065023, 63.40490588458303, 216.34401688202723, 99.33336543371422, 479.08164642259516, 281.42470461887154, 6470.552960953884, 141.70063345411688, 1828.5652161812313, 877.020917930514, 1983.3749115241665, 509.54750771102226, 535.079018810991, 970.223471067254, 385.23544627275146, 604.6970226621638, 392.87354712708554, 512.6733780258288, 441.39865224710564, 406.2752374822229, 857.179432540109, 356.814891984201, 254.39798198963928, 233.89961578332188, 1341.1113555598786, 166.4732809108793, 157.46323239353165, 141.99055554219532, 141.1051707817971, 92.6499931490896, 63.53947144117109, 56.07974831272708, 52.33692247092948, 49.074092876886866, 47.204089261900585, 43.41938924052963, 39.16210885921777, 32.970765925233394, 29.12282350538116, 28.574392178427008, 28.383751305221043, 28.71027571123316, 28.41573490867547, 27.30524675779758, 120.99241695807846, 24.698357261670296, 24.646594752239164, 22.708021210472435, 22.692899427114618, 22.44683496609308, 22.03187397606119, 85.34412847749634, 116.27447275848441, 3300.932760338685, 195.4184625202285, 79.63026588088641, 60.883022431102304, 382.04794426940373, 493.20506868660385, 44.52904372374046, 227.73101297610938, 70.64195064036878, 406.2752374822229, 199.85432209480135, 127.24354462658061, 109.94546074862117, 246.5826736331402, 293.41684845985327, 604.6970226621638, 262.52116146229247, 188.52588446895837, 845.8731069992052, 282.34508898411445, 6470.552960953884, 238.52683877156684, 857.179432540109, 3096.0341698289153, 355.6242967010549, 740.2239685941821, 167.10467644257014, 107.77571971411177, 105.79829873150507, 90.41841466694218, 68.69562028742618, 68.68681318422932, 124.8065520567471, 56.43275459077882, 50.939520629497395, 46.990080037234655, 46.36235793057167, 45.72279234859862, 38.53839240426717, 37.889864245714364, 1312.6584167896003, 94.54612239384431, 36.85896098023096, 31.883297543398072, 31.613165718787286, 29.14295801287347, 28.381736961075692, 27.428755646824694, 26.816342207327136, 24.531425479743742, 24.282001681265623, 22.913639911131497, 21.706379846625723, 21.218225509120487, 19.489463809339284, 19.035598711092376, 93.49930254221391, 300.1346810913312, 156.41584316441129, 177.3632185149366, 114.44280008314465, 132.485885566487, 131.63783020639903, 1983.3749115241665, 657.1093326733552, 97.15704568935716, 111.29945733530428, 94.806291145649, 75.12339591671852, 857.179432540109, 186.87683446037607, 141.66900426625526, 385.23544627275146, 355.6242967010549, 238.52683877156684, 139.411527519312, 239.98032693558088, 262.52116146229247, 243.75413121663868, 6470.552960953884, 1828.5652161812313, 145.83079717601032, 165.34558049156004, 493.20506868660385, 970.223471067254, 2208.647593637568, 46.08448691420595, 35.00820572467715, 44.12936658836344, 29.02832000621683, 29.246388570435286, 28.592192076327148, 26.834195571304775, 24.023396151518217, 23.391140145527235, 36.65616647594983, 21.139285763494534, 20.71265605543131, 19.941940926308362, 17.58108480245576, 15.900771384593302, 15.368437122246311, 117.5216035461422, 14.305272229844682, 14.053631862155093, 13.469889617584178, 12.577491445928214, 12.707363151459262, 11.928055654904687, 11.98586880948525, 11.220843955449126, 10.91579979269143, 11.469531070384365, 10.505159625268902, 10.633617958106404, 39.766218630036974, 19.994351557969143, 1540.113424693099, 384.0147823458294, 82.77589441604569, 21.75369911312766, 172.5328085850279, 877.020917930514, 55.843662492608416, 262.89171720761436, 1249.73298936351, 101.14933569255521, 176.5241324379021, 524.465320296063, 65.57678168228682, 85.96401836390218, 47.706593386155454, 1466.6388254623853, 1828.5652161812313, 75.52181292696089, 63.113050914149966, 54.36091256038368, 441.39865224710564, 492.69856896694324, 519.1283748488767, 392.87354712708554, 509.54750771102226, 970.223471067254, 1983.3749115241665, 214.973574150364, 221.2822554055052, 479.08164642259516, 604.6970226621638, 226.0034489902336, 657.1093326733552, 206.59079425254365, 311.04991246822385, 355.6242967010549, 129.6087512985929, 91.36916413476274, 85.59013359733557, 92.23603401879316, 64.69908410897219, 60.27445175933114, 56.945057379351375, 52.75577240636519, 36.330583866743616, 47.55892668892489, 169.36310363266244, 29.48164604847987, 28.921619104180255, 25.634647340551847, 24.946222172600372, 23.705913369565966, 22.901173284845125, 22.769627001796554, 29.165183250095097, 22.508162770357632, 22.233686692642177, 21.175541168018437, 19.672741781218033, 19.562570598935963, 18.873546835983223, 18.683031854965368, 18.662021198162893, 18.39369542505077, 36.72983914630974, 17.804749351300003, 17.924153159076248, 591.7534819337656, 314.26904755118005, 132.0171256293299, 140.32658570069108, 45.96008651640752, 206.4454087449847, 492.69856896694324, 158.29165739979368, 524.465320296063, 68.32362976776601, 57.91631530212794, 43.841500149285864, 133.2541586403949, 1466.6388254623853, 83.6709190957894, 6470.552960953884, 340.4168375562126, 1540.113424693099, 392.87354712708554, 289.2510364925133, 1983.3749115241665, 657.1093326733552, 170.838091419557, 970.223471067254, 1249.73298936351, 604.6970226621638, 509.54750771102226, 221.2822554055052, 479.08164642259516], \"Category\": [\"Default\", \"Default\", \"Default\", \"Default\", \"Default\", \"Default\", \"Default\", \"Default\", \"Default\", \"Default\", \"Default\", \"Default\", \"Default\", \"Default\", \"Default\", \"Default\", \"Default\", \"Default\", \"Default\", \"Default\", \"Default\", \"Default\", \"Default\", \"Default\", \"Default\", \"Default\", \"Default\", \"Default\", \"Default\", \"Default\", \"Topic1\", \"Topic1\", \"Topic1\", \"Topic1\", \"Topic1\", \"Topic1\", \"Topic1\", \"Topic1\", \"Topic1\", \"Topic1\", \"Topic1\", \"Topic1\", \"Topic1\", \"Topic1\", \"Topic1\", \"Topic1\", \"Topic1\", \"Topic1\", \"Topic1\", \"Topic1\", \"Topic1\", \"Topic1\", \"Topic1\", \"Topic1\", \"Topic1\", \"Topic1\", \"Topic1\", \"Topic1\", \"Topic1\", \"Topic1\", \"Topic1\", \"Topic1\", \"Topic1\", \"Topic1\", \"Topic1\", \"Topic1\", \"Topic1\", \"Topic1\", \"Topic1\", \"Topic1\", \"Topic1\", \"Topic1\", \"Topic1\", \"Topic1\", \"Topic1\", \"Topic1\", \"Topic1\", \"Topic1\", \"Topic1\", \"Topic1\", \"Topic1\", \"Topic1\", \"Topic1\", \"Topic1\", \"Topic1\", \"Topic1\", \"Topic1\", \"Topic1\", \"Topic1\", \"Topic1\", \"Topic1\", \"Topic1\", \"Topic2\", \"Topic2\", \"Topic2\", \"Topic2\", \"Topic2\", \"Topic2\", \"Topic2\", \"Topic2\", \"Topic2\", \"Topic2\", \"Topic2\", \"Topic2\", \"Topic2\", \"Topic2\", \"Topic2\", \"Topic2\", \"Topic2\", \"Topic2\", \"Topic2\", \"Topic2\", \"Topic2\", \"Topic2\", \"Topic2\", \"Topic2\", \"Topic2\", \"Topic2\", \"Topic2\", \"Topic2\", \"Topic2\", \"Topic2\", \"Topic2\", \"Topic2\", \"Topic2\", \"Topic2\", \"Topic2\", \"Topic2\", \"Topic2\", \"Topic2\", \"Topic2\", \"Topic2\", \"Topic2\", \"Topic2\", \"Topic2\", \"Topic2\", \"Topic2\", \"Topic2\", \"Topic2\", \"Topic2\", \"Topic2\", \"Topic2\", \"Topic2\", \"Topic2\", \"Topic2\", \"Topic2\", \"Topic2\", \"Topic2\", \"Topic2\", \"Topic2\", \"Topic2\", \"Topic2\", \"Topic2\", \"Topic3\", \"Topic3\", \"Topic3\", \"Topic3\", \"Topic3\", \"Topic3\", \"Topic3\", \"Topic3\", \"Topic3\", \"Topic3\", \"Topic3\", \"Topic3\", \"Topic3\", \"Topic3\", \"Topic3\", \"Topic3\", \"Topic3\", \"Topic3\", \"Topic3\", \"Topic3\", \"Topic3\", \"Topic3\", \"Topic3\", \"Topic3\", \"Topic3\", \"Topic3\", \"Topic3\", \"Topic3\", \"Topic3\", \"Topic3\", \"Topic3\", \"Topic3\", \"Topic3\", \"Topic3\", \"Topic3\", \"Topic3\", \"Topic3\", \"Topic3\", \"Topic3\", \"Topic3\", \"Topic3\", \"Topic3\", \"Topic3\", \"Topic3\", \"Topic3\", \"Topic3\", \"Topic3\", \"Topic3\", \"Topic3\", \"Topic3\", \"Topic3\", \"Topic3\", \"Topic3\", \"Topic3\", \"Topic3\", \"Topic3\", \"Topic3\", \"Topic3\", \"Topic4\", \"Topic4\", \"Topic4\", \"Topic4\", \"Topic4\", \"Topic4\", \"Topic4\", \"Topic4\", \"Topic4\", \"Topic4\", \"Topic4\", \"Topic4\", \"Topic4\", \"Topic4\", \"Topic4\", \"Topic4\", \"Topic4\", \"Topic4\", \"Topic4\", \"Topic4\", \"Topic4\", \"Topic4\", \"Topic4\", \"Topic4\", \"Topic4\", \"Topic4\", \"Topic4\", \"Topic4\", \"Topic4\", \"Topic4\", \"Topic4\", \"Topic4\", \"Topic4\", \"Topic4\", \"Topic4\", \"Topic4\", \"Topic4\", \"Topic4\", \"Topic4\", \"Topic4\", \"Topic4\", \"Topic4\", \"Topic4\", \"Topic4\", \"Topic4\", \"Topic4\", \"Topic4\", \"Topic4\", \"Topic4\", \"Topic4\", \"Topic4\", \"Topic4\", \"Topic4\", \"Topic4\", \"Topic4\", \"Topic4\", \"Topic4\", \"Topic4\", \"Topic4\", \"Topic5\", \"Topic5\", \"Topic5\", \"Topic5\", \"Topic5\", \"Topic5\", \"Topic5\", \"Topic5\", \"Topic5\", \"Topic5\", \"Topic5\", \"Topic5\", \"Topic5\", \"Topic5\", \"Topic5\", \"Topic5\", \"Topic5\", \"Topic5\", \"Topic5\", \"Topic5\", \"Topic5\", \"Topic5\", \"Topic5\", \"Topic5\", \"Topic5\", \"Topic5\", \"Topic5\", \"Topic5\", \"Topic5\", \"Topic5\", \"Topic5\", \"Topic5\", \"Topic5\", \"Topic5\", \"Topic5\", \"Topic5\", \"Topic5\", \"Topic5\", \"Topic5\", \"Topic5\", \"Topic5\", \"Topic5\", \"Topic5\", \"Topic5\", \"Topic5\", \"Topic5\", \"Topic5\", \"Topic5\", \"Topic5\", \"Topic5\", \"Topic5\", \"Topic5\", \"Topic5\", \"Topic5\", \"Topic5\", \"Topic5\", \"Topic5\", \"Topic5\", \"Topic5\", \"Topic5\", \"Topic5\", \"Topic5\", \"Topic5\", \"Topic5\", \"Topic5\", \"Topic5\", \"Topic5\", \"Topic5\", \"Topic6\", \"Topic6\", \"Topic6\", \"Topic6\", \"Topic6\", \"Topic6\", \"Topic6\", \"Topic6\", \"Topic6\", \"Topic6\", \"Topic6\", \"Topic6\", \"Topic6\", \"Topic6\", \"Topic6\", \"Topic6\", \"Topic6\", \"Topic6\", \"Topic6\", \"Topic6\", \"Topic6\", \"Topic6\", \"Topic6\", \"Topic6\", \"Topic6\", \"Topic6\", \"Topic6\", \"Topic6\", \"Topic6\", \"Topic6\", \"Topic6\", \"Topic6\", \"Topic6\", \"Topic6\", \"Topic6\", \"Topic6\", \"Topic6\", \"Topic6\", \"Topic6\", \"Topic6\", \"Topic6\", \"Topic6\", \"Topic6\", \"Topic6\", \"Topic6\", \"Topic6\", \"Topic6\", \"Topic6\", \"Topic6\", \"Topic6\", \"Topic6\", \"Topic6\", \"Topic6\", \"Topic6\", \"Topic6\", \"Topic6\", \"Topic6\", \"Topic6\", \"Topic6\", \"Topic6\"], \"logprob\": [30.0, 29.0, 28.0, 27.0, 26.0, 25.0, 24.0, 23.0, 22.0, 21.0, 20.0, 19.0, 18.0, 17.0, 16.0, 15.0, 14.0, 13.0, 12.0, 11.0, 10.0, 9.0, 8.0, 7.0, 6.0, 5.0, 4.0, 3.0, 2.0, 1.0, -3.4921, -4.0171, -4.2107, -3.5983, -6.2677, -3.8802, -6.3767, -6.5478, -6.5369, -6.587, -6.6529, -7.0351, -6.3338, -7.1343, -7.3523, -7.4586, -7.4923, -6.31, -7.4878, -7.5181, -6.8109, -7.5846, -7.5842, -7.5953, -7.5735, -7.5896, -7.6206, -7.6063, -7.6274, -7.6479, -2.0018, -5.8388, -3.3608, -3.5138, -4.2598, -6.8926, -3.5492, -5.0516, -5.738, -4.9844, -4.0958, -4.0613, -5.7937, -4.7033, -2.0692, -4.2583, -4.9538, -5.4683, -5.3739, -3.8148, -5.8916, -3.755, -3.9121, -5.1963, -3.495, -4.367, -4.588, -5.3412, -5.2844, -5.4266, -5.2623, -5.3912, -3.3357, -3.6834, -4.3063, -4.4338, -4.4733, -4.8754, -5.1253, -5.5634, -5.7655, -5.8066, -5.8395, -5.9031, -6.158, -3.8868, -6.3503, -6.3526, -6.4429, -6.4524, -6.466, -6.4994, -6.5115, -6.5406, -6.5619, -6.5681, -6.5753, -6.3441, -6.6175, -6.635, -6.6472, -6.6808, -3.9878, -3.3865, -5.2982, -5.6961, -4.9084, -5.7938, -5.1286, -5.7574, -5.2126, -4.7859, -4.5808, -5.8315, -4.8782, -5.5155, -4.3523, -4.7656, -2.5733, -5.2824, -3.8016, -4.2564, -3.8471, -4.6083, -4.6469, -4.3454, -4.8298, -4.6649, -4.8688, -4.7802, -5.0377, -5.1569, -5.1419, -3.8715, -4.2107, -4.295, -2.5496, -4.6364, -4.6923, -4.7963, -4.8026, -5.2262, -5.6075, -5.734, -5.8041, -5.8697, -5.909, -5.9941, -6.0993, -6.2753, -6.4027, -6.4223, -6.4291, -6.4177, -6.4281, -6.4692, -4.9816, -6.5726, -6.5748, -6.6594, -6.6602, -6.6715, -6.6918, -5.3673, -5.0707, -1.859, -4.5768, -5.4449, -5.7167, -3.9924, -3.8222, -6.0547, -4.7252, -5.6856, -4.2712, -4.8494, -5.2609, -5.4056, -4.866, -4.752, -4.3042, -4.8569, -5.0925, -4.2551, -4.888, -3.2364, -5.0906, -4.669, -4.4719, -5.0456, -4.9973, -4.5481, -4.9893, -5.0092, -5.1685, -5.4438, -5.444, -4.8493, -5.643, -5.7469, -5.8291, -5.8427, -5.8569, -6.031, -6.0485, -2.5034, -5.1362, -6.0798, -6.225, -6.2338, -6.3175, -6.3447, -6.3796, -6.403, -6.4948, -6.5053, -6.5654, -6.6217, -6.6454, -6.7336, -6.7583, -5.1676, -4.0656, -4.7442, -4.6407, -5.0923, -4.9655, -4.9833, -2.6659, -3.7026, -5.3236, -5.2145, -5.3735, -5.5618, -3.7278, -4.9203, -5.1179, -4.4187, -4.4946, -4.7739, -5.1319, -4.8199, -4.8022, -4.878, -3.2415, -4.1613, -5.1661, -5.1351, -4.9223, -4.8659, -1.869, -5.7545, -6.036, -5.8048, -6.2272, -6.2199, -6.2427, -6.3082, -6.4226, -6.4499, -6.0038, -6.5552, -6.5765, -6.6159, -6.7475, -6.8528, -6.8893, -4.8582, -6.9652, -6.9838, -7.0281, -7.1014, -7.0914, -7.1579, -7.1539, -7.2239, -7.253, -7.2045, -7.2944, -7.2831, -5.9973, -6.6656, -2.4719, -3.8112, -5.3187, -6.6022, -4.7321, -3.2819, -5.77, -4.3977, -3.0858, -5.3293, -4.8708, -4.033, -5.7147, -5.5, -5.9782, -3.3867, -3.2583, -5.6618, -5.7903, -5.9116, -4.6452, -4.5921, -4.5648, -4.7321, -4.6184, -4.3139, -4.2071, -5.2715, -5.3407, -5.2073, -5.2489, -5.4678, -5.3032, -5.5701, -5.5375, -5.5665, -4.6106, -4.9628, -5.0287, -4.9565, -5.3116, -5.3833, -5.441, -5.5185, -5.8984, -5.6337, -4.3638, -6.1124, -6.1324, -6.2566, -6.2845, -6.3373, -6.373, -6.3789, -6.1315, -6.3909, -6.4036, -6.4543, -6.531, -6.5369, -6.5741, -6.5847, -6.586, -6.6009, -5.9097, -6.6349, -6.6284, -3.214, -3.8692, -4.7114, -4.7144, -5.7727, -4.4463, -3.7077, -4.7909, -3.8685, -5.4999, -5.6473, -5.8718, -5.0305, -3.2628, -5.417, -2.4485, -4.4608, -3.6611, -4.6183, -4.809, -3.795, -4.4424, -5.1356, -4.619, -4.5803, -4.9834, -5.0919, -5.3151, -5.276], \"loglift\": [30.0, 29.0, 28.0, 27.0, 26.0, 25.0, 24.0, 23.0, 22.0, 21.0, 20.0, 19.0, 18.0, 17.0, 16.0, 15.0, 14.0, 13.0, 12.0, 11.0, 10.0, 9.0, 8.0, 7.0, 6.0, 5.0, 4.0, 3.0, 2.0, 1.0, 1.5518, 1.5508, 1.5472, 1.5433, 1.5331, 1.5329, 1.5309, 1.5268, 1.5265, 1.5258, 1.5235, 1.5106, 1.5088, 1.5063, 1.4954, 1.4887, 1.487, 1.4867, 1.4861, 1.4852, 1.4812, 1.4804, 1.4802, 1.4799, 1.4797, 1.4792, 1.4782, 1.4781, 1.477, 1.4761, 1.4638, 1.4628, 1.3886, 1.345, 1.3631, 1.4413, 1.2139, 1.3113, 1.3549, 1.267, 1.168, 1.1597, 1.3114, 1.1827, 0.6592, 0.993, 1.0955, 1.1918, 1.1268, 0.558, 1.2343, 0.2372, 0.3007, 0.8866, -0.0935, 0.259, 0.1618, 0.6661, 0.5375, 0.6824, 0.0076, 0.2821, 1.7013, 1.7008, 1.6993, 1.6988, 1.6987, 1.6968, 1.6951, 1.6912, 1.6886, 1.688, 1.6875, 1.6866, 1.6819, 1.6806, 1.6776, 1.6774, 1.6752, 1.675, 1.6747, 1.6736, 1.6734, 1.6724, 1.6717, 1.6715, 1.6715, 1.6712, 1.6701, 1.6695, 1.6692, 1.6681, 1.6675, 1.51, 1.595, 1.5946, 1.4969, 1.5913, 1.516, 1.5835, 1.4836, 1.3004, 1.24, 1.5224, 1.2484, 1.3895, 0.9793, 1.098, 0.1551, 1.2674, 0.1905, 0.4706, 0.0638, 0.6616, 0.5741, 0.2806, 0.7197, 0.4338, 0.6612, 0.4836, 0.3759, 0.3395, -0.3921, 1.7548, 1.7539, 1.7536, 1.7526, 1.7522, 1.7519, 1.7513, 1.7513, 1.7484, 1.7443, 1.7427, 1.7417, 1.7404, 1.74, 1.7384, 1.7365, 1.7325, 1.7292, 1.7286, 1.7285, 1.7285, 1.7285, 1.7271, 1.7261, 1.7241, 1.724, 1.7213, 1.7212, 1.7208, 1.7192, 1.6895, 1.6768, 1.5425, 1.6515, 1.6811, 1.6778, 1.5655, 1.4803, 1.6526, 1.3501, 1.5602, 1.2253, 1.3565, 1.3964, 1.3979, 1.1297, 1.0698, 0.7945, 1.0762, 1.1717, 0.508, 0.9723, -0.5079, 0.9383, 0.0808, -1.0063, 0.5839, -0.1008, 1.8368, 1.8341, 1.8327, 1.8305, 1.8299, 1.8299, 1.8274, 1.8274, 1.8259, 1.8244, 1.8242, 1.824, 1.8208, 1.8203, 1.8202, 1.8182, 1.8166, 1.8163, 1.8161, 1.8138, 1.813, 1.8122, 1.8115, 1.8087, 1.8084, 1.8063, 1.8041, 1.8032, 1.8, 1.7988, 1.7979, 1.7337, 1.7067, 1.6845, 1.6711, 1.6514, 1.64, 1.245, 1.313, 1.6035, 1.5767, 1.5781, 1.6226, 1.022, 1.3527, 1.432, 1.1309, 1.135, 1.2551, 1.4341, 1.203, 1.1309, 1.1293, -0.5131, -0.1692, 1.3549, 1.2603, 0.3802, -0.24, 1.9344, 1.9185, 1.9118, 1.9115, 1.908, 1.9078, 1.9076, 1.9056, 1.9018, 1.9012, 1.8981, 1.8972, 1.8962, 1.8947, 1.8891, 1.8843, 1.8818, 1.8786, 1.8776, 1.8768, 1.8749, 1.8701, 1.8698, 1.8666, 1.8659, 1.8617, 1.8602, 1.8593, 1.8572, 1.8563, 1.8231, 1.8424, 1.6919, 1.7415, 1.7686, 1.8215, 1.6208, 1.445, 1.7109, 1.534, 1.287, 1.5576, 1.4592, 1.2081, 1.6055, 1.5495, 1.6602, 0.826, 0.7339, 1.5172, 1.5682, 1.5962, 0.7683, 0.7115, 0.6865, 0.7978, 0.6515, 0.312, -0.2962, 0.8615, 0.7633, 0.1243, -0.1501, 0.6151, -0.2876, 0.6026, 0.226, 0.0631, 2.0283, 2.0257, 2.0252, 2.0226, 2.0221, 2.0213, 2.0204, 2.0193, 2.0124, 2.0078, 2.0076, 2.0073, 2.0064, 2.0029, 2.0023, 2.0005, 1.9993, 1.9991, 1.999, 1.9987, 1.9982, 1.9963, 1.9932, 1.993, 1.9916, 1.9912, 1.9909, 1.9905, 1.9901, 1.989, 1.9889, 1.9064, 1.884, 1.9091, 1.8451, 1.903, 1.7272, 1.5959, 1.6481, 1.3725, 1.7793, 1.7972, 1.8511, 1.5807, 0.95, 1.6595, 0.28, 1.2125, 0.5027, 0.9117, 1.0271, 0.1159, 0.5732, 1.2271, 0.0069, -0.2075, 0.1153, 0.178, 0.7889, 0.0556]}, \"token.table\": {\"Topic\": [6, 2, 5, 6, 1, 2, 4, 5, 6, 2, 4, 6, 2, 3, 4, 5, 6, 2, 4, 4, 5, 1, 3, 3, 1, 3, 1, 4, 2, 1, 2, 3, 4, 5, 6, 6, 1, 1, 6, 5, 5, 1, 6, 6, 6, 2, 5, 3, 3, 1, 4, 1, 2, 4, 5, 6, 2, 2, 2, 1, 3, 3, 6, 2, 4, 2, 3, 6, 2, 2, 4, 5, 6, 4, 1, 3, 4, 1, 6, 3, 3, 4, 6, 2, 5, 6, 3, 2, 4, 5, 2, 6, 2, 5, 6, 6, 1, 2, 2, 3, 1, 1, 3, 4, 4, 1, 2, 3, 4, 2, 2, 5, 6, 4, 6, 3, 6, 2, 3, 6, 5, 2, 5, 6, 2, 4, 5, 6, 1, 2, 4, 5, 6, 2, 6, 4, 5, 5, 1, 4, 5, 5, 3, 4, 2, 3, 5, 5, 1, 2, 3, 4, 5, 6, 4, 1, 5, 2, 3, 4, 5, 3, 4, 1, 2, 4, 5, 6, 1, 6, 1, 3, 3, 3, 6, 3, 6, 1, 1, 3, 5, 1, 5, 4, 5, 2, 5, 6, 2, 1, 2, 3, 4, 6, 1, 3, 2, 6, 1, 2, 3, 4, 1, 3, 3, 3, 3, 2, 3, 3, 4, 6, 1, 2, 3, 5, 6, 1, 2, 4, 6, 2, 2, 1, 2, 6, 2, 6, 4, 2, 4, 5, 5, 4, 1, 2, 5, 6, 3, 5, 3, 4, 4, 1, 2, 5, 1, 3, 5, 6, 1, 6, 5, 2, 4, 6, 1, 2, 1, 2, 5, 6, 6, 3, 5, 5, 5, 3, 4, 6, 6, 5, 6, 2, 1, 1, 2, 3, 4, 5, 6, 2, 5, 6, 5, 1, 1, 1, 2, 3, 4, 5, 1, 6, 3, 2, 3, 4, 5, 6, 1, 3, 3, 4, 6, 4, 6, 1, 2, 3, 4, 4, 1, 4, 2, 1, 2, 3, 1, 5, 6, 3, 4, 4, 6, 3, 1, 4, 2, 5, 1, 3, 4, 6, 5, 2, 1, 2, 5, 6, 3, 4, 1, 2, 3, 4, 5, 6, 5, 6, 2, 3, 4, 5, 3, 4, 6, 4, 4, 5, 2, 3, 4, 5, 6, 6, 4, 1, 1, 2, 1, 3, 1, 3, 2, 1, 2, 3, 4, 5, 6, 3, 4, 3, 2, 3, 2, 5, 4, 2, 5, 6, 1, 2, 5, 5, 2, 1, 2, 3, 4, 3, 5, 5, 6, 3, 4, 1, 3, 6, 1, 2, 3, 4, 5, 6, 2, 1, 2, 4, 5, 6, 1, 2, 3, 1, 4, 1, 3, 4, 3, 2, 6, 6, 4, 4, 1, 4, 2, 5, 6, 2, 5, 6, 2, 5, 6, 2, 5, 6, 6, 3, 5, 3, 5, 2, 2, 3, 4, 3, 4, 2, 3, 4, 2, 5, 6, 3, 2, 3, 4, 5, 6, 5, 6, 5, 3, 3, 4, 5, 1, 2, 4, 3, 4, 3, 4, 6, 2, 5, 6, 2, 3, 4, 3, 2, 3, 4, 5, 3, 4, 6, 1, 4, 4, 2, 5, 6, 5, 5, 6, 5, 1, 3, 1, 3, 5, 2, 4, 5, 6, 2, 4, 1, 2, 4, 5, 4, 5, 6, 2, 6, 2, 5, 1, 2, 1, 2, 6, 1, 2, 3, 4, 5, 6, 2, 5, 6, 6, 2, 3, 4, 5, 2, 1, 2, 6, 4, 6, 1, 2, 3, 6, 2, 3, 4, 6, 2, 4, 4, 2, 3, 4, 5, 5, 1, 4, 3, 6, 4, 2, 1, 2, 3, 5, 6, 6, 2, 5, 6, 3, 6, 6, 2, 5, 6, 1, 2, 3, 4, 5, 6, 1, 2, 3, 6, 1, 3], \"Freq\": [0.971242501281168, 0.9660500299860016, 0.9832782778824046, 0.9445127247812464, 0.08437655076074593, 0.2918972566858237, 0.002280447317857998, 0.6123001048448725, 0.009121789271431991, 0.0066636750965524, 0.8962643004862978, 0.0932914513517336, 0.10834221426400219, 0.12501024722769483, 0.5292100465972415, 0.11250922250492536, 0.12084323898677167, 0.010576848364382078, 0.9730700495231512, 0.7986859388853473, 0.18636005240658104, 0.9988098715352333, 0.9688206557537514, 0.9864798947434952, 0.9908542418178922, 0.008631134510608816, 0.933101389416139, 0.04911059944295468, 0.9629405741161398, 0.9147185866351386, 0.003552932363342699, 0.06298380098652967, 0.003552932363342699, 0.005490895470620536, 0.00968981553638918, 0.9645257503925639, 0.9768728056693091, 0.882437702548325, 0.08404168595698333, 0.9221955629857344, 0.9250277883688978, 0.9259718389281906, 0.9788558548086032, 0.9702220556297051, 0.9537158095627384, 0.26661595772568786, 0.730295884205145, 0.9703256823222829, 0.9915096643246306, 0.9080517132352853, 0.976514451465341, 0.06396026967276053, 0.5472156405336178, 0.08172701124852734, 0.1527939775515946, 0.15634732586674796, 0.9498220209681725, 0.9699291148330247, 0.9853138053719444, 0.7845117574988376, 0.21076435276088176, 0.9373814160056073, 0.05858633850035046, 0.008012399858184686, 0.9855251825567163, 0.812355579757544, 0.07329524027887616, 0.10994286041831423, 0.9938437585086718, 0.07000357126698473, 0.5889430887026759, 0.10804899043382427, 0.23131614853438434, 0.9695580328959226, 0.19267281286115764, 0.8070446123618301, 0.0003029446743099963, 0.9513106051196235, 0.0257110974356655, 0.9798983588228113, 0.24191756369346548, 0.5564103964949706, 0.19958199004710903, 0.8007015945437349, 0.008170424434119744, 0.18791976198475413, 0.985369552819535, 0.9964081097106955, 0.974885722145689, 0.946105758905915, 0.8358974634624764, 0.1577165025400899, 0.057009867090072025, 0.10689350079388504, 0.8266430728060443, 0.9865992284691977, 0.6746667077363354, 0.32331673251630483, 0.9988667036061982, 0.9921677513611026, 0.9707686863818833, 0.18526705780609967, 0.03087784296768328, 0.7925313028372042, 0.967457500899878, 0.1273358618416229, 0.027286256108919195, 0.700347240128926, 0.13643128054459597, 0.9560673628181092, 0.10469496623460844, 0.6747008935119211, 0.2093899324692169, 0.8758703544883047, 0.12147107106042183, 0.11362162241068736, 0.8786738799759822, 0.8954549449483095, 0.09949499388314549, 0.9774231786244738, 0.9669482964797148, 0.6703676915689953, 0.190899408857396, 0.13762515522277385, 0.14636224735117687, 0.029272449470235374, 0.04390867420535306, 0.7757199109612375, 0.18785941952076268, 0.48425983698685493, 0.02296059571920433, 0.16281149691799432, 0.13776357431522598, 0.9778514835372083, 0.99595964198361, 0.9455967355264263, 0.9443343876280084, 0.9689129652093307, 0.41024945711022265, 0.4922993485322672, 0.09435737513535121, 0.9760263767020925, 0.9984355929770878, 0.9783369506927938, 0.06279019597246059, 0.9292949003924167, 0.9590627491653301, 0.9573831631405171, 0.13140049183369548, 0.2650665093886616, 0.18350758342291956, 0.05890366875303591, 0.31037702381407384, 0.052107091589224074, 0.9425858911435906, 0.9863121594911228, 0.9655932076734101, 0.2559840974914221, 0.5882711471197103, 0.049227711056042706, 0.10830096432329395, 0.5066258249779365, 0.49138895806130684, 0.009680973478204125, 0.40176039934547114, 0.08228827456473506, 0.26138628391151136, 0.2420243369551031, 0.9805802032090446, 0.01811695525559436, 0.9727268582289619, 0.97172454611975, 0.9930237927557023, 0.8982901193243946, 0.08982901193243946, 0.9670027505983143, 0.0247949423230337, 0.9489534495230308, 0.4178130560318419, 0.42235450229305754, 0.15440917288133288, 0.9967022620735914, 0.9764674191507241, 0.3010470849499084, 0.6971616704103142, 0.23057609481695293, 0.7546126739463914, 0.9484409025701566, 0.9744382410366408, 0.8118088749233694, 0.0013009757610951433, 0.1353014791538949, 0.005203903044380573, 0.04683512739942516, 0.7282626007967994, 0.2636812864953929, 0.8949128144941091, 0.09762685249026645, 0.24848939663520606, 0.12366138987479738, 0.18665870169780738, 0.4409811827610699, 0.1698707339083942, 0.8210418805572385, 0.997058155186514, 0.9807461990252543, 0.9614452388116251, 0.9810599214658137, 0.9977162052299178, 0.061165927388305605, 0.8475849938093777, 0.0961178858959088, 0.5132665033134639, 0.01769884494184358, 0.1814131606538967, 0.26548267412765375, 0.01769884494184358, 0.9348265160009821, 0.9951567680609311, 0.9625740251844764, 0.03208580083948255, 0.9959946190169694, 0.9775842943474964, 0.8261520924494129, 0.06074647738598624, 0.10934365929477524, 0.7348990913703952, 0.261744881857949, 0.9865499084288172, 0.6332506993928394, 0.17102391151485444, 0.1941352509087537, 0.8911985622207808, 0.9607809882453049, 0.2847042564915607, 0.11749699474254886, 0.3072998324035893, 0.28922337167396645, 0.09193838664400135, 0.8734146731180128, 0.32995836727797023, 0.6670897425402442, 0.9898738771916511, 0.5721128229341338, 0.14062032348212716, 0.2870195643676294, 0.3696789665729293, 0.0016003418466360576, 0.5225116129266728, 0.10642273280129784, 0.9029425919751343, 0.9620695203444611, 0.9177474052857091, 0.26293484328543865, 0.04780633514280702, 0.6931918595707018, 0.9693162386163565, 0.9782908519812317, 0.6807453145780805, 0.2964850653749806, 0.0019505596406248723, 0.021456156046873596, 0.9752425952219795, 0.9202363808800186, 0.06880272006579578, 0.9651155554407244, 0.9404136992129406, 0.9744918442294271, 0.986029712951712, 0.968133903539064, 0.9634410592313025, 0.9548188849197735, 0.027280539569136383, 0.9902589895808598, 0.956319215709616, 0.2856872412796671, 0.035455218488168704, 0.009545635746814652, 0.0013636622495449503, 0.32932443326510547, 0.3381882378871477, 0.22873949613254205, 0.7167170878819651, 0.04574789922650841, 0.9527658350915227, 0.9597582441826626, 0.9602858769683056, 0.963896281775586, 0.11999801994831485, 0.2117612116734968, 0.6635184632436233, 0.9433504599993128, 0.9027923191529875, 0.9856741286897734, 0.9781128327816173, 0.19411357770182672, 0.0005041911109138357, 0.5505766931179086, 0.10739270662464699, 0.14671961327592617, 0.9943170496352967, 0.0031971609313032044, 0.667454107429566, 0.3073801810530896, 0.026346872661693395, 0.9472036243925175, 0.9444858972580183, 0.361260781568593, 0.054529929293372525, 0.5044018459636959, 0.078386773359223, 0.9921842212789456, 0.6518014768455753, 0.3426997455579829, 0.9571445858770076, 0.32023325454848783, 0.005003644602320122, 0.6704883767108964, 0.9131288380846236, 0.20719550160262182, 0.7942494228100503, 0.3840066781806785, 0.6171535899332333, 0.7699910957159116, 0.2215042878086869, 0.9752605750506514, 0.9701423420221353, 0.9601268102896368, 0.0013582972714352773, 0.9983484945049288, 0.1230212090000349, 0.8245038475534253, 0.005234945063831272, 0.04449703304256581, 0.9087558622532517, 0.9981681690136229, 0.21391528434639456, 0.35325459800322034, 0.2767161017691893, 0.15700204355698683, 0.4402020357153886, 0.5575892452394922, 0.009644754361750458, 0.22182935032026052, 0.30863213957601465, 0.08680278925575412, 0.1800354147526752, 0.19289508723500914, 0.4823960521492257, 0.5167167198910678, 0.007618128122361975, 0.0007618128122361974, 0.9789294637235137, 0.012950817808015356, 0.06289338840989653, 0.7637054306916008, 0.17071062568400489, 0.9722959163118003, 0.050014125094315964, 0.9002542516976874, 0.37379737870239027, 0.06749119337682047, 0.4906090595468872, 0.05970374798718733, 0.00519163025975542, 0.9953031620743691, 0.9806041025994784, 0.9615181282740407, 0.9269339561795382, 0.040301476355632096, 0.6934566337164164, 0.2994471827411798, 0.712872882481375, 0.28727713174622577, 0.9793284656961154, 0.4090840482989851, 0.21281025104182189, 0.10385511161953835, 0.09489142639047105, 0.006336398179168262, 0.1729373064021777, 0.9006313821642189, 0.09722725148363727, 0.993562432504192, 0.9612730289215834, 0.9971570157788103, 0.9898623231510019, 0.9712008740863155, 0.9815561548697938, 0.3538034082886133, 0.3207138808947142, 0.32580457741685254, 0.9312721453308247, 0.14496974130760779, 0.8456568242943788, 0.9161032805580956, 0.9882923742280814, 0.8478021993339039, 0.0034984960082554495, 0.11661653360851498, 0.031486464074299045, 0.9705567675487199, 0.9519131890148721, 0.783708511754919, 0.2162178412712411, 0.9694662451865138, 0.9789300201989415, 0.28200720237331867, 0.2790696273485966, 0.44063625370831044, 0.2679696604003625, 0.22039137375784915, 0.04921891721639311, 0.13398483020018126, 0.3007822718779579, 0.027890719755956098, 0.9629024053804013, 0.1535072398104059, 0.24189019606488202, 0.15815897435011517, 0.3395766213987767, 0.1069898944133132, 0.0007456502369130462, 0.0029826009476521848, 0.9954430662789167, 0.7870527628280576, 0.2090608901262028, 0.8268169607678582, 0.12290522389792485, 0.050279409776423804, 0.9961538381313322, 0.021026546846627456, 0.9672211549448629, 0.9909006728888212, 0.9766960066863616, 0.9900007999732471, 0.1409536893236668, 0.8569984310878942, 0.05105444291903519, 0.9445071940021509, 0.9836628508568399, 0.37388655640733753, 0.6231442606788958, 0.9600488280802659, 0.33103018890950286, 0.6620603778190057, 0.9834040490458078, 0.17447245022891408, 0.822884989139356, 0.002604066421327076, 0.966199402311868, 0.10058788936443266, 0.905291004279894, 0.9888209485706109, 0.9540853238969867, 0.9937496558842938, 0.8254258520706894, 0.15535838459595627, 0.01891319464646424, 0.9929844231284114, 0.9841918589947892, 0.11788417278079007, 0.6994460918326877, 0.18075573159721142, 0.06088915594559561, 0.2942975870703788, 0.6454250530233134, 0.9531644935341236, 0.20487234263255946, 0.0878024325568112, 0.15219088309847276, 0.11121641457196085, 0.4448656582878434, 0.2615703605533047, 0.7362721260018946, 0.9574000218344008, 0.9800936316069485, 0.1660554247415244, 0.8302771237076221, 0.007547973851887473, 0.2752281274213804, 0.6492560954555641, 0.07057131472343087, 0.17472181031803385, 0.8204328484498982, 0.003181986924236138, 0.13682543774215394, 0.8591364695437572, 0.11037342306082971, 0.7174272498953932, 0.16556013459124458, 0.008110216731251216, 0.7583052643719888, 0.23114117684065966, 0.9903409686809193, 0.0421793452785632, 0.3093151987094635, 0.4920923615832374, 0.15465759935473175, 0.5353174172991021, 0.3203793633835535, 0.14194022428385283, 0.9877137535791072, 0.9843683886959587, 0.9933893146135273, 0.9031641454369599, 0.08883581758396326, 0.9891948376302403, 0.9792883289694513, 0.10879004760391443, 0.8703203808313155, 0.9744078223714807, 0.7488873740482059, 0.24613780825360615, 0.6332502703286508, 0.21393590213805772, 0.14975513149664038, 0.17286022759435868, 0.31114840966984564, 0.14865979573114846, 0.3664636825000404, 0.8873246165049838, 0.10896968974622609, 0.22738656504783, 0.009886372393383913, 0.06920460675368739, 0.6821596951434901, 0.3095551642133723, 0.006317452330885149, 0.682284851735596, 0.15966606927600818, 0.8211397848480421, 0.17907134943600128, 0.8058210724620057, 0.9130343085496904, 0.07483887774997462, 0.24764705534673137, 0.11256684333942335, 0.637878778923399, 0.2741636416066061, 0.241181549383255, 0.030920711459391667, 0.1247135362195464, 0.19686186295812697, 0.13192836889340445, 0.9803557249663902, 0.027225820293320567, 0.9529037102662199, 0.9785961757029755, 0.27582419330095775, 0.5569526980115493, 0.05834742550597183, 0.10608622819267606, 0.982067290669439, 0.021141328381593806, 0.9777864376487135, 0.9658033542706125, 0.11829250209267891, 0.8804341941469388, 0.6904583641344807, 0.15626162977780353, 0.014535965560725908, 0.13809167282689613, 0.05886229843181743, 0.11772459686363486, 0.615378574514455, 0.20869360353098906, 0.995176282899011, 0.9843127677899802, 0.9923314997838235, 0.1487541368299239, 0.4568877059776234, 0.3045918039850823, 0.0885441290654309, 0.9645752835163522, 0.8901136562311978, 0.9924545220379111, 0.023617895009031838, 0.9742381691225632, 0.9928024631506107, 0.968235606328704, 0.05325386493232015, 0.1673692897872919, 0.0760769499033145, 0.6694771591491676, 0.03423462745649152, 0.9931051212034334, 0.9665439513051812, 0.031737264072707445, 0.960649470940361, 0.9197966487845092, 0.06569976062746494, 0.954801422057579, 0.8302817544718043, 0.13191392360766985, 0.03879821282578525, 0.013229765816904797, 0.2811325236092269, 0.382009487963126, 0.052919063267619186, 0.12402905453348247, 0.14718114471306587, 0.2553148218295842, 0.6297765605129744, 0.1089343239806226, 0.003404197624394456, 0.9619343600774286, 0.9737653514110537], \"Term\": [\"accept\", \"accessory\", \"airtel\", \"alarm\", \"amazon\", \"amazon\", \"amazon\", \"amazon\", \"amazon\", \"android\", \"android\", \"android\", \"apps\", \"apps\", \"apps\", \"apps\", \"apps\", \"audio\", \"audio\", \"auto\", \"auto\", \"awesome\", \"awsome\", \"background\", \"backup\", \"backup\", \"bahut\", \"bahut\", \"bakwas\", \"battery\", \"battery\", \"battery\", \"battery\", \"battery\", \"battery\", \"battry\", \"bekar\", \"bettery\", \"bettery\", \"bettry\", \"bhai\", \"bilkul\", \"bill\", \"blowing\", \"blue\", \"bluetooth\", \"bluetooth\", \"blur\", \"bokeh\", \"booting\", \"bottom\", \"bought\", \"bought\", \"bought\", \"bought\", \"bought\", \"break\", \"broke\", \"broken\", \"budget\", \"budget\", \"build\", \"build\", \"button\", \"button\", \"buying\", \"buying\", \"buying\", \"cable\", \"call\", \"call\", \"call\", \"call\", \"caller\", \"camera\", \"camera\", \"camera\", \"capacity\", \"capacity\", \"capture\", \"card\", \"card\", \"card\", \"care\", \"care\", \"care\", \"cash\", \"cast\", \"category\", \"cause\", \"cell\", \"cell\", \"center\", \"center\", \"center\", \"centre\", \"charge\", \"charge\", \"charger\", \"clarity\", \"clearity\", \"compare\", \"compare\", \"compare\", \"comparison\", \"con\", \"con\", \"con\", \"con\", \"concern\", \"connectivity\", \"connectivity\", \"connectivity\", \"contact\", \"contact\", \"core\", \"core\", \"cost\", \"cost\", \"coverage\", \"custom\", \"customer\", \"customer\", \"customer\", \"date\", \"date\", \"date\", \"date\", \"day\", \"day\", \"day\", \"day\", \"day\", \"deal\", \"deca\", \"decacore\", \"decide\", \"degree\", \"delivery\", \"delivery\", \"delivery\", \"department\", \"depth\", \"described\", \"design\", \"design\", \"deta\", \"detail\", \"device\", \"device\", \"device\", \"device\", \"device\", \"device\", \"didnt\", \"discharge\", \"discount\", \"display\", \"display\", \"display\", \"display\", \"dolby\", \"dolby\", \"dont\", \"dont\", \"dont\", \"dont\", \"dont\", \"drain\", \"drain\", \"drainage\", \"dull\", \"earphone\", \"edge\", \"edge\", \"effect\", \"effect\", \"effort\", \"everything\", \"everything\", \"everything\", \"excellent\", \"exchange\", \"face\", \"face\", \"facility\", \"facility\", \"fact\", \"fall\", \"fast\", \"fast\", \"fast\", \"fast\", \"fast\", \"faster\", \"faster\", \"faulty\", \"faulty\", \"feature\", \"feature\", \"feature\", \"feature\", \"fingerprint\", \"fingerprint\", \"flash\", \"focus\", \"fone\", \"fool\", \"front\", \"gallery\", \"gallery\", \"gallery\", \"game\", \"game\", \"game\", \"game\", \"game\", \"ghatiya\", \"glass\", \"google\", \"google\", \"gorilla\", \"guard\", \"half\", \"half\", \"half\", \"hand\", \"hand\", \"handle\", \"handset\", \"handset\", \"handset\", \"handsfree\", \"handy\", \"hang\", \"hang\", \"hang\", \"hang\", \"hate\", \"hate\", \"headphone\", \"headphone\", \"headset\", \"heat\", \"heat\", \"heat\", \"heating\", \"heating\", \"heating\", \"heating\", \"heatup\", \"helio\", \"honest\", \"hope\", \"hope\", \"hope\", \"hota\", \"hotspot\", \"hour\", \"hour\", \"hour\", \"hour\", \"icon\", \"image\", \"image\", \"imei\", \"impression\", \"improvement\", \"inbuilt\", \"increase\", \"india\", \"invoice\", \"invoice\", \"iron\", \"iska\", \"issue\", \"issue\", \"issue\", \"issue\", \"issue\", \"issue\", \"item\", \"item\", \"item\", \"jata\", \"jyada\", \"karta\", \"kharab\", \"killer\", \"killer\", \"killer\", \"kiya\", \"lena\", \"lenevo\", \"lenova\", \"lenovo\", \"lenovo\", \"lenovo\", \"lenovo\", \"lenovo\", \"life\", \"life\", \"light\", \"light\", \"light\", \"list\", \"location\", \"look\", \"look\", \"look\", \"look\", \"loud\", \"love\", \"love\", \"manufacturing\", \"mark\", \"mark\", \"mark\", \"mast\", \"medium\", \"medium\", \"memory\", \"memory\", \"message\", \"message\", \"minor\", \"mobail\", \"mobil\", \"mobile\", \"mobile\", \"mode\", \"mode\", \"mode\", \"mode\", \"moment\", \"money\", \"month\", \"month\", \"month\", \"month\", \"music\", \"music\", \"need\", \"need\", \"need\", \"need\", \"need\", \"need\", \"network\", \"network\", \"note\", \"note\", \"note\", \"note\", \"notification\", \"notification\", \"notification\", \"nougat\", \"october\", \"october\", \"option\", \"option\", \"option\", \"option\", \"option\", \"oreo\", \"paisa\", \"penny\", \"percent\", \"percent\", \"perfect\", \"perfect\", \"performance\", \"performance\", \"phon\", \"phone\", \"phone\", \"phone\", \"phone\", \"phone\", \"phone\", \"photo\", \"photo\", \"pic\", \"pick\", \"picture\", \"piece\", \"place\", \"player\", \"please\", \"please\", \"please\", \"plug\", \"policy\", \"policy\", \"position\", \"present\", \"price\", \"price\", \"price\", \"price\", \"primary\", \"prob\", \"problem\", \"problem\", \"processer\", \"processing\", \"processor\", \"processor\", \"processor\", \"product\", \"product\", \"product\", \"product\", \"product\", \"product\", \"protection\", \"purchase\", \"purchase\", \"purchase\", \"purchase\", \"purchase\", \"quality\", \"quality\", \"quality\", \"quick\", \"quick\", \"range\", \"range\", \"range\", \"rear\", \"receive\", \"receive\", \"reception\", \"record\", \"recorder\", \"redmi\", \"redmi\", \"refund\", \"refund\", \"repair\", \"replacement\", \"replacement\", \"resolve\", \"restart\", \"restart\", \"result\", \"return\", \"return\", \"return\", \"ring\", \"ringtone\", \"ringtone\", \"satisfactory\", \"satisfy\", \"scratch\", \"screen\", \"screen\", \"screen\", \"selfie\", \"seller\", \"sensor\", \"sensor\", \"sensor\", \"service\", \"service\", \"service\", \"setup\", \"show\", \"show\", \"show\", \"show\", \"show\", \"signal\", \"signal\", \"site\", \"slight\", \"slot\", \"slot\", \"slot\", \"smart\", \"smart\", \"smart\", \"smartphone\", \"smartphone\", \"software\", \"software\", \"software\", \"solution\", \"solution\", \"solution\", \"sound\", \"sound\", \"sound\", \"space\", \"speaker\", \"speaker\", \"speaker\", \"speaker\", \"speed\", \"speed\", \"speed\", \"stand\", \"standard\", \"stock\", \"stop\", \"stop\", \"storage\", \"store\", \"strength\", \"strength\", \"suggestion\", \"super\", \"super\", \"superb\", \"superb\", \"superb\", \"support\", \"support\", \"support\", \"support\", \"sure\", \"sure\", \"switch\", \"switch\", \"switch\", \"switch\", \"system\", \"system\", \"system\", \"talk\", \"talk\", \"team\", \"team\", \"thank\", \"thank\", \"till\", \"till\", \"till\", \"time\", \"time\", \"time\", \"time\", \"time\", \"time\", \"today\", \"told\", \"told\", \"tone\", \"touch\", \"touch\", \"touch\", \"touch\", \"trust\", \"turbo\", \"turbo\", \"turbocharger\", \"update\", \"update\", \"usage\", \"usage\", \"usage\", \"usage\", \"user\", \"user\", \"user\", \"user\", \"value\", \"version\", \"vibe\", \"video\", \"video\", \"video\", \"video\", \"visit\", \"vivo\", \"voice\", \"volta\", \"volta\", \"volume\", \"wait\", \"want\", \"want\", \"want\", \"want\", \"want\", \"warranty\", \"waste\", \"waste\", \"water\", \"weight\", \"weight\", \"west\", \"wifi\", \"wifi\", \"wifi\", \"work\", \"work\", \"work\", \"work\", \"work\", \"work\", \"worth\", \"worth\", \"worth\", \"worth\", \"yesterday\", \"zoom\"]}, \"R\": 30, \"lambda.step\": 0.01, \"plot.opts\": {\"xlab\": \"PC1\", \"ylab\": \"PC2\"}, \"topic.order\": [6, 4, 1, 2, 3, 5]};\n",
       "\n",
       "function LDAvis_load_lib(url, callback){\n",
       "  var s = document.createElement('script');\n",
       "  s.src = url;\n",
       "  s.async = true;\n",
       "  s.onreadystatechange = s.onload = callback;\n",
       "  s.onerror = function(){console.warn(\"failed to load library \" + url);};\n",
       "  document.getElementsByTagName(\"head\")[0].appendChild(s);\n",
       "}\n",
       "\n",
       "if(typeof(LDAvis) !== \"undefined\"){\n",
       "   // already loaded: just create the visualization\n",
       "   !function(LDAvis){\n",
       "       new LDAvis(\"#\" + \"ldavis_el2871396321854294565748775858\", ldavis_el2871396321854294565748775858_data);\n",
       "   }(LDAvis);\n",
       "}else if(typeof define === \"function\" && define.amd){\n",
       "   // require.js is available: use it to load d3/LDAvis\n",
       "   require.config({paths: {d3: \"https://d3js.org/d3.v5\"}});\n",
       "   require([\"d3\"], function(d3){\n",
       "      window.d3 = d3;\n",
       "      LDAvis_load_lib(\"https://cdn.jsdelivr.net/gh/bmabey/pyLDAvis@3.3.1/pyLDAvis/js/ldavis.v3.0.0.js\", function(){\n",
       "        new LDAvis(\"#\" + \"ldavis_el2871396321854294565748775858\", ldavis_el2871396321854294565748775858_data);\n",
       "      });\n",
       "    });\n",
       "}else{\n",
       "    // require.js not available: dynamically load d3 & LDAvis\n",
       "    LDAvis_load_lib(\"https://d3js.org/d3.v5.js\", function(){\n",
       "         LDAvis_load_lib(\"https://cdn.jsdelivr.net/gh/bmabey/pyLDAvis@3.3.1/pyLDAvis/js/ldavis.v3.0.0.js\", function(){\n",
       "                 new LDAvis(\"#\" + \"ldavis_el2871396321854294565748775858\", ldavis_el2871396321854294565748775858_data);\n",
       "            })\n",
       "         });\n",
       "}\n",
       "</script>"
      ],
      "text/plain": [
       "PreparedData(topic_coordinates=              x         y  topics  cluster       Freq\n",
       "topic                                                \n",
       "5     -0.151077 -0.183800       1        1  21.159834\n",
       "3      0.081218 -0.004608       2        1  18.222326\n",
       "0     -0.279494  0.006759       3        1  17.256118\n",
       "1     -0.012698  0.279254       4        1  15.857927\n",
       "2      0.224529 -0.098105       5        1  14.428330\n",
       "4      0.137521  0.000500       6        1  13.075465, topic_info=        Term         Freq        Total Category  logprob  loglift\n",
       "15    mobile  2208.000000  2208.000000  Default  30.0000  30.0000\n",
       "77    camera  3300.000000  3300.000000  Default  29.0000  29.0000\n",
       "5    battery  3096.000000  3096.000000  Default  28.0000  28.0000\n",
       "117  quality  1341.000000  1341.000000  Default  27.0000  27.0000\n",
       "34      note  1312.000000  1312.000000  Default  26.0000  26.0000\n",
       "..       ...          ...          ...      ...      ...      ...\n",
       "50   heating   132.785938  1249.732989   Topic6  -4.5803  -0.2075\n",
       "150     work    88.727584   604.697023   Topic6  -4.9834   0.1153\n",
       "49     month    79.606514   509.547508   Topic6  -5.0919   0.1780\n",
       "205     hang    63.683875   221.282255   Topic6  -5.3151   0.7889\n",
       "108      day    66.222488   479.081646   Topic6  -5.2760   0.0556\n",
       "\n",
       "[398 rows x 6 columns], token_table=      Topic      Freq       Term\n",
       "term                            \n",
       "806       6  0.971243     accept\n",
       "391       2  0.966050  accessory\n",
       "534       5  0.983278     airtel\n",
       "1748      6  0.944513      alarm\n",
       "3         1  0.084377     amazon\n",
       "...     ...       ...        ...\n",
       "116       2  0.629777      worth\n",
       "116       3  0.108934      worth\n",
       "116       6  0.003404      worth\n",
       "1151      1  0.961934  yesterday\n",
       "431       3  0.973765       zoom\n",
       "\n",
       "[608 rows x 3 columns], R=30, lambda_step=0.01, plot_opts={'xlab': 'PC1', 'ylab': 'PC2'}, topic_order=[6, 4, 1, 2, 3, 5])"
      ]
     },
     "execution_count": 46,
     "metadata": {},
     "output_type": "execute_result"
    }
   ],
   "source": [
    "import pyLDAvis\n",
    "#import pyLDAvis.gensim\n",
    "import pyLDAvis.gensim_models as gensimvis\n",
    "\n",
    "pyLDAvis.enable_notebook()\n",
    "vis = gensimvis.prepare(ldamodel,doc_term_matrix,dictionary)\n",
    "vis"
   ]
  },
  {
   "cell_type": "markdown",
   "metadata": {
    "id": "n_PW2aquPmVP"
   },
   "source": [
    "Above plot shows some topics are overlapping with each other hence will try to find optimal number of topics."
   ]
  },
  {
   "cell_type": "markdown",
   "metadata": {
    "id": "rxRzg80qTNP7"
   },
   "source": [
    "Task 10: A topic model using LDA with the optimal number of topics"
   ]
  },
  {
   "cell_type": "code",
   "execution_count": 32,
   "metadata": {
    "colab": {
     "base_uri": "https://localhost:8080/"
    },
    "id": "L3RQ6bVLdGaz",
    "outputId": "3f3859c9-410a-4bbf-f9bc-43626329eadd"
   },
   "outputs": [
    {
     "name": "stdout",
     "output_type": "stream",
     "text": [
      "\n",
      "Coherence Score:  0.5758709646389434\n"
     ]
    }
   ],
   "source": [
    "from gensim.models.coherencemodel import CoherenceModel\n",
    "coherence_model_lda = CoherenceModel(model=ldamodel,texts=AnaReviews_df['clean_review'],\\\n",
    "                                     dictionary=dictionary , coherence='c_v')\n",
    "print('\\nCoherence Score: ', coherence_model_lda.get_coherence())"
   ]
  },
  {
   "cell_type": "code",
   "execution_count": 33,
   "metadata": {
    "id": "vZmqFAtseyWz"
   },
   "outputs": [],
   "source": [
    "# Computing coherence score for different size of topic\n",
    "\n",
    "def calculate_topic_cv(ldamodel,texts,dictionary,topic_range):\n",
    "  cv_score =[]\n",
    "  topic_num = []\n",
    "  for i in range(2,topic_range):\n",
    "    topic_num.append(i)\n",
    "    Lda = gensim.models.ldamodel.LdaModel\n",
    "    ldamodel = Lda(doc_term_matrix, num_topics=i, id2word=dictionary, passes=10,random_state=45)\n",
    "    cv_score.append(CoherenceModel(model=ldamodel,texts=texts,\\\n",
    "                                   dictionary=dictionary , coherence='c_v').get_coherence())\n",
    "    clear_output()\n",
    "  return topic_num,cv_score"
   ]
  },
  {
   "cell_type": "code",
   "execution_count": 34,
   "metadata": {
    "id": "9zYMRZh5e92f"
   },
   "outputs": [],
   "source": [
    "topic_num,cv_score = calculate_topic_cv(ldamodel,AnaReviews_df['clean_review'],dictionary,15)"
   ]
  },
  {
   "cell_type": "markdown",
   "metadata": {
    "id": "D1zMDhX-WKNF"
   },
   "source": [
    "\n",
    "Hyperparameter Tuning\n",
    "\n",
    "    Number of topics K\n",
    "    Dirichlet hyperparamater alpha: Document Topic Density\n",
    "    Dirichlet hyperparameter beta: Word-Topic Density\n",
    "\n"
   ]
  },
  {
   "cell_type": "code",
   "execution_count": 35,
   "metadata": {
    "colab": {
     "base_uri": "https://localhost:8080/",
     "height": 489
    },
    "id": "9fKC2DmGb1sw",
    "outputId": "e678c3ee-eb15-45b0-a2f2-1c618b108a16"
   },
   "outputs": [
    {
     "data": {
      "text/html": [
       "\n",
       "  <div id=\"df-4488a9b5-cfe4-421b-bd49-42d25d1a56a9\">\n",
       "    <div class=\"colab-df-container\">\n",
       "      <div>\n",
       "<style scoped>\n",
       "    .dataframe tbody tr th:only-of-type {\n",
       "        vertical-align: middle;\n",
       "    }\n",
       "\n",
       "    .dataframe tbody tr th {\n",
       "        vertical-align: top;\n",
       "    }\n",
       "\n",
       "    .dataframe thead th {\n",
       "        text-align: right;\n",
       "    }\n",
       "</style>\n",
       "<table border=\"1\" class=\"dataframe\">\n",
       "  <thead>\n",
       "    <tr style=\"text-align: right;\">\n",
       "      <th></th>\n",
       "      <th>Coherence_Score</th>\n",
       "    </tr>\n",
       "    <tr>\n",
       "      <th>Topic</th>\n",
       "      <th></th>\n",
       "    </tr>\n",
       "  </thead>\n",
       "  <tbody>\n",
       "    <tr>\n",
       "      <th>6</th>\n",
       "      <td>0.609116</td>\n",
       "    </tr>\n",
       "    <tr>\n",
       "      <th>10</th>\n",
       "      <td>0.605270</td>\n",
       "    </tr>\n",
       "    <tr>\n",
       "      <th>7</th>\n",
       "      <td>0.602581</td>\n",
       "    </tr>\n",
       "    <tr>\n",
       "      <th>8</th>\n",
       "      <td>0.597894</td>\n",
       "    </tr>\n",
       "    <tr>\n",
       "      <th>3</th>\n",
       "      <td>0.589486</td>\n",
       "    </tr>\n",
       "    <tr>\n",
       "      <th>2</th>\n",
       "      <td>0.582708</td>\n",
       "    </tr>\n",
       "    <tr>\n",
       "      <th>9</th>\n",
       "      <td>0.582576</td>\n",
       "    </tr>\n",
       "    <tr>\n",
       "      <th>5</th>\n",
       "      <td>0.579579</td>\n",
       "    </tr>\n",
       "    <tr>\n",
       "      <th>12</th>\n",
       "      <td>0.575871</td>\n",
       "    </tr>\n",
       "    <tr>\n",
       "      <th>13</th>\n",
       "      <td>0.571891</td>\n",
       "    </tr>\n",
       "    <tr>\n",
       "      <th>11</th>\n",
       "      <td>0.568505</td>\n",
       "    </tr>\n",
       "    <tr>\n",
       "      <th>4</th>\n",
       "      <td>0.568473</td>\n",
       "    </tr>\n",
       "    <tr>\n",
       "      <th>14</th>\n",
       "      <td>0.555884</td>\n",
       "    </tr>\n",
       "  </tbody>\n",
       "</table>\n",
       "</div>\n",
       "      <button class=\"colab-df-convert\" onclick=\"convertToInteractive('df-4488a9b5-cfe4-421b-bd49-42d25d1a56a9')\"\n",
       "              title=\"Convert this dataframe to an interactive table.\"\n",
       "              style=\"display:none;\">\n",
       "        \n",
       "  <svg xmlns=\"http://www.w3.org/2000/svg\" height=\"24px\"viewBox=\"0 0 24 24\"\n",
       "       width=\"24px\">\n",
       "    <path d=\"M0 0h24v24H0V0z\" fill=\"none\"/>\n",
       "    <path d=\"M18.56 5.44l.94 2.06.94-2.06 2.06-.94-2.06-.94-.94-2.06-.94 2.06-2.06.94zm-11 1L8.5 8.5l.94-2.06 2.06-.94-2.06-.94L8.5 2.5l-.94 2.06-2.06.94zm10 10l.94 2.06.94-2.06 2.06-.94-2.06-.94-.94-2.06-.94 2.06-2.06.94z\"/><path d=\"M17.41 7.96l-1.37-1.37c-.4-.4-.92-.59-1.43-.59-.52 0-1.04.2-1.43.59L10.3 9.45l-7.72 7.72c-.78.78-.78 2.05 0 2.83L4 21.41c.39.39.9.59 1.41.59.51 0 1.02-.2 1.41-.59l7.78-7.78 2.81-2.81c.8-.78.8-2.07 0-2.86zM5.41 20L4 18.59l7.72-7.72 1.47 1.35L5.41 20z\"/>\n",
       "  </svg>\n",
       "      </button>\n",
       "      \n",
       "  <style>\n",
       "    .colab-df-container {\n",
       "      display:flex;\n",
       "      flex-wrap:wrap;\n",
       "      gap: 12px;\n",
       "    }\n",
       "\n",
       "    .colab-df-convert {\n",
       "      background-color: #E8F0FE;\n",
       "      border: none;\n",
       "      border-radius: 50%;\n",
       "      cursor: pointer;\n",
       "      display: none;\n",
       "      fill: #1967D2;\n",
       "      height: 32px;\n",
       "      padding: 0 0 0 0;\n",
       "      width: 32px;\n",
       "    }\n",
       "\n",
       "    .colab-df-convert:hover {\n",
       "      background-color: #E2EBFA;\n",
       "      box-shadow: 0px 1px 2px rgba(60, 64, 67, 0.3), 0px 1px 3px 1px rgba(60, 64, 67, 0.15);\n",
       "      fill: #174EA6;\n",
       "    }\n",
       "\n",
       "    [theme=dark] .colab-df-convert {\n",
       "      background-color: #3B4455;\n",
       "      fill: #D2E3FC;\n",
       "    }\n",
       "\n",
       "    [theme=dark] .colab-df-convert:hover {\n",
       "      background-color: #434B5C;\n",
       "      box-shadow: 0px 1px 3px 1px rgba(0, 0, 0, 0.15);\n",
       "      filter: drop-shadow(0px 1px 2px rgba(0, 0, 0, 0.3));\n",
       "      fill: #FFFFFF;\n",
       "    }\n",
       "  </style>\n",
       "\n",
       "      <script>\n",
       "        const buttonEl =\n",
       "          document.querySelector('#df-4488a9b5-cfe4-421b-bd49-42d25d1a56a9 button.colab-df-convert');\n",
       "        buttonEl.style.display =\n",
       "          google.colab.kernel.accessAllowed ? 'block' : 'none';\n",
       "\n",
       "        async function convertToInteractive(key) {\n",
       "          const element = document.querySelector('#df-4488a9b5-cfe4-421b-bd49-42d25d1a56a9');\n",
       "          const dataTable =\n",
       "            await google.colab.kernel.invokeFunction('convertToInteractive',\n",
       "                                                     [key], {});\n",
       "          if (!dataTable) return;\n",
       "\n",
       "          const docLinkHtml = 'Like what you see? Visit the ' +\n",
       "            '<a target=\"_blank\" href=https://colab.research.google.com/notebooks/data_table.ipynb>data table notebook</a>'\n",
       "            + ' to learn more about interactive tables.';\n",
       "          element.innerHTML = '';\n",
       "          dataTable['output_type'] = 'display_data';\n",
       "          await google.colab.output.renderOutput(dataTable, element);\n",
       "          const docLink = document.createElement('div');\n",
       "          docLink.innerHTML = docLinkHtml;\n",
       "          element.appendChild(docLink);\n",
       "        }\n",
       "      </script>\n",
       "    </div>\n",
       "  </div>\n",
       "  "
      ],
      "text/plain": [
       "       Coherence_Score\n",
       "Topic                 \n",
       "6             0.609116\n",
       "10            0.605270\n",
       "7             0.602581\n",
       "8             0.597894\n",
       "3             0.589486\n",
       "2             0.582708\n",
       "9             0.582576\n",
       "5             0.579579\n",
       "12            0.575871\n",
       "13            0.571891\n",
       "11            0.568505\n",
       "4             0.568473\n",
       "14            0.555884"
      ]
     },
     "execution_count": 35,
     "metadata": {},
     "output_type": "execute_result"
    }
   ],
   "source": [
    "pd.DataFrame(zip(topic_num,cv_score),columns=['Topic','Coherence_Score']).set_index\\\n",
    "('Topic').sort_values('Coherence_Score',ascending=False)"
   ]
  },
  {
   "cell_type": "code",
   "execution_count": 36,
   "metadata": {
    "colab": {
     "base_uri": "https://localhost:8080/"
    },
    "id": "mDMUW7BzPz3Y",
    "outputId": "c7192c6e-f192-442b-cc67-a65622a265c7"
   },
   "outputs": [
    {
     "name": "stdout",
     "output_type": "stream",
     "text": [
      "\n",
      "Coherence Score:  0.5758709646389434\n"
     ]
    }
   ],
   "source": [
    "from gensim.models.coherencemodel import CoherenceModel\n",
    "coherence_model_lda = CoherenceModel(model=ldamodel,texts=AnaReviews_df['clean_review'],\\\n",
    "                                     dictionary=dictionary , coherence='c_v')\n",
    "print('\\nCoherence Score: ', coherence_model_lda.get_coherence())"
   ]
  },
  {
   "cell_type": "code",
   "execution_count": 37,
   "metadata": {
    "id": "cJg8SpetR18p"
   },
   "outputs": [],
   "source": [
    "# Computing coherence score for different size of topic\n",
    "\n",
    "def calculate_topic_cv(ldamodel,texts,dictionary,topic_range):\n",
    "  cv_score =[]\n",
    "  topic_num = []\n",
    "  for i in range(2,topic_range):\n",
    "    topic_num.append(i)\n",
    "    Lda = gensim.models.ldamodel.LdaModel\n",
    "    ldamodel = Lda(doc_term_matrix, num_topics=i, id2word=dictionary, passes=10,random_state=45)\n",
    "    cv_score.append(CoherenceModel(model=ldamodel,texts=texts,\\\n",
    "                                   dictionary=dictionary , coherence='c_v').get_coherence())\n",
    "    clear_output()\n",
    "  return topic_num,cv_score"
   ]
  },
  {
   "cell_type": "code",
   "execution_count": 38,
   "metadata": {
    "colab": {
     "base_uri": "https://localhost:8080/",
     "height": 489
    },
    "id": "aaKM-pCQTBfe",
    "outputId": "442c3d16-9b10-43c4-f543-d116d8b2f14b"
   },
   "outputs": [
    {
     "data": {
      "text/html": [
       "\n",
       "  <div id=\"df-e86f26c6-1bb8-4e76-9f98-2c7cf3ccfb63\">\n",
       "    <div class=\"colab-df-container\">\n",
       "      <div>\n",
       "<style scoped>\n",
       "    .dataframe tbody tr th:only-of-type {\n",
       "        vertical-align: middle;\n",
       "    }\n",
       "\n",
       "    .dataframe tbody tr th {\n",
       "        vertical-align: top;\n",
       "    }\n",
       "\n",
       "    .dataframe thead th {\n",
       "        text-align: right;\n",
       "    }\n",
       "</style>\n",
       "<table border=\"1\" class=\"dataframe\">\n",
       "  <thead>\n",
       "    <tr style=\"text-align: right;\">\n",
       "      <th></th>\n",
       "      <th>Coherence_Score</th>\n",
       "    </tr>\n",
       "    <tr>\n",
       "      <th>Topic</th>\n",
       "      <th></th>\n",
       "    </tr>\n",
       "  </thead>\n",
       "  <tbody>\n",
       "    <tr>\n",
       "      <th>6</th>\n",
       "      <td>0.609116</td>\n",
       "    </tr>\n",
       "    <tr>\n",
       "      <th>10</th>\n",
       "      <td>0.605270</td>\n",
       "    </tr>\n",
       "    <tr>\n",
       "      <th>7</th>\n",
       "      <td>0.602581</td>\n",
       "    </tr>\n",
       "    <tr>\n",
       "      <th>8</th>\n",
       "      <td>0.597894</td>\n",
       "    </tr>\n",
       "    <tr>\n",
       "      <th>3</th>\n",
       "      <td>0.589486</td>\n",
       "    </tr>\n",
       "    <tr>\n",
       "      <th>2</th>\n",
       "      <td>0.582708</td>\n",
       "    </tr>\n",
       "    <tr>\n",
       "      <th>9</th>\n",
       "      <td>0.582576</td>\n",
       "    </tr>\n",
       "    <tr>\n",
       "      <th>5</th>\n",
       "      <td>0.579579</td>\n",
       "    </tr>\n",
       "    <tr>\n",
       "      <th>12</th>\n",
       "      <td>0.575871</td>\n",
       "    </tr>\n",
       "    <tr>\n",
       "      <th>13</th>\n",
       "      <td>0.571891</td>\n",
       "    </tr>\n",
       "    <tr>\n",
       "      <th>11</th>\n",
       "      <td>0.568505</td>\n",
       "    </tr>\n",
       "    <tr>\n",
       "      <th>4</th>\n",
       "      <td>0.568473</td>\n",
       "    </tr>\n",
       "    <tr>\n",
       "      <th>14</th>\n",
       "      <td>0.555884</td>\n",
       "    </tr>\n",
       "  </tbody>\n",
       "</table>\n",
       "</div>\n",
       "      <button class=\"colab-df-convert\" onclick=\"convertToInteractive('df-e86f26c6-1bb8-4e76-9f98-2c7cf3ccfb63')\"\n",
       "              title=\"Convert this dataframe to an interactive table.\"\n",
       "              style=\"display:none;\">\n",
       "        \n",
       "  <svg xmlns=\"http://www.w3.org/2000/svg\" height=\"24px\"viewBox=\"0 0 24 24\"\n",
       "       width=\"24px\">\n",
       "    <path d=\"M0 0h24v24H0V0z\" fill=\"none\"/>\n",
       "    <path d=\"M18.56 5.44l.94 2.06.94-2.06 2.06-.94-2.06-.94-.94-2.06-.94 2.06-2.06.94zm-11 1L8.5 8.5l.94-2.06 2.06-.94-2.06-.94L8.5 2.5l-.94 2.06-2.06.94zm10 10l.94 2.06.94-2.06 2.06-.94-2.06-.94-.94-2.06-.94 2.06-2.06.94z\"/><path d=\"M17.41 7.96l-1.37-1.37c-.4-.4-.92-.59-1.43-.59-.52 0-1.04.2-1.43.59L10.3 9.45l-7.72 7.72c-.78.78-.78 2.05 0 2.83L4 21.41c.39.39.9.59 1.41.59.51 0 1.02-.2 1.41-.59l7.78-7.78 2.81-2.81c.8-.78.8-2.07 0-2.86zM5.41 20L4 18.59l7.72-7.72 1.47 1.35L5.41 20z\"/>\n",
       "  </svg>\n",
       "      </button>\n",
       "      \n",
       "  <style>\n",
       "    .colab-df-container {\n",
       "      display:flex;\n",
       "      flex-wrap:wrap;\n",
       "      gap: 12px;\n",
       "    }\n",
       "\n",
       "    .colab-df-convert {\n",
       "      background-color: #E8F0FE;\n",
       "      border: none;\n",
       "      border-radius: 50%;\n",
       "      cursor: pointer;\n",
       "      display: none;\n",
       "      fill: #1967D2;\n",
       "      height: 32px;\n",
       "      padding: 0 0 0 0;\n",
       "      width: 32px;\n",
       "    }\n",
       "\n",
       "    .colab-df-convert:hover {\n",
       "      background-color: #E2EBFA;\n",
       "      box-shadow: 0px 1px 2px rgba(60, 64, 67, 0.3), 0px 1px 3px 1px rgba(60, 64, 67, 0.15);\n",
       "      fill: #174EA6;\n",
       "    }\n",
       "\n",
       "    [theme=dark] .colab-df-convert {\n",
       "      background-color: #3B4455;\n",
       "      fill: #D2E3FC;\n",
       "    }\n",
       "\n",
       "    [theme=dark] .colab-df-convert:hover {\n",
       "      background-color: #434B5C;\n",
       "      box-shadow: 0px 1px 3px 1px rgba(0, 0, 0, 0.15);\n",
       "      filter: drop-shadow(0px 1px 2px rgba(0, 0, 0, 0.3));\n",
       "      fill: #FFFFFF;\n",
       "    }\n",
       "  </style>\n",
       "\n",
       "      <script>\n",
       "        const buttonEl =\n",
       "          document.querySelector('#df-e86f26c6-1bb8-4e76-9f98-2c7cf3ccfb63 button.colab-df-convert');\n",
       "        buttonEl.style.display =\n",
       "          google.colab.kernel.accessAllowed ? 'block' : 'none';\n",
       "\n",
       "        async function convertToInteractive(key) {\n",
       "          const element = document.querySelector('#df-e86f26c6-1bb8-4e76-9f98-2c7cf3ccfb63');\n",
       "          const dataTable =\n",
       "            await google.colab.kernel.invokeFunction('convertToInteractive',\n",
       "                                                     [key], {});\n",
       "          if (!dataTable) return;\n",
       "\n",
       "          const docLinkHtml = 'Like what you see? Visit the ' +\n",
       "            '<a target=\"_blank\" href=https://colab.research.google.com/notebooks/data_table.ipynb>data table notebook</a>'\n",
       "            + ' to learn more about interactive tables.';\n",
       "          element.innerHTML = '';\n",
       "          dataTable['output_type'] = 'display_data';\n",
       "          await google.colab.output.renderOutput(dataTable, element);\n",
       "          const docLink = document.createElement('div');\n",
       "          docLink.innerHTML = docLinkHtml;\n",
       "          element.appendChild(docLink);\n",
       "        }\n",
       "      </script>\n",
       "    </div>\n",
       "  </div>\n",
       "  "
      ],
      "text/plain": [
       "       Coherence_Score\n",
       "Topic                 \n",
       "6             0.609116\n",
       "10            0.605270\n",
       "7             0.602581\n",
       "8             0.597894\n",
       "3             0.589486\n",
       "2             0.582708\n",
       "9             0.582576\n",
       "5             0.579579\n",
       "12            0.575871\n",
       "13            0.571891\n",
       "11            0.568505\n",
       "4             0.568473\n",
       "14            0.555884"
      ]
     },
     "execution_count": 38,
     "metadata": {},
     "output_type": "execute_result"
    }
   ],
   "source": [
    "pd.DataFrame(zip(topic_num,cv_score),columns=['Topic','Coherence_Score']).set_index\\\n",
    "('Topic').sort_values('Coherence_Score',ascending=False)"
   ]
  },
  {
   "cell_type": "code",
   "execution_count": 39,
   "metadata": {
    "colab": {
     "base_uri": "https://localhost:8080/",
     "height": 285
    },
    "id": "qrPdh1xu5joI",
    "outputId": "5f48738a-8fe2-4651-f84e-e0de3a543ec9"
   },
   "outputs": [
    {
     "data": {
      "image/png": "[encoded data removed]",
      "text/plain": [
       "<Figure size 432x288 with 1 Axes>"
      ]
     },
     "metadata": {
      "needs_background": "light"
     },
     "output_type": "display_data"
    }
   ],
   "source": [
    "import matplotlib.pyplot as plt\n",
    "\n",
    "plt.plot(topic_num,cv_score,color='green', marker='o', linestyle='dashed')\n",
    "plt.xticks(range(2,15))\n",
    "plt.xlabel('Number of topics')\n",
    "plt.ylabel('Coherence score')\n",
    "plt.show()"
   ]
  },
  {
   "cell_type": "markdown",
   "metadata": {
    "id": "HiQSLKEF8wGo"
   },
   "source": [
    "Above plot shows that better to consider topics 6 as with 8 topics there will be many overlaps ."
   ]
  },
  {
   "cell_type": "code",
   "execution_count": 42,
   "metadata": {
    "colab": {
     "base_uri": "https://localhost:8080/"
    },
    "id": "8AgqMgES8-69",
    "outputId": "e0e918cd-512f-4d42-8335-f8dcaaaebd71"
   },
   "outputs": [
    {
     "name": "stdout",
     "output_type": "stream",
     "text": [
      "0.6091161154634883\n"
     ]
    }
   ],
   "source": [
    "# Creating LDA model with number of topics as 6\n",
    "\n",
    "Lda = gensim.models.ldamodel.LdaModel\n",
    "ldamodel = Lda(doc_term_matrix, num_topics=6, id2word=dictionary, passes=10,random_state=45)\n",
    "clear_output()\n",
    "print(CoherenceModel(model=ldamodel,texts=AnaReviews_df['clean_review'],\\\n",
    "                     dictionary=dictionary , coherence='c_v').get_coherence())"
   ]
  },
  {
   "cell_type": "code",
   "execution_count": 43,
   "metadata": {
    "colab": {
     "base_uri": "https://localhost:8080/"
    },
    "id": "5n6PdC0x8sf0",
    "outputId": "61e8b5a2-534d-47ae-963c-f5000e8f9d33"
   },
   "outputs": [
    {
     "data": {
      "text/plain": [
       "[(0,\n",
       "  '0.156*\"camera\" + 0.078*\"quality\" + 0.039*\"phone\" + 0.022*\"sound\" + 0.021*\"front\" + 0.018*\"mode\" + 0.015*\"depth\" + 0.014*\"performance\" + 0.014*\"display\" + 0.014*\"rear\"'),\n",
       " (1,\n",
       "  '0.082*\"note\" + 0.070*\"lenovo\" + 0.039*\"phone\" + 0.025*\"call\" + 0.024*\"feature\" + 0.017*\"android\" + 0.016*\"product\" + 0.012*\"option\" + 0.011*\"speaker\" + 0.011*\"stock\"'),\n",
       " (2,\n",
       "  '0.154*\"mobile\" + 0.084*\"problem\" + 0.046*\"heating\" + 0.038*\"product\" + 0.038*\"amazon\" + 0.034*\"issue\" + 0.022*\"return\" + 0.018*\"network\" + 0.015*\"lenovo\" + 0.013*\"time\"'),\n",
       " (3,\n",
       "  '0.076*\"phone\" + 0.036*\"money\" + 0.034*\"screen\" + 0.025*\"charger\" + 0.022*\"product\" + 0.021*\"lenovo\" + 0.021*\"turbo\" + 0.019*\"waste\" + 0.014*\"amazon\" + 0.013*\"value\"'),\n",
       " (4,\n",
       "  '0.086*\"phone\" + 0.040*\"update\" + 0.038*\"issue\" + 0.026*\"problem\" + 0.025*\"service\" + 0.022*\"lenovo\" + 0.021*\"network\" + 0.021*\"software\" + 0.013*\"volta\" + 0.012*\"call\"'),\n",
       " (5,\n",
       "  '0.135*\"battery\" + 0.126*\"phone\" + 0.035*\"price\" + 0.030*\"awesome\" + 0.030*\"camera\" + 0.030*\"fast\" + 0.029*\"performance\" + 0.027*\"backup\" + 0.023*\"product\" + 0.022*\"heating\"')]"
      ]
     },
     "execution_count": 43,
     "metadata": {},
     "output_type": "execute_result"
    }
   ],
   "source": [
    "ldamodel.print_topics()"
   ]
  },
  {
   "cell_type": "code",
   "execution_count": 48,
   "metadata": {
    "colab": {
     "base_uri": "https://localhost:8080/",
     "height": 861
    },
    "id": "WfJ69iWS91o9",
    "outputId": "8142f1c9-fd8c-46c2-cd30-42922c6ae993"
   },
   "outputs": [
    {
     "data": {
      "text/html": [
       "\n",
       "<link rel=\"stylesheet\" type=\"text/css\" href=\"https://cdn.jsdelivr.net/gh/bmabey/pyLDAvis@3.3.1/pyLDAvis/js/ldavis.v1.0.0.css\">\n",
       "\n",
       "\n",
       "<div id=\"ldavis_el2871396321871885605373364802\"></div>\n",
       "<script type=\"text/javascript\">\n",
       "\n",
       "var ldavis_el2871396321871885605373364802_data = {\"mdsDat\": {\"x\": [-0.151077174419279, 0.08121812348745096, -0.2794938653013879, -0.012697673090497973, 0.22452914229027823, 0.13752144703343597], \"y\": [-0.18379955732827066, -0.004608072512684884, 0.006758995188565319, 0.27925368148371466, -0.09810513687879686, 0.0005000900474722684], \"topics\": [1, 2, 3, 4, 5, 6], \"cluster\": [1, 1, 1, 1, 1, 1], \"Freq\": [21.152992354481277, 18.232584534214503, 17.253662495582788, 15.850325990499318, 14.433065311311315, 13.077369313910806]}, \"tinfo\": {\"Term\": [\"mobile\", \"camera\", \"battery\", \"quality\", \"note\", \"problem\", \"phone\", \"lenovo\", \"heating\", \"money\", \"update\", \"issue\", \"awesome\", \"amazon\", \"screen\", \"backup\", \"price\", \"performance\", \"charger\", \"fast\", \"network\", \"drain\", \"front\", \"turbo\", \"service\", \"excellent\", \"sound\", \"return\", \"waste\", \"call\", \"awesome\", \"excellent\", \"life\", \"backup\", \"discharge\", \"drain\", \"stand\", \"drainage\", \"yesterday\", \"bekar\", \"hota\", \"ghatiya\", \"capacity\", \"clearity\", \"mast\", \"plug\", \"penny\", \"bahut\", \"iska\", \"lena\", \"percent\", \"karta\", \"jyada\", \"mobail\", \"effort\", \"kharab\", \"heatup\", \"vivo\", \"booting\", \"bilkul\", \"battery\", \"thank\", \"price\", \"fast\", \"range\", \"bettery\", \"performance\", \"budget\", \"half\", \"super\", \"hour\", \"charge\", \"quick\", \"usage\", \"phone\", \"heat\", \"superb\", \"perfect\", \"love\", \"heating\", \"faster\", \"product\", \"issue\", \"game\", \"camera\", \"time\", \"feature\", \"delivery\", \"look\", \"everything\", \"month\", \"processor\", \"money\", \"charger\", \"value\", \"glass\", \"cast\", \"gorilla\", \"piece\", \"broken\", \"scratch\", \"today\", \"cable\", \"hotspot\", \"fall\", \"turbo\", \"iron\", \"pick\", \"trust\", \"manufacturing\", \"broke\", \"accessory\", \"guard\", \"wait\", \"present\", \"concern\", \"bakwas\", \"deal\", \"protection\", \"phon\", \"break\", \"fool\", \"waste\", \"screen\", \"cost\", \"stop\", \"buying\", \"faulty\", \"wifi\", \"sure\", \"care\", \"customer\", \"worth\", \"cell\", \"handset\", \"hand\", \"day\", \"bought\", \"phone\", \"smart\", \"product\", \"amazon\", \"lenovo\", \"month\", \"charge\", \"time\", \"option\", \"work\", \"please\", \"hour\", \"device\", \"display\", \"feature\", \"front\", \"depth\", \"rear\", \"quality\", \"picture\", \"flash\", \"earphone\", \"clarity\", \"selfie\", \"bokeh\", \"focus\", \"pic\", \"lenova\", \"improvement\", \"space\", \"blur\", \"primary\", \"fone\", \"capture\", \"background\", \"minor\", \"cash\", \"satisfactory\", \"effect\", \"dull\", \"zoom\", \"awsome\", \"processer\", \"slight\", \"setup\", \"build\", \"image\", \"camera\", \"photo\", \"design\", \"weight\", \"mode\", \"sound\", \"edge\", \"light\", \"fingerprint\", \"display\", \"mark\", \"sensor\", \"con\", \"speed\", \"look\", \"work\", \"dolby\", \"touch\", \"performance\", \"video\", \"phone\", \"music\", \"feature\", \"battery\", \"speaker\", \"screen\", \"stock\", \"volume\", \"voice\", \"version\", \"headset\", \"recorder\", \"button\", \"vibe\", \"player\", \"processing\", \"loud\", \"seller\", \"inbuilt\", \"bottom\", \"note\", \"audio\", \"record\", \"nougat\", \"paisa\", \"handy\", \"handle\", \"standard\", \"caller\", \"described\", \"list\", \"mobil\", \"comparison\", \"didnt\", \"category\", \"decacore\", \"google\", \"android\", \"contact\", \"redmi\", \"gallery\", \"slot\", \"smartphone\", \"lenovo\", \"call\", \"compare\", \"notification\", \"message\", \"auto\", \"feature\", \"user\", \"killer\", \"option\", \"speaker\", \"music\", \"headphone\", \"apps\", \"dolby\", \"delivery\", \"phone\", \"product\", \"memory\", \"card\", \"sound\", \"time\", \"mobile\", \"exchange\", \"place\", \"suggestion\", \"visit\", \"detail\", \"store\", \"degree\", \"site\", \"airtel\", \"invoice\", \"cause\", \"discount\", \"jata\", \"custom\", \"kiya\", \"department\", \"refund\", \"moment\", \"bhai\", \"imei\", \"satisfy\", \"decide\", \"bettry\", \"honest\", \"handsfree\", \"position\", \"deta\", \"prob\", \"impression\", \"ringtone\", \"october\", \"problem\", \"return\", \"policy\", \"hate\", \"bluetooth\", \"amazon\", \"team\", \"want\", \"heating\", \"switch\", \"replacement\", \"network\", \"item\", \"connectivity\", \"facility\", \"issue\", \"product\", \"restart\", \"face\", \"solution\", \"device\", \"service\", \"heat\", \"please\", \"month\", \"time\", \"lenovo\", \"purchase\", \"hang\", \"day\", \"work\", \"game\", \"call\", \"dont\", \"need\", \"speaker\", \"oreo\", \"deca\", \"warranty\", \"centre\", \"storage\", \"bill\", \"result\", \"lenevo\", \"reception\", \"receive\", \"volta\", \"repair\", \"increase\", \"icon\", \"helio\", \"blowing\", \"water\", \"ring\", \"resolve\", \"coverage\", \"alarm\", \"location\", \"turbocharger\", \"accept\", \"blue\", \"india\", \"battry\", \"tone\", \"told\", \"west\", \"fact\", \"update\", \"software\", \"core\", \"center\", \"strength\", \"signal\", \"service\", \"system\", \"network\", \"date\", \"medium\", \"talk\", \"till\", \"issue\", \"hope\", \"phone\", \"processor\", \"problem\", \"please\", \"support\", \"lenovo\", \"call\", \"show\", \"time\", \"heating\", \"work\", \"month\", \"hang\", \"day\"], \"Freq\": [2209.0, 3300.0, 3095.0, 1340.0, 1312.0, 1540.0, 6470.0, 1983.0, 1249.0, 643.0, 591.0, 1466.0, 638.0, 877.0, 740.0, 579.0, 857.0, 845.0, 454.0, 768.0, 524.0, 441.0, 356.0, 378.0, 492.0, 378.0, 493.0, 384.0, 346.0, 656.0, 637.7547867033063, 377.28050283378155, 310.85941799130575, 573.4924528332422, 39.74175788797712, 432.61917453894046, 35.636083248159544, 30.031159443765347, 30.359802900608727, 28.877904553297466, 27.035434610918973, 18.44763138401432, 37.19919600711607, 16.706705068955138, 13.434281901389069, 12.078528849825313, 11.678573363269566, 38.095362181871174, 11.731525920727229, 11.38108844211282, 23.08455863040964, 10.649030556090006, 10.652826123595263, 10.535429415802515, 10.768195764166373, 10.59626948452512, 10.27238878189383, 10.419868289338627, 10.202447644815111, 9.99598194480709, 2830.6429956848524, 61.02189982349028, 727.2510290726151, 624.0935927993198, 295.97804182818703, 21.274514445645146, 602.3872788851155, 134.07871484050108, 67.49425960079066, 143.402882556533, 348.729443965315, 360.946526884602, 63.835991139621385, 189.953654375111, 2646.0659334326897, 296.4283971335152, 147.85359038202932, 88.3918395549513, 97.14000794826381, 461.8726378124673, 57.88338505808912, 490.3326420897794, 419.05535791953616, 116.02136585631881, 635.8910362140667, 265.89447135394744, 213.1602224499152, 100.36713799408335, 106.23526098758407, 92.15628145521687, 108.61023246363715, 95.47686637395505, 642.7455525884927, 453.9773669259595, 243.5231148570733, 214.37058799720026, 206.06603966148003, 137.84077284302273, 107.36032595986883, 69.27631221590174, 56.59856778869144, 54.3185939929956, 52.56437207250404, 49.32177715578021, 38.22366842553768, 370.4214886203873, 31.538125783358804, 31.466996972459803, 28.74895758765318, 28.475844399673644, 28.0931575202959, 27.168199136176973, 26.842150385915318, 26.07209848337472, 25.522638406228463, 25.364889295258013, 25.182698197095696, 31.734582591895045, 24.143309262188172, 23.724658495419728, 23.435467210575144, 22.66309621023905, 334.8518520599933, 610.9389181721609, 90.31391009978668, 60.66476411090553, 133.37019987456026, 55.02037022671198, 107.00464405971623, 57.059683485809494, 98.38167077120168, 150.75032192295592, 185.07121998588806, 52.98460604928157, 137.45162697141674, 72.67711039148708, 232.5692695684809, 153.8339692828857, 1377.6663067676516, 91.75397942171823, 403.37708356048836, 255.9902818403942, 385.4430188270589, 180.03631780192055, 173.21747224103615, 234.1874994260417, 144.26354257188956, 170.1358433161777, 138.75763856402756, 151.61116766058524, 117.19501628257864, 104.01662006129064, 105.59429619421, 355.9678714664142, 253.565187338792, 233.07047465733118, 1335.0563262269231, 165.65009745711387, 156.64344685476163, 141.16992548939896, 140.2884788532122, 91.84153615885513, 62.72712790057649, 55.274528983114, 51.53232824425652, 48.258853152883894, 46.40008264243192, 42.614809967616885, 38.360254543410676, 32.169284520208166, 28.320078432693393, 27.771539978528885, 27.582055692640235, 27.898352289605683, 27.612057619945478, 26.497712542170063, 117.29650912505947, 23.895853643616704, 23.842889169522557, 21.90849207528702, 21.891582042780403, 21.64536687598092, 21.211714772798533, 79.76150555268474, 107.29377623139621, 2663.222670751581, 175.83519368051316, 73.80084941615547, 56.23698221577968, 315.4153731700243, 373.9526172191202, 40.109152620037456, 151.5819372778429, 58.01231477786156, 238.68561619155795, 133.8741985101588, 88.70918293895319, 76.76532395588583, 131.66507456941795, 147.56684017017236, 230.9231810695937, 132.86921054694525, 104.98601341884125, 242.5532245488284, 128.80387876452153, 671.7788824931129, 105.18068870070705, 160.3434312070177, 195.28390773985623, 110.01945301827986, 115.47289970349524, 166.23301005877698, 106.93021888068148, 104.82476721652723, 89.38904351188926, 67.87184704389551, 67.85971031662422, 122.99862432894678, 55.614487283679274, 50.1250967178439, 46.17317360242924, 45.546161757596444, 44.90680481396992, 37.72995951361328, 37.07740205125886, 1284.4027661342961, 92.32239544670139, 35.93422835588465, 31.07583793893418, 30.80468078672088, 28.332253970802782, 27.571206230257456, 26.624214323249987, 26.010125168448518, 23.72844603093066, 23.479655916611758, 22.110894458723138, 20.900561159413822, 20.41012953625163, 18.687765260442042, 18.231682037713902, 89.46489074605334, 269.3223715011391, 136.6264289696144, 151.52048907387828, 96.46533310229064, 109.50108479056385, 107.56798927622494, 1091.795185458702, 387.16224334701536, 76.5425662787963, 85.36832123766564, 72.81888674889684, 60.32307685420714, 377.54758649294905, 114.56945521187066, 94.02214410104597, 189.18522830097135, 175.3727845575873, 132.62863487413946, 92.71694875224075, 126.67024753464648, 128.93143680579217, 119.52105715652095, 613.9662667822046, 244.7234771969269, 89.60251099751572, 92.4186119110931, 114.34186233040796, 120.96992649786122, 2205.785174902066, 45.300688632048, 34.18483457228131, 43.07778212449263, 28.23729323373686, 28.44309781445002, 27.801850073703058, 26.038853191232466, 23.22480360033793, 22.598819937889097, 35.305485219655715, 20.34115939926369, 19.912363794428092, 19.142304276151176, 16.781701501920132, 15.105086220547888, 14.563039177077684, 111.00379270279753, 13.498406748357755, 13.250603067025795, 12.675934902346976, 11.779601794240975, 11.897828912961968, 11.13275922204715, 11.177967257673997, 10.421336832816388, 10.122923353114524, 10.626115319944248, 9.71255998414335, 9.822708176241388, 35.53350268761856, 18.214411092514794, 1206.9584829128132, 316.25654977277947, 70.04354817637406, 19.406493831525783, 125.92910200116744, 536.9325336706994, 44.60369063869236, 175.9324449422586, 653.288144240143, 69.30630534458763, 109.61538905095505, 253.35692311700586, 47.13776065013484, 58.42881457229105, 36.2192194768847, 483.5261084960333, 549.7820148685632, 49.69988554150243, 43.70758888015385, 38.712701786508596, 137.35907551325187, 144.8505406733234, 148.85328098582934, 125.92272407640041, 141.08688599154146, 191.310473720882, 212.87366480964153, 73.42884145903297, 68.51604185221181, 78.29911934822675, 75.10929814185675, 60.33971539695825, 71.13572451870819, 54.47122903507988, 56.27784280075631, 54.67108510245343, 128.83768297519933, 90.59101681726882, 84.81246529390621, 91.16774334508251, 63.9146400941252, 59.49446147490013, 56.15718933839241, 51.971952824485804, 35.542681467653836, 46.31421419229394, 164.90210445631362, 28.69691622851918, 28.127202132600136, 24.842125110136646, 24.160160830207676, 22.917431222287153, 22.11285645574262, 21.98260468043669, 28.15438322345371, 21.721473781078995, 21.445731386532643, 20.386902428036773, 18.881088996177144, 18.77061680296373, 18.08505431604538, 17.8946449233826, 17.87031706288272, 17.606180620134477, 35.1426259981889, 17.01709562363764, 17.129027609125036, 520.7128746619068, 270.4287386046551, 116.48523442713287, 116.13768322193546, 40.30435797989887, 151.8526473228169, 317.82655298260653, 107.57880047558685, 270.59621659099747, 52.9480169900264, 45.69057826522974, 36.50295333495771, 84.65872262577815, 495.90909775190966, 57.52064135449149, 1119.5532527362036, 149.65555137088268, 332.9619205672356, 127.8570041770571, 105.6494979873352, 291.2411538920092, 152.43701061517132, 76.2163156191747, 127.7600667314253, 132.80527773189402, 88.74050691861535, 79.61810816131263, 63.693149793645496, 66.23213271546607], \"Total\": [2209.0, 3300.0, 3095.0, 1340.0, 1312.0, 1540.0, 6470.0, 1983.0, 1249.0, 643.0, 591.0, 1466.0, 638.0, 877.0, 740.0, 579.0, 857.0, 845.0, 454.0, 768.0, 524.0, 441.0, 356.0, 378.0, 492.0, 378.0, 493.0, 384.0, 346.0, 656.0, 638.5540004038619, 378.12539443296566, 312.6768753289176, 579.111993859709, 40.54232399632939, 441.43659487747544, 36.43634668030918, 30.831487115716374, 31.17741008418268, 29.67729261909367, 27.84600809483985, 19.2490092988428, 38.88187387313158, 17.506557532082738, 14.232484245812511, 12.881760009914766, 12.476552948825084, 40.71128044808465, 12.544380290846945, 12.18080328402557, 24.80610481123895, 11.451543391709489, 11.457840427714004, 11.335200718140975, 11.588297253180643, 11.408656522087535, 11.071645071210185, 11.231213414234329, 11.009353262104078, 10.796296442848481, 3095.101917808777, 66.79331783855545, 857.2502951613089, 768.4408930941438, 357.8891221996759, 23.791149377029804, 845.6438500711771, 170.75856145702016, 82.29159134388202, 190.89697700351934, 512.6475901567669, 535.0597458628265, 81.28752661235454, 275.1472232222095, 6470.2587862086675, 519.122500671094, 233.67148940862626, 126.8666536477926, 148.7625955809594, 1249.8170733574082, 79.62004001218467, 1828.691169556026, 1466.7607923035614, 225.98257118543756, 3300.3479416003092, 970.2883022195863, 856.9661113166924, 243.67209361587615, 293.3596199109707, 220.16238923176587, 509.671455577167, 340.3943078505798, 643.5397467484548, 454.77044616937195, 244.3147830339905, 215.16203215843652, 206.8584604989167, 138.63244359208517, 108.15616842461914, 70.06735377919884, 57.3902795575592, 55.11253324062318, 53.35780186632592, 50.115028895893495, 39.01825807693537, 378.61168185453533, 32.332447857949006, 32.26653169938186, 29.54564416023151, 29.26962474115557, 28.883820264682292, 27.964073370311475, 27.634128872938582, 26.867562685289855, 26.322287239916903, 26.162980763623636, 25.976235585968666, 32.74265487666123, 24.938152346439352, 24.519861951666325, 24.22817344188112, 23.45670761140031, 346.7877018293892, 740.5447422956382, 100.55696371756711, 67.57638866767414, 163.7971856521441, 61.490209122416815, 128.93811441150567, 64.26700120457876, 122.45146428688447, 225.35289919412497, 293.83030447582524, 63.43604735873487, 216.41740452173832, 99.3779530679293, 479.21313757562507, 281.5149536902279, 6470.2587862086675, 141.73467882341026, 1828.691169556026, 877.3173746905584, 1983.1801601285924, 509.671455577167, 535.0597458628265, 970.2883022195863, 385.23007498847795, 604.7795350872049, 393.01139837697735, 512.6475901567669, 441.47057354093965, 406.3046426176925, 856.9661113166924, 356.7642668361555, 254.36193127262075, 233.8664821163227, 1340.923430244725, 166.44974341983402, 157.4409761129339, 141.9705004566763, 141.0852418374757, 92.63695960825106, 63.530579577805554, 56.071919121480335, 52.329626496173375, 49.0672648533148, 47.19752315684613, 43.41336178296061, 39.156687593554196, 32.96622570827468, 29.11883138064008, 28.570477588441822, 28.37986352390086, 28.706345928059065, 28.41184380874287, 27.301513943158742, 120.97617987428914, 24.694993484018216, 24.643240150947378, 22.70494175713723, 22.68982258715658, 22.443792296343428, 22.028882949808306, 85.33349624367423, 116.26192095400542, 3300.3479416003092, 195.3844837057777, 79.62262634734773, 60.87561562091636, 381.9894559942351, 493.0994778701295, 44.52395572214633, 227.67682365683797, 70.62990785586896, 406.3046426176925, 199.8152662797807, 127.22820238174761, 109.92429879450198, 246.53126518401157, 293.3596199109707, 604.7795350872049, 262.44054320583984, 188.54162592281452, 845.6438500711771, 282.31714036880544, 6470.2587862086675, 238.44838756069487, 856.9661113166924, 3095.101917808777, 355.55098845426005, 740.5447422956382, 167.02505728835627, 107.72453836925531, 105.7481589523294, 90.37567267837703, 68.663167715461, 68.65436759075114, 124.74819040711067, 56.406179735551206, 50.91557781376958, 46.96803130996343, 46.34061104304127, 45.70135322170692, 38.520393586434125, 37.8721792843438, 1312.0535050359265, 94.50269107887016, 36.841882855571214, 31.86848951575331, 31.598488181808197, 29.129465177053614, 28.368609680916293, 27.41608217275456, 26.80396335725415, 24.52014032000734, 24.270836259329432, 22.90312996301469, 21.69645096987259, 21.20853407548586, 19.480595883445293, 19.026949488101746, 93.4569659881042, 300.01085813962317, 156.3531793199926, 177.282578620585, 114.39729043858125, 132.4306349547484, 131.58303700064852, 1983.1801601285924, 656.9947746136277, 97.11447934112297, 111.26036882075243, 94.77454881387796, 75.09915100018443, 856.9661113166924, 186.83062980031977, 141.62921212096256, 385.23007498847795, 355.55098845426005, 238.44838756069487, 139.36063581234143, 239.94316839273688, 262.44054320583984, 243.67209361587615, 6470.2587862086675, 1828.691169556026, 145.78004263287087, 165.3005040066016, 493.0994778701295, 970.2883022195863, 2209.3728083701512, 46.09931416083709, 35.01940448470687, 44.14361315923244, 29.037549509473802, 29.255683357814668, 28.601277727988887, 26.84270284012648, 24.030981074329638, 23.398518862860488, 36.66779674005975, 21.14592420705898, 20.719153287496322, 19.948181663322664, 17.58655431838426, 15.905690334453116, 15.373176804901401, 117.56122759954553, 14.309663317326926, 14.057940478346412, 13.474013627167015, 12.581320174547168, 12.711231019701813, 11.931672965238803, 11.98949734458277, 11.224227477807473, 10.919085886057562, 11.472965479620527, 10.508310765734823, 10.636801238018805, 39.77735006816617, 19.999818400310218, 1540.5578388270953, 384.15599954511185, 82.80556974064535, 21.759810285203613, 172.59989492852876, 877.3173746905584, 55.86403058815117, 262.9681930959043, 1249.8170733574082, 101.16168021934271, 176.5972974088481, 524.5877889879182, 65.6007711990208, 85.99085554778415, 47.724458737262175, 1466.7607923035614, 1828.691169556026, 75.55217824536236, 63.118431942810076, 54.378313736875, 441.47057354093965, 492.80891291824616, 519.122500671094, 393.01139837697735, 509.671455577167, 970.2883022195863, 1983.1801601285924, 215.0034566748783, 221.30788302173107, 479.21313757562507, 604.7795350872049, 225.98257118543756, 656.9947746136277, 206.6542205895271, 311.0883486740269, 355.55098845426005, 129.62750556823832, 91.38234795489703, 85.60247678437723, 92.24946733735914, 64.70838282480125, 60.28310792556535, 56.95322720659473, 52.763332839009024, 36.33575174159379, 47.56579705347657, 169.38658347549483, 29.48581765173234, 28.92570643951621, 25.638256330332638, 24.949732422539125, 23.709241716742287, 22.90438609603017, 22.772820151416585, 29.16940246991645, 22.511317985919852, 22.236801906631534, 21.178501659431703, 19.675483717547745, 19.565296772103075, 18.876173632850595, 18.68563034351547, 18.664615415425203, 18.39625102402888, 36.73521218721211, 17.80722039427814, 17.92663814604997, 591.7955968438937, 314.2879446756009, 132.03198046272487, 140.35309508953588, 45.967546638468235, 206.48517896547196, 492.80891291824616, 158.28424888955738, 524.5877889879182, 68.33686007900151, 57.92671284759417, 43.850495422491754, 133.26423023260747, 1466.7607923035614, 83.68975309149593, 6470.2587862086675, 340.3943078505798, 1540.5578388270953, 393.01139837697735, 289.26592088266966, 1983.1801601285924, 656.9947746136277, 170.86042433113283, 970.2883022195863, 1249.8170733574082, 604.7795350872049, 509.671455577167, 221.30788302173107, 479.21313757562507], \"Category\": [\"Default\", \"Default\", \"Default\", \"Default\", \"Default\", \"Default\", \"Default\", \"Default\", \"Default\", \"Default\", \"Default\", \"Default\", \"Default\", \"Default\", \"Default\", \"Default\", \"Default\", \"Default\", \"Default\", \"Default\", \"Default\", \"Default\", \"Default\", \"Default\", \"Default\", \"Default\", \"Default\", \"Default\", \"Default\", \"Default\", \"Topic1\", \"Topic1\", \"Topic1\", \"Topic1\", \"Topic1\", \"Topic1\", \"Topic1\", \"Topic1\", \"Topic1\", \"Topic1\", \"Topic1\", \"Topic1\", \"Topic1\", \"Topic1\", \"Topic1\", \"Topic1\", \"Topic1\", \"Topic1\", \"Topic1\", \"Topic1\", \"Topic1\", \"Topic1\", \"Topic1\", \"Topic1\", \"Topic1\", \"Topic1\", \"Topic1\", \"Topic1\", \"Topic1\", \"Topic1\", \"Topic1\", \"Topic1\", \"Topic1\", \"Topic1\", \"Topic1\", \"Topic1\", \"Topic1\", \"Topic1\", \"Topic1\", \"Topic1\", \"Topic1\", \"Topic1\", \"Topic1\", \"Topic1\", \"Topic1\", \"Topic1\", \"Topic1\", \"Topic1\", \"Topic1\", \"Topic1\", \"Topic1\", \"Topic1\", \"Topic1\", \"Topic1\", \"Topic1\", \"Topic1\", \"Topic1\", \"Topic1\", \"Topic1\", \"Topic1\", \"Topic1\", \"Topic1\", \"Topic2\", \"Topic2\", \"Topic2\", \"Topic2\", \"Topic2\", \"Topic2\", \"Topic2\", \"Topic2\", \"Topic2\", \"Topic2\", \"Topic2\", \"Topic2\", \"Topic2\", \"Topic2\", \"Topic2\", \"Topic2\", \"Topic2\", \"Topic2\", \"Topic2\", \"Topic2\", \"Topic2\", \"Topic2\", \"Topic2\", \"Topic2\", \"Topic2\", \"Topic2\", \"Topic2\", \"Topic2\", \"Topic2\", \"Topic2\", \"Topic2\", \"Topic2\", \"Topic2\", \"Topic2\", \"Topic2\", \"Topic2\", \"Topic2\", \"Topic2\", \"Topic2\", \"Topic2\", \"Topic2\", \"Topic2\", \"Topic2\", \"Topic2\", \"Topic2\", \"Topic2\", \"Topic2\", \"Topic2\", \"Topic2\", \"Topic2\", \"Topic2\", \"Topic2\", \"Topic2\", \"Topic2\", \"Topic2\", \"Topic2\", \"Topic2\", \"Topic2\", \"Topic2\", \"Topic2\", \"Topic2\", \"Topic3\", \"Topic3\", \"Topic3\", \"Topic3\", \"Topic3\", \"Topic3\", \"Topic3\", \"Topic3\", \"Topic3\", \"Topic3\", \"Topic3\", \"Topic3\", \"Topic3\", \"Topic3\", \"Topic3\", \"Topic3\", \"Topic3\", \"Topic3\", \"Topic3\", \"Topic3\", \"Topic3\", \"Topic3\", \"Topic3\", \"Topic3\", \"Topic3\", \"Topic3\", \"Topic3\", \"Topic3\", \"Topic3\", \"Topic3\", \"Topic3\", \"Topic3\", \"Topic3\", \"Topic3\", \"Topic3\", \"Topic3\", \"Topic3\", \"Topic3\", \"Topic3\", \"Topic3\", \"Topic3\", \"Topic3\", \"Topic3\", \"Topic3\", \"Topic3\", \"Topic3\", \"Topic3\", \"Topic3\", \"Topic3\", \"Topic3\", \"Topic3\", \"Topic3\", \"Topic3\", \"Topic3\", \"Topic3\", \"Topic3\", \"Topic3\", \"Topic3\", \"Topic4\", \"Topic4\", \"Topic4\", \"Topic4\", \"Topic4\", \"Topic4\", \"Topic4\", \"Topic4\", \"Topic4\", \"Topic4\", \"Topic4\", \"Topic4\", \"Topic4\", \"Topic4\", \"Topic4\", \"Topic4\", \"Topic4\", \"Topic4\", \"Topic4\", \"Topic4\", \"Topic4\", \"Topic4\", \"Topic4\", \"Topic4\", \"Topic4\", \"Topic4\", \"Topic4\", \"Topic4\", \"Topic4\", \"Topic4\", \"Topic4\", \"Topic4\", \"Topic4\", \"Topic4\", \"Topic4\", \"Topic4\", \"Topic4\", \"Topic4\", \"Topic4\", \"Topic4\", \"Topic4\", \"Topic4\", \"Topic4\", \"Topic4\", \"Topic4\", \"Topic4\", \"Topic4\", \"Topic4\", \"Topic4\", \"Topic4\", \"Topic4\", \"Topic4\", \"Topic4\", \"Topic4\", \"Topic4\", \"Topic4\", \"Topic4\", \"Topic4\", \"Topic4\", \"Topic5\", \"Topic5\", \"Topic5\", \"Topic5\", \"Topic5\", \"Topic5\", \"Topic5\", \"Topic5\", \"Topic5\", \"Topic5\", \"Topic5\", \"Topic5\", \"Topic5\", \"Topic5\", \"Topic5\", \"Topic5\", \"Topic5\", \"Topic5\", \"Topic5\", \"Topic5\", \"Topic5\", \"Topic5\", \"Topic5\", \"Topic5\", \"Topic5\", \"Topic5\", \"Topic5\", \"Topic5\", \"Topic5\", \"Topic5\", \"Topic5\", \"Topic5\", \"Topic5\", \"Topic5\", \"Topic5\", \"Topic5\", \"Topic5\", \"Topic5\", \"Topic5\", \"Topic5\", \"Topic5\", \"Topic5\", \"Topic5\", \"Topic5\", \"Topic5\", \"Topic5\", \"Topic5\", \"Topic5\", \"Topic5\", \"Topic5\", \"Topic5\", \"Topic5\", \"Topic5\", \"Topic5\", \"Topic5\", \"Topic5\", \"Topic5\", \"Topic5\", \"Topic5\", \"Topic5\", \"Topic5\", \"Topic5\", \"Topic5\", \"Topic5\", \"Topic5\", \"Topic5\", \"Topic5\", \"Topic5\", \"Topic6\", \"Topic6\", \"Topic6\", \"Topic6\", \"Topic6\", \"Topic6\", \"Topic6\", \"Topic6\", \"Topic6\", \"Topic6\", \"Topic6\", \"Topic6\", \"Topic6\", \"Topic6\", \"Topic6\", \"Topic6\", \"Topic6\", \"Topic6\", \"Topic6\", \"Topic6\", \"Topic6\", \"Topic6\", \"Topic6\", \"Topic6\", \"Topic6\", \"Topic6\", \"Topic6\", \"Topic6\", \"Topic6\", \"Topic6\", \"Topic6\", \"Topic6\", \"Topic6\", \"Topic6\", \"Topic6\", \"Topic6\", \"Topic6\", \"Topic6\", \"Topic6\", \"Topic6\", \"Topic6\", \"Topic6\", \"Topic6\", \"Topic6\", \"Topic6\", \"Topic6\", \"Topic6\", \"Topic6\", \"Topic6\", \"Topic6\", \"Topic6\", \"Topic6\", \"Topic6\", \"Topic6\", \"Topic6\", \"Topic6\", \"Topic6\", \"Topic6\", \"Topic6\", \"Topic6\"], \"logprob\": [30.0, 29.0, 28.0, 27.0, 26.0, 25.0, 24.0, 23.0, 22.0, 21.0, 20.0, 19.0, 18.0, 17.0, 16.0, 15.0, 14.0, 13.0, 12.0, 11.0, 10.0, 9.0, 8.0, 7.0, 6.0, 5.0, 4.0, 3.0, 2.0, 1.0, -3.4921, -4.0171, -4.2107, -3.5983, -6.2677, -3.8802, -6.3767, -6.5478, -6.5369, -6.587, -6.6529, -7.0351, -6.3338, -7.1343, -7.3523, -7.4586, -7.4923, -6.31, -7.4878, -7.5181, -6.8109, -7.5846, -7.5842, -7.5953, -7.5735, -7.5896, -7.6206, -7.6063, -7.6274, -7.6479, -2.0018, -5.8388, -3.3608, -3.5138, -4.2598, -6.8926, -3.5492, -5.0516, -5.738, -4.9844, -4.0958, -4.0613, -5.7937, -4.7033, -2.0692, -4.2583, -4.9538, -5.4683, -5.3739, -3.8148, -5.8916, -3.755, -3.9121, -5.1963, -3.495, -4.367, -4.588, -5.3412, -5.2844, -5.4266, -5.2623, -5.3912, -3.3357, -3.6834, -4.3063, -4.4338, -4.4733, -4.8754, -5.1253, -5.5634, -5.7655, -5.8066, -5.8395, -5.9031, -6.158, -3.8868, -6.3503, -6.3526, -6.4429, -6.4524, -6.466, -6.4994, -6.5115, -6.5406, -6.5619, -6.5681, -6.5753, -6.3441, -6.6175, -6.635, -6.6472, -6.6808, -3.9878, -3.3865, -5.2982, -5.6961, -4.9084, -5.7938, -5.1286, -5.7574, -5.2126, -4.7859, -4.5808, -5.8315, -4.8782, -5.5155, -4.3523, -4.7656, -2.5733, -5.2824, -3.8016, -4.2564, -3.8471, -4.6083, -4.6469, -4.3454, -4.8298, -4.6649, -4.8688, -4.7802, -5.0377, -5.1569, -5.1419, -3.8715, -4.2107, -4.295, -2.5496, -4.6364, -4.6923, -4.7963, -4.8026, -5.2262, -5.6075, -5.734, -5.8041, -5.8697, -5.909, -5.9941, -6.0993, -6.2753, -6.4027, -6.4223, -6.4291, -6.4177, -6.4281, -6.4692, -4.9816, -6.5726, -6.5748, -6.6594, -6.6602, -6.6715, -6.6918, -5.3673, -5.0707, -1.859, -4.5768, -5.4449, -5.7167, -3.9924, -3.8222, -6.0547, -4.7252, -5.6856, -4.2712, -4.8494, -5.2609, -5.4056, -4.866, -4.752, -4.3042, -4.8569, -5.0925, -4.2551, -4.888, -3.2364, -5.0906, -4.669, -4.4719, -5.0456, -4.9973, -4.5481, -4.9893, -5.0092, -5.1685, -5.4438, -5.444, -4.8493, -5.643, -5.7469, -5.8291, -5.8427, -5.8569, -6.031, -6.0485, -2.5034, -5.1362, -6.0798, -6.225, -6.2338, -6.3175, -6.3447, -6.3796, -6.403, -6.4948, -6.5053, -6.5654, -6.6217, -6.6454, -6.7336, -6.7583, -5.1676, -4.0656, -4.7442, -4.6407, -5.0923, -4.9655, -4.9833, -2.6659, -3.7026, -5.3236, -5.2145, -5.3735, -5.5618, -3.7278, -4.9203, -5.1179, -4.4187, -4.4946, -4.7739, -5.1319, -4.8199, -4.8022, -4.878, -3.2415, -4.1613, -5.1661, -5.1351, -4.9223, -4.8659, -1.869, -5.7545, -6.036, -5.8048, -6.2272, -6.2199, -6.2427, -6.3082, -6.4226, -6.4499, -6.0038, -6.5552, -6.5765, -6.6159, -6.7475, -6.8528, -6.8893, -4.8582, -6.9652, -6.9838, -7.0281, -7.1014, -7.0914, -7.1579, -7.1539, -7.2239, -7.253, -7.2045, -7.2944, -7.2831, -5.9973, -6.6656, -2.4719, -3.8112, -5.3187, -6.6022, -4.7321, -3.2819, -5.77, -4.3977, -3.0858, -5.3293, -4.8708, -4.033, -5.7147, -5.5, -5.9782, -3.3867, -3.2583, -5.6618, -5.7903, -5.9116, -4.6452, -4.5921, -4.5648, -4.7321, -4.6184, -4.3139, -4.2071, -5.2715, -5.3407, -5.2073, -5.2489, -5.4678, -5.3032, -5.5701, -5.5375, -5.5665, -4.6106, -4.9628, -5.0287, -4.9565, -5.3116, -5.3833, -5.441, -5.5185, -5.8984, -5.6337, -4.3638, -6.1124, -6.1324, -6.2566, -6.2845, -6.3373, -6.373, -6.3789, -6.1315, -6.3909, -6.4036, -6.4543, -6.531, -6.5369, -6.5741, -6.5847, -6.586, -6.6009, -5.9097, -6.6349, -6.6284, -3.214, -3.8692, -4.7114, -4.7144, -5.7727, -4.4463, -3.7077, -4.7909, -3.8685, -5.4999, -5.6473, -5.8718, -5.0305, -3.2628, -5.417, -2.4485, -4.4608, -3.6611, -4.6183, -4.809, -3.795, -4.4424, -5.1356, -4.619, -4.5803, -4.9834, -5.0919, -5.3151, -5.276], \"loglift\": [30.0, 29.0, 28.0, 27.0, 26.0, 25.0, 24.0, 23.0, 22.0, 21.0, 20.0, 19.0, 18.0, 17.0, 16.0, 15.0, 14.0, 13.0, 12.0, 11.0, 10.0, 9.0, 8.0, 7.0, 6.0, 5.0, 4.0, 3.0, 2.0, 1.0, 1.5521, 1.5512, 1.5476, 1.5436, 1.5334, 1.5332, 1.5312, 1.5271, 1.5268, 1.5261, 1.5238, 1.5109, 1.5091, 1.5066, 1.4957, 1.489, 1.4873, 1.487, 1.4864, 1.4855, 1.4815, 1.4807, 1.4805, 1.4802, 1.48, 1.4795, 1.4785, 1.4784, 1.4773, 1.4764, 1.4641, 1.463, 1.3889, 1.3453, 1.3635, 1.4416, 1.2142, 1.3116, 1.3552, 1.2673, 1.1681, 1.1597, 1.3117, 1.1829, 0.6592, 0.9931, 1.0957, 1.192, 1.1272, 0.5579, 1.2346, 0.2371, 0.3006, 0.8867, -0.0934, 0.2589, 0.162, 0.6664, 0.5376, 0.6825, 0.0074, 0.2822, 1.7007, 1.7002, 1.6987, 1.6983, 1.6981, 1.6962, 1.6946, 1.6906, 1.6881, 1.6874, 1.687, 1.686, 1.6814, 1.6801, 1.6771, 1.6769, 1.6746, 1.6745, 1.6742, 1.6731, 1.6729, 1.6719, 1.6711, 1.671, 1.6709, 1.6707, 1.6696, 1.669, 1.6687, 1.6675, 1.6669, 1.5096, 1.5945, 1.5941, 1.4965, 1.5908, 1.5155, 1.583, 1.4831, 1.2999, 1.2397, 1.5219, 1.248, 1.3891, 0.979, 1.0976, 0.1551, 1.2671, 0.1905, 0.4702, 0.0639, 0.6614, 0.5741, 0.2805, 0.7198, 0.4337, 0.6609, 0.4837, 0.3757, 0.3394, -0.3918, 1.7549, 1.754, 1.7537, 1.7528, 1.7523, 1.7521, 1.7515, 1.7515, 1.7485, 1.7444, 1.7428, 1.7418, 1.7405, 1.7401, 1.7386, 1.7366, 1.7327, 1.7293, 1.7288, 1.7286, 1.7286, 1.7286, 1.7273, 1.7263, 1.7243, 1.7241, 1.7214, 1.7213, 1.7209, 1.7193, 1.6896, 1.6769, 1.5427, 1.6517, 1.6812, 1.6779, 1.5656, 1.4806, 1.6527, 1.3503, 1.5603, 1.2252, 1.3567, 1.3965, 1.3981, 1.1299, 1.07, 0.7944, 1.0765, 1.1717, 0.5083, 0.9724, -0.5079, 0.9387, 0.0811, -1.006, 0.5841, -0.1012, 1.8372, 1.8346, 1.8332, 1.831, 1.8304, 1.8303, 1.8279, 1.8278, 1.8263, 1.8249, 1.8247, 1.8244, 1.8212, 1.8208, 1.8207, 1.8186, 1.817, 1.8168, 1.8165, 1.8142, 1.8135, 1.8127, 1.8119, 1.8092, 1.8088, 1.8068, 1.8046, 1.8036, 1.8004, 1.7993, 1.7983, 1.7341, 1.7071, 1.685, 1.6715, 1.6519, 1.6405, 1.2451, 1.3131, 1.6039, 1.5771, 1.5785, 1.6229, 1.0223, 1.353, 1.4323, 1.1309, 1.1352, 1.2554, 1.4345, 1.2032, 1.1312, 1.1296, -0.5131, -0.1692, 1.3553, 1.2605, 0.3805, -0.2401, 1.934, 1.9182, 1.9115, 1.9112, 1.9077, 1.9075, 1.9073, 1.9052, 1.9015, 1.9009, 1.8978, 1.8968, 1.8959, 1.8944, 1.8888, 1.884, 1.8815, 1.8783, 1.8773, 1.8765, 1.8746, 1.8698, 1.8695, 1.8663, 1.8656, 1.8614, 1.8599, 1.859, 1.8569, 1.856, 1.8228, 1.8421, 1.6916, 1.7412, 1.7683, 1.8212, 1.6204, 1.4447, 1.7105, 1.5337, 1.2869, 1.5575, 1.4588, 1.2078, 1.6051, 1.5492, 1.6598, 0.8259, 0.7338, 1.5168, 1.5682, 1.5959, 0.7681, 0.7112, 0.6865, 0.7975, 0.6513, 0.312, -0.2961, 0.8613, 0.7632, 0.124, -0.1503, 0.6152, -0.2874, 0.6023, 0.2259, 0.0633, 2.0282, 2.0256, 2.025, 2.0225, 2.0219, 2.0211, 2.0202, 2.0192, 2.0122, 2.0076, 2.0075, 2.0072, 2.0063, 2.0027, 2.0021, 2.0003, 1.9991, 1.999, 1.9989, 1.9986, 1.9981, 1.9962, 1.9931, 1.9928, 1.9915, 1.991, 1.9908, 1.9904, 1.99, 1.9889, 1.9888, 1.9063, 1.884, 1.909, 1.8449, 1.9028, 1.727, 1.5957, 1.6481, 1.3723, 1.7791, 1.797, 1.8509, 1.5806, 0.9499, 1.6593, 0.28, 1.2125, 0.5024, 0.9114, 1.0271, 0.116, 0.5734, 1.227, 0.0068, -0.2076, 0.1151, 0.1778, 0.7888, 0.0553]}, \"token.table\": {\"Topic\": [6, 2, 5, 6, 1, 2, 4, 5, 6, 2, 4, 6, 2, 3, 4, 5, 6, 2, 4, 4, 5, 1, 3, 3, 1, 3, 1, 4, 2, 1, 2, 3, 4, 5, 6, 6, 1, 1, 6, 5, 5, 1, 6, 6, 6, 2, 5, 3, 3, 1, 4, 1, 2, 4, 5, 6, 2, 2, 2, 1, 3, 3, 6, 2, 4, 2, 3, 6, 2, 2, 4, 5, 6, 4, 1, 3, 4, 1, 6, 3, 3, 4, 6, 2, 5, 6, 3, 2, 4, 5, 2, 6, 2, 5, 6, 6, 1, 2, 2, 3, 1, 1, 3, 4, 4, 1, 2, 3, 4, 2, 2, 5, 6, 4, 6, 3, 6, 2, 3, 6, 5, 2, 5, 6, 2, 4, 5, 6, 1, 2, 4, 5, 6, 2, 6, 4, 5, 5, 1, 4, 5, 5, 3, 4, 2, 3, 5, 5, 1, 2, 3, 4, 5, 6, 4, 1, 5, 2, 3, 4, 5, 3, 4, 1, 2, 4, 5, 6, 1, 6, 1, 3, 3, 3, 6, 3, 6, 1, 1, 3, 5, 1, 5, 4, 5, 2, 5, 6, 2, 1, 2, 3, 4, 6, 1, 3, 2, 6, 1, 2, 3, 4, 1, 3, 3, 3, 3, 2, 3, 3, 4, 6, 1, 2, 3, 5, 6, 1, 2, 4, 6, 2, 2, 1, 2, 6, 2, 6, 4, 2, 4, 5, 5, 4, 1, 2, 5, 6, 3, 5, 3, 4, 4, 1, 2, 5, 1, 3, 5, 6, 1, 6, 5, 2, 4, 6, 1, 2, 1, 2, 5, 6, 6, 3, 5, 5, 5, 3, 4, 6, 6, 5, 6, 2, 1, 1, 2, 3, 4, 5, 6, 2, 5, 6, 5, 1, 1, 1, 2, 3, 4, 5, 1, 6, 3, 2, 3, 4, 5, 6, 1, 3, 3, 4, 6, 4, 6, 1, 2, 3, 4, 4, 1, 4, 2, 1, 2, 3, 1, 5, 6, 3, 4, 4, 6, 3, 1, 4, 2, 5, 1, 3, 4, 6, 5, 2, 1, 2, 5, 6, 3, 4, 1, 2, 3, 4, 5, 6, 5, 6, 2, 3, 4, 5, 3, 4, 6, 4, 4, 5, 2, 3, 4, 5, 6, 6, 4, 1, 1, 2, 1, 3, 1, 3, 2, 1, 2, 3, 4, 5, 6, 3, 4, 3, 2, 3, 2, 5, 4, 2, 5, 6, 1, 2, 5, 5, 2, 1, 2, 3, 4, 3, 5, 5, 6, 3, 4, 1, 3, 6, 1, 2, 3, 4, 5, 6, 2, 1, 2, 4, 5, 6, 1, 2, 3, 1, 4, 1, 3, 4, 3, 2, 6, 6, 4, 4, 1, 4, 2, 5, 6, 2, 5, 6, 2, 5, 6, 2, 5, 6, 6, 3, 5, 3, 5, 2, 2, 3, 4, 3, 4, 2, 3, 4, 2, 5, 6, 3, 2, 3, 4, 5, 6, 5, 6, 5, 3, 3, 4, 5, 1, 2, 4, 3, 4, 3, 4, 6, 2, 5, 6, 2, 3, 4, 3, 2, 3, 4, 5, 3, 4, 6, 1, 4, 4, 2, 5, 6, 5, 5, 6, 5, 1, 3, 1, 3, 5, 2, 4, 5, 6, 2, 4, 1, 2, 4, 5, 4, 5, 6, 2, 6, 2, 5, 1, 2, 1, 2, 6, 1, 2, 3, 4, 5, 6, 2, 5, 6, 6, 2, 3, 4, 5, 2, 1, 2, 6, 4, 6, 1, 2, 3, 6, 2, 3, 4, 6, 2, 4, 4, 2, 3, 4, 5, 5, 1, 4, 3, 6, 4, 2, 1, 2, 3, 5, 6, 6, 2, 5, 6, 3, 6, 6, 2, 5, 6, 1, 2, 3, 4, 5, 6, 1, 2, 3, 6, 1, 3], \"Freq\": [0.9711071710954522, 0.9655245729924669, 0.9829682013123898, 0.9443804054276936, 0.08434803884523635, 0.29179862087000685, 0.0022796767255469285, 0.6120932008093504, 0.009118706902187714, 0.006666425383407998, 0.8966342140683757, 0.09332995536771198, 0.10835899256545378, 0.12502960680629283, 0.5292920021466396, 0.11252664612566354, 0.12086195324608306, 0.010581709246410971, 0.9735172506698094, 0.7989437856608079, 0.1864202166541885, 0.9991324141677735, 0.9689520561348441, 0.9866150334521184, 0.9894459207812754, 0.008633908558300832, 0.9334022310710149, 0.049126433214263944, 0.9624181270323868, 0.9146710108997793, 0.0035540025149761825, 0.06300277185639597, 0.0035540025149761825, 0.005492549341326827, 0.009692734131753224, 0.9643916898027303, 0.977178086027365, 0.8826811881680403, 0.0840648750636229, 0.9219159821130618, 0.9247442767327143, 0.9262435551798921, 0.9787152990328623, 0.9700858540641789, 0.9535830910494608, 0.2665123291010575, 0.7300120318855053, 0.970460024464771, 0.9916484379438762, 0.9083185689409722, 0.9769704489991059, 0.06393976506060405, 0.547040212185168, 0.08170081091077183, 0.152744994311443, 0.15629720348147655, 0.9493080464845078, 0.96940085291408, 0.984766746257289, 0.7847337132418261, 0.21082398266198313, 0.9374982102169568, 0.0585936381385598, 0.008016148344409169, 0.9859862463623278, 0.8119797630861129, 0.07326133200776958, 0.10989199801165436, 0.9932942914848273, 0.07001577756391161, 0.5890457808094304, 0.10806783058777662, 0.23135648238509926, 0.9700058030023918, 0.19270695431331075, 0.8068846215980292, 0.00030299835583853893, 0.9516002269007923, 0.025718925051372764, 0.9800326198021762, 0.24198353320448748, 0.5565621263703212, 0.19963641489370218, 0.800317093557995, 0.008166500954673419, 0.18782952195748862, 0.9855045025759245, 0.9958500102106231, 0.9753295080745602, 0.9458087432907546, 0.8354871119299354, 0.1576390777226293, 0.05699909927099602, 0.10687331113311754, 0.8264869394294423, 0.9864555604121833, 0.6746910093523457, 0.32332837844309087, 0.9983058569969496, 0.9923078996545517, 0.9710646978336881, 0.18534826240249355, 0.030891377067082258, 0.7928786780551114, 0.9679002353500269, 0.12736037576343612, 0.027291509092164882, 0.7004820666988987, 0.13645754546082442, 0.9555486137405025, 0.10466229162005257, 0.6744903237736721, 0.20932458324010514, 0.8762213892665122, 0.12151975471579365, 0.11360883891486263, 0.8785750209416043, 0.8950150906781722, 0.09944612118646358, 0.9772861817224711, 0.9666475701967895, 0.6700601613734936, 0.1908118340335114, 0.1375620198846245, 0.14633391098799975, 0.02926678219759995, 0.04390017329639992, 0.7755697282363986, 0.18780787282944014, 0.48621371521399503, 0.022954295568042685, 0.16276682311884813, 0.13772577340825612, 0.9773184282258496, 0.9958159539183022, 0.9460265825194977, 0.9440470385126792, 0.9686058872258294, 0.410387576665384, 0.4924650919984608, 0.09438914263303833, 0.9757254593739908, 0.9985771012556401, 0.978787220904159, 0.06279622048873237, 0.9293840632332392, 0.9587756556523545, 0.9570789941066526, 0.13137908498587933, 0.2650233266094462, 0.18347768765269354, 0.05889407257987694, 0.3103264593631977, 0.052098602666814216, 0.9430166143881317, 0.9866232632254015, 0.965290411363947, 0.2559655713751161, 0.5882285726793534, 0.04922414834136848, 0.10829312635101065, 0.5067814537164869, 0.4915399062362918, 0.009678002192718617, 0.4016370909978226, 0.08226301863810824, 0.26130605920340266, 0.24195005481796542, 0.9808883201452361, 0.01812264794725609, 0.9730312354835287, 0.9718569075765097, 0.9931640696232352, 0.8983927719635184, 0.08983927719635183, 0.9671325389971733, 0.02479827023069675, 0.949233503393333, 0.41787337210967135, 0.42241547398042867, 0.1544314636057481, 0.9970237533645332, 0.9761533510671837, 0.3010214198162494, 0.697102235363946, 0.23048978010538335, 0.7543301894358001, 0.9483094298830286, 0.9739030359856765, 0.8120338279857161, 0.001301336262797622, 0.13533897133095268, 0.005205345051190488, 0.04684810546071439, 0.7284598198032047, 0.2637526933770224, 0.8944513408712615, 0.09757650991322854, 0.24855125212913548, 0.12369217242107212, 0.18670516591859943, 0.44109095448269114, 0.1698996977949882, 0.8211818726757762, 0.9971991020138393, 0.9808831383288663, 0.9615770507403004, 0.9805297649198499, 0.9978577819944436, 0.06119026047874997, 0.8391807151371424, 0.09615612360946424, 0.5133139223591376, 0.017700480081349574, 0.18142992083383314, 0.2655072012202436, 0.017700480081349574, 0.9351130606540936, 0.9945992694585593, 0.9523099649022255, 0.03210033589558064, 0.9954379828004325, 0.9770526917691417, 0.8141779604190523, 0.060759549285003905, 0.10936718871300702, 0.7345693662064182, 0.26162744549817635, 0.9870064241757939, 0.6330359626239712, 0.17096591691304333, 0.19406941919858972, 0.890929912082768, 0.9612260242270656, 0.28467128752848714, 0.11748338850382008, 0.3117828387216764, 0.2891898793940187, 0.09191256604658792, 0.8731693774425852, 0.33007886145081977, 0.6673333503244835, 0.9903417255928366, 0.5701929691303053, 0.14062191468416313, 0.28702281216356584, 0.3696540956661124, 0.001600234180372781, 0.522476459891713, 0.10641557299478994, 0.9032081443798443, 0.9619341640040534, 0.9174696556374105, 0.2628756710029715, 0.04779557654599482, 0.6930358599169248, 0.969618334809124, 0.9777506085408072, 0.680779558318564, 0.296499979554217, 0.0019506577602251118, 0.02145723536247623, 0.9751053144133863, 0.9203357309254374, 0.06881014810657475, 0.9648201612167525, 0.9401322612156459, 0.9746274152381569, 0.9864904395312982, 0.9679971017664905, 0.9633070797767651, 0.9545160361861155, 0.02727188674817473, 0.9897178259001731, 0.9566036521354383, 0.28566348527898444, 0.035452270249420506, 0.009544841990228597, 0.0013635488557469425, 0.3299788230907601, 0.3381601162252417, 0.22865584848831624, 0.7164549919300576, 0.04573116969766325, 0.9524677647654463, 0.9600412983055177, 0.9605692109557573, 0.9641801362591325, 0.12003173459357137, 0.2118207081063024, 0.6637048853997476, 0.9430587220416764, 0.9030603108438565, 0.9855328919168526, 0.9782489434349895, 0.19413263995896168, 0.0005042406232700303, 0.5506307606108731, 0.10740325275651647, 0.14673402137157882, 0.9946370343916426, 0.0031981898211949924, 0.6676129680599349, 0.3074533405539174, 0.026353143476050063, 0.9476393707348696, 0.9443538698637415, 0.36133125626549784, 0.05454056698347137, 0.5045002445971102, 0.0784020650387401, 0.9926498370354911, 0.6520456276067781, 0.3428281134839761, 0.9566231288448884, 0.32029584721713605, 0.005004622612767751, 0.6706194301108787, 0.9134034350907408, 0.2071583110813164, 0.7941068591450462, 0.3841403733227676, 0.6173684571258765, 0.7702489847074906, 0.22157847505283976, 0.9753940842965789, 0.9704283385467964, 0.9605673999810019, 0.00135785141766685, 0.9984734091243572, 0.12304004537944449, 0.8246300913728727, 0.005235746611891255, 0.04450384620107567, 0.9084769998927149, 0.9991612845186612, 0.2138632619254009, 0.3531686894180932, 0.2766488067108397, 0.156963861963597, 0.44034686530758443, 0.5577726960562737, 0.009643562713894958, 0.22180194241958404, 0.30859400684463867, 0.08679206442505462, 0.18001317065937256, 0.19287125427789917, 0.48228343341371, 0.5165960887553969, 0.007621640399280959, 0.0007621640399280958, 0.9786186272676751, 0.01295678867877763, 0.06291548441006381, 0.7639737392650606, 0.17077060054160179, 0.9727477037992656, 0.050000454003346795, 0.9000081720602424, 0.3738025905799462, 0.06749213441026806, 0.4906159001361794, 0.05970458043985252, 0.005191702646943698, 0.9951591634392132, 0.981059594422218, 0.961804117629304, 0.927191115857067, 0.04031265721117683, 0.693641689677618, 0.2995270932698805, 0.7118836138278901, 0.2873550135551118, 0.9787983328498717, 0.40894809426169154, 0.21297447992918025, 0.10385983346328674, 0.09489574069413402, 0.006336686267849339, 0.17309972243881122, 0.9007880086580053, 0.09724416002558012, 0.9937009583625162, 0.9607478203365092, 0.9972980227509295, 0.9893101943101382, 0.9708902964026117, 0.9820177271262946, 0.3536793094908431, 0.3206013884593254, 0.3256902993872512, 0.9315497254073902, 0.14491778798920293, 0.8453537632703504, 0.9158275797398818, 0.9877561080851605, 0.8480603670870714, 0.003499561349740322, 0.11665204499134407, 0.0314960521476629, 0.9706904358167957, 0.9516277376005754, 0.7834824305713508, 0.21615546758927906, 0.9695977090827035, 0.9793895702467291, 0.2790880981526324, 0.2790880981526324, 0.4406654181357354, 0.26795120365729297, 0.22037619402834505, 0.049215527202359936, 0.13397560182864648, 0.30076155512553293, 0.027888798748003964, 0.9623808398711101, 0.1534859044145583, 0.24185657665324342, 0.15813699242712068, 0.33952942491705324, 0.10697502428893459, 0.0007457547369557822, 0.0029830189478231286, 0.9955825738359692, 0.7873286673514422, 0.20913417726522684, 0.8270717986082117, 0.12294310519851795, 0.05029490667212098, 0.9962949709232308, 0.021023509789518186, 0.9670814503178365, 0.9907597414254278, 0.9771487559723375, 0.9904686677087783, 0.14101780442569187, 0.8573882509082066, 0.051037235000965527, 0.9441888475178623, 0.983523683912364, 0.3737316537024942, 0.622886089504157, 0.9599099614357031, 0.33089714394216796, 0.6617942878843359, 0.9832629816895722, 0.17440831349591382, 0.822582493503116, 0.0026031091566554305, 0.9660639241746037, 0.10055974048410031, 0.9050376643569028, 0.9523281402683943, 0.9537949780720774, 0.9931995529457603, 0.825068311343271, 0.15529108969636032, 0.018905002223904736, 0.9931241308982433, 0.984653556792848, 0.11789838824408265, 0.6995304369148904, 0.18077752864092672, 0.06087552236494718, 0.29423169143057804, 0.64528053706844, 0.9532939118087574, 0.20484556407380158, 0.08779095603162926, 0.15217099045482405, 0.11120187764006373, 0.4448075105602549, 0.26151998061337745, 0.736130315800618, 0.9570978366991869, 0.9802265013646677, 0.1661247037554219, 0.8306235187771096, 0.0075511228979737235, 0.27516201626696307, 0.6491001409374513, 0.07055436314537514, 0.17479456717423722, 0.8207744893398966, 0.0031817956015849466, 0.1368172108681527, 0.8590848124279356, 0.11033810332980742, 0.7171976716437483, 0.16550715499471114, 0.008111953428296884, 0.7584676455457586, 0.23119067270646118, 0.9904784663987287, 0.0421880419042336, 0.30937897396437974, 0.4921938222160587, 0.15468948698218987, 0.5354290454862788, 0.3204461711622426, 0.14196982266681635, 0.9880244118836154, 0.9848234269895773, 0.9938628532449082, 0.9026821527854149, 0.08878840847069654, 0.9890526884790306, 0.9789772424257647, 0.10877239195131894, 0.8701791356105515, 0.9740933494703468, 0.7490951519748984, 0.24620609890084072, 0.6333678121133096, 0.21397561220044242, 0.1497829285403097, 0.1728513329445424, 0.31113239930017633, 0.14865214633230647, 0.36644482584242993, 0.8869248437242935, 0.10892059484333429, 0.22735881758913554, 0.009885165982136327, 0.0691961618749543, 0.6820764527674066, 0.30956965297405986, 0.006317748019878773, 0.6823167861469075, 0.15963331617023344, 0.8437760997569481, 0.17900605979764397, 0.8055272690893979, 0.9132650087459595, 0.07485778760212783, 0.2476283391454691, 0.11255833597521323, 0.6378305705262083, 0.27414532298442723, 0.24116543450509761, 0.03091864544937149, 0.12470520331246501, 0.1968487093609985, 0.13191955391731836, 0.9798134258179383, 0.027221838134587114, 0.952764334710549, 0.9784602295592018, 0.2758011645730044, 0.5569061976954897, 0.058342554044289396, 0.10607737098961707, 0.9815321623291615, 0.02112982874911304, 0.977254579646478, 0.9656687618335243, 0.11828408385144659, 0.8803715383800524, 0.6905394056859355, 0.1562799707605012, 0.014537671698651274, 0.1381078811371871, 0.058876855533573615, 0.11775371106714723, 0.6155307623964514, 0.20874521507357918, 0.9987115677975708, 0.9847782855982419, 0.9927990206488811, 0.1487688630776482, 0.4569329365956337, 0.3046219577304225, 0.0885528946890763, 0.96426869598155, 0.8903757440247817, 0.9929250876824562, 0.023614621169678884, 0.9741031232492541, 0.9932741566571234, 0.9677096618159245, 0.0532383777489554, 0.16732061578243126, 0.07605482535565057, 0.6692824631297251, 0.034224671410042755, 0.9929619234511777, 0.9660088816091048, 0.03171969462000046, 0.9605147200960379, 0.9199085615613694, 0.06570775439724066, 0.954668927749245, 0.8298554735996043, 0.13184619674012404, 0.038778293158860014, 0.013227960828480179, 0.2810941676052038, 0.38195736892236515, 0.052911843313920716, 0.12401213276700168, 0.147161064216842, 0.25524936964482026, 0.6296151117905566, 0.10890639771512331, 0.0034033249285976034, 0.9622351542028817, 0.9738979068090342], \"Term\": [\"accept\", \"accessory\", \"airtel\", \"alarm\", \"amazon\", \"amazon\", \"amazon\", \"amazon\", \"amazon\", \"android\", \"android\", \"android\", \"apps\", \"apps\", \"apps\", \"apps\", \"apps\", \"audio\", \"audio\", \"auto\", \"auto\", \"awesome\", \"awsome\", \"background\", \"backup\", \"backup\", \"bahut\", \"bahut\", \"bakwas\", \"battery\", \"battery\", \"battery\", \"battery\", \"battery\", \"battery\", \"battry\", \"bekar\", \"bettery\", \"bettery\", \"bettry\", \"bhai\", \"bilkul\", \"bill\", \"blowing\", \"blue\", \"bluetooth\", \"bluetooth\", \"blur\", \"bokeh\", \"booting\", \"bottom\", \"bought\", \"bought\", \"bought\", \"bought\", \"bought\", \"break\", \"broke\", \"broken\", \"budget\", \"budget\", \"build\", \"build\", \"button\", \"button\", \"buying\", \"buying\", \"buying\", \"cable\", \"call\", \"call\", \"call\", \"call\", \"caller\", \"camera\", \"camera\", \"camera\", \"capacity\", \"capacity\", \"capture\", \"card\", \"card\", \"card\", \"care\", \"care\", \"care\", \"cash\", \"cast\", \"category\", \"cause\", \"cell\", \"cell\", \"center\", \"center\", \"center\", \"centre\", \"charge\", \"charge\", \"charger\", \"clarity\", \"clearity\", \"compare\", \"compare\", \"compare\", \"comparison\", \"con\", \"con\", \"con\", \"con\", \"concern\", \"connectivity\", \"connectivity\", \"connectivity\", \"contact\", \"contact\", \"core\", \"core\", \"cost\", \"cost\", \"coverage\", \"custom\", \"customer\", \"customer\", \"customer\", \"date\", \"date\", \"date\", \"date\", \"day\", \"day\", \"day\", \"day\", \"day\", \"deal\", \"deca\", \"decacore\", \"decide\", \"degree\", \"delivery\", \"delivery\", \"delivery\", \"department\", \"depth\", \"described\", \"design\", \"design\", \"deta\", \"detail\", \"device\", \"device\", \"device\", \"device\", \"device\", \"device\", \"didnt\", \"discharge\", \"discount\", \"display\", \"display\", \"display\", \"display\", \"dolby\", \"dolby\", \"dont\", \"dont\", \"dont\", \"dont\", \"dont\", \"drain\", \"drain\", \"drainage\", \"dull\", \"earphone\", \"edge\", \"edge\", \"effect\", \"effect\", \"effort\", \"everything\", \"everything\", \"everything\", \"excellent\", \"exchange\", \"face\", \"face\", \"facility\", \"facility\", \"fact\", \"fall\", \"fast\", \"fast\", \"fast\", \"fast\", \"fast\", \"faster\", \"faster\", \"faulty\", \"faulty\", \"feature\", \"feature\", \"feature\", \"feature\", \"fingerprint\", \"fingerprint\", \"flash\", \"focus\", \"fone\", \"fool\", \"front\", \"gallery\", \"gallery\", \"gallery\", \"game\", \"game\", \"game\", \"game\", \"game\", \"ghatiya\", \"glass\", \"google\", \"google\", \"gorilla\", \"guard\", \"half\", \"half\", \"half\", \"hand\", \"hand\", \"handle\", \"handset\", \"handset\", \"handset\", \"handsfree\", \"handy\", \"hang\", \"hang\", \"hang\", \"hang\", \"hate\", \"hate\", \"headphone\", \"headphone\", \"headset\", \"heat\", \"heat\", \"heat\", \"heating\", \"heating\", \"heating\", \"heating\", \"heatup\", \"helio\", \"honest\", \"hope\", \"hope\", \"hope\", \"hota\", \"hotspot\", \"hour\", \"hour\", \"hour\", \"hour\", \"icon\", \"image\", \"image\", \"imei\", \"impression\", \"improvement\", \"inbuilt\", \"increase\", \"india\", \"invoice\", \"invoice\", \"iron\", \"iska\", \"issue\", \"issue\", \"issue\", \"issue\", \"issue\", \"issue\", \"item\", \"item\", \"item\", \"jata\", \"jyada\", \"karta\", \"kharab\", \"killer\", \"killer\", \"killer\", \"kiya\", \"lena\", \"lenevo\", \"lenova\", \"lenovo\", \"lenovo\", \"lenovo\", \"lenovo\", \"lenovo\", \"life\", \"life\", \"light\", \"light\", \"light\", \"list\", \"location\", \"look\", \"look\", \"look\", \"look\", \"loud\", \"love\", \"love\", \"manufacturing\", \"mark\", \"mark\", \"mark\", \"mast\", \"medium\", \"medium\", \"memory\", \"memory\", \"message\", \"message\", \"minor\", \"mobail\", \"mobil\", \"mobile\", \"mobile\", \"mode\", \"mode\", \"mode\", \"mode\", \"moment\", \"money\", \"month\", \"month\", \"month\", \"month\", \"music\", \"music\", \"need\", \"need\", \"need\", \"need\", \"need\", \"need\", \"network\", \"network\", \"note\", \"note\", \"note\", \"note\", \"notification\", \"notification\", \"notification\", \"nougat\", \"october\", \"october\", \"option\", \"option\", \"option\", \"option\", \"option\", \"oreo\", \"paisa\", \"penny\", \"percent\", \"percent\", \"perfect\", \"perfect\", \"performance\", \"performance\", \"phon\", \"phone\", \"phone\", \"phone\", \"phone\", \"phone\", \"phone\", \"photo\", \"photo\", \"pic\", \"pick\", \"picture\", \"piece\", \"place\", \"player\", \"please\", \"please\", \"please\", \"plug\", \"policy\", \"policy\", \"position\", \"present\", \"price\", \"price\", \"price\", \"price\", \"primary\", \"prob\", \"problem\", \"problem\", \"processer\", \"processing\", \"processor\", \"processor\", \"processor\", \"product\", \"product\", \"product\", \"product\", \"product\", \"product\", \"protection\", \"purchase\", \"purchase\", \"purchase\", \"purchase\", \"purchase\", \"quality\", \"quality\", \"quality\", \"quick\", \"quick\", \"range\", \"range\", \"range\", \"rear\", \"receive\", \"receive\", \"reception\", \"record\", \"recorder\", \"redmi\", \"redmi\", \"refund\", \"refund\", \"repair\", \"replacement\", \"replacement\", \"resolve\", \"restart\", \"restart\", \"result\", \"return\", \"return\", \"return\", \"ring\", \"ringtone\", \"ringtone\", \"satisfactory\", \"satisfy\", \"scratch\", \"screen\", \"screen\", \"screen\", \"selfie\", \"seller\", \"sensor\", \"sensor\", \"sensor\", \"service\", \"service\", \"service\", \"setup\", \"show\", \"show\", \"show\", \"show\", \"show\", \"signal\", \"signal\", \"site\", \"slight\", \"slot\", \"slot\", \"slot\", \"smart\", \"smart\", \"smart\", \"smartphone\", \"smartphone\", \"software\", \"software\", \"software\", \"solution\", \"solution\", \"solution\", \"sound\", \"sound\", \"sound\", \"space\", \"speaker\", \"speaker\", \"speaker\", \"speaker\", \"speed\", \"speed\", \"speed\", \"stand\", \"standard\", \"stock\", \"stop\", \"stop\", \"storage\", \"store\", \"strength\", \"strength\", \"suggestion\", \"super\", \"super\", \"superb\", \"superb\", \"superb\", \"support\", \"support\", \"support\", \"support\", \"sure\", \"sure\", \"switch\", \"switch\", \"switch\", \"switch\", \"system\", \"system\", \"system\", \"talk\", \"talk\", \"team\", \"team\", \"thank\", \"thank\", \"till\", \"till\", \"till\", \"time\", \"time\", \"time\", \"time\", \"time\", \"time\", \"today\", \"told\", \"told\", \"tone\", \"touch\", \"touch\", \"touch\", \"touch\", \"trust\", \"turbo\", \"turbo\", \"turbocharger\", \"update\", \"update\", \"usage\", \"usage\", \"usage\", \"usage\", \"user\", \"user\", \"user\", \"user\", \"value\", \"version\", \"vibe\", \"video\", \"video\", \"video\", \"video\", \"visit\", \"vivo\", \"voice\", \"volta\", \"volta\", \"volume\", \"wait\", \"want\", \"want\", \"want\", \"want\", \"want\", \"warranty\", \"waste\", \"waste\", \"water\", \"weight\", \"weight\", \"west\", \"wifi\", \"wifi\", \"wifi\", \"work\", \"work\", \"work\", \"work\", \"work\", \"work\", \"worth\", \"worth\", \"worth\", \"worth\", \"yesterday\", \"zoom\"]}, \"R\": 30, \"lambda.step\": 0.01, \"plot.opts\": {\"xlab\": \"PC1\", \"ylab\": \"PC2\"}, \"topic.order\": [6, 4, 1, 2, 3, 5]};\n",
       "\n",
       "function LDAvis_load_lib(url, callback){\n",
       "  var s = document.createElement('script');\n",
       "  s.src = url;\n",
       "  s.async = true;\n",
       "  s.onreadystatechange = s.onload = callback;\n",
       "  s.onerror = function(){console.warn(\"failed to load library \" + url);};\n",
       "  document.getElementsByTagName(\"head\")[0].appendChild(s);\n",
       "}\n",
       "\n",
       "if(typeof(LDAvis) !== \"undefined\"){\n",
       "   // already loaded: just create the visualization\n",
       "   !function(LDAvis){\n",
       "       new LDAvis(\"#\" + \"ldavis_el2871396321871885605373364802\", ldavis_el2871396321871885605373364802_data);\n",
       "   }(LDAvis);\n",
       "}else if(typeof define === \"function\" && define.amd){\n",
       "   // require.js is available: use it to load d3/LDAvis\n",
       "   require.config({paths: {d3: \"https://d3js.org/d3.v5\"}});\n",
       "   require([\"d3\"], function(d3){\n",
       "      window.d3 = d3;\n",
       "      LDAvis_load_lib(\"https://cdn.jsdelivr.net/gh/bmabey/pyLDAvis@3.3.1/pyLDAvis/js/ldavis.v3.0.0.js\", function(){\n",
       "        new LDAvis(\"#\" + \"ldavis_el2871396321871885605373364802\", ldavis_el2871396321871885605373364802_data);\n",
       "      });\n",
       "    });\n",
       "}else{\n",
       "    // require.js not available: dynamically load d3 & LDAvis\n",
       "    LDAvis_load_lib(\"https://d3js.org/d3.v5.js\", function(){\n",
       "         LDAvis_load_lib(\"https://cdn.jsdelivr.net/gh/bmabey/pyLDAvis@3.3.1/pyLDAvis/js/ldavis.v3.0.0.js\", function(){\n",
       "                 new LDAvis(\"#\" + \"ldavis_el2871396321871885605373364802\", ldavis_el2871396321871885605373364802_data);\n",
       "            })\n",
       "         });\n",
       "}\n",
       "</script>"
      ],
      "text/plain": [
       "PreparedData(topic_coordinates=              x         y  topics  cluster       Freq\n",
       "topic                                                \n",
       "5     -0.151077 -0.183800       1        1  21.152992\n",
       "3      0.081218 -0.004608       2        1  18.232585\n",
       "0     -0.279494  0.006759       3        1  17.253662\n",
       "1     -0.012698  0.279254       4        1  15.850326\n",
       "2      0.224529 -0.098105       5        1  14.433065\n",
       "4      0.137521  0.000500       6        1  13.077369, topic_info=        Term         Freq        Total Category  logprob  loglift\n",
       "15    mobile  2209.000000  2209.000000  Default  30.0000  30.0000\n",
       "77    camera  3300.000000  3300.000000  Default  29.0000  29.0000\n",
       "5    battery  3095.000000  3095.000000  Default  28.0000  28.0000\n",
       "117  quality  1340.000000  1340.000000  Default  27.0000  27.0000\n",
       "34      note  1312.000000  1312.000000  Default  26.0000  26.0000\n",
       "..       ...          ...          ...      ...      ...      ...\n",
       "50   heating   132.805278  1249.817073   Topic6  -4.5803  -0.2076\n",
       "150     work    88.740507   604.779535   Topic6  -4.9834   0.1151\n",
       "49     month    79.618108   509.671456   Topic6  -5.0919   0.1778\n",
       "205     hang    63.693150   221.307883   Topic6  -5.3151   0.7888\n",
       "108      day    66.232133   479.213138   Topic6  -5.2760   0.0553\n",
       "\n",
       "[398 rows x 6 columns], token_table=      Topic      Freq       Term\n",
       "term                            \n",
       "806       6  0.971107     accept\n",
       "391       2  0.965525  accessory\n",
       "534       5  0.982968     airtel\n",
       "1748      6  0.944380      alarm\n",
       "3         1  0.084348     amazon\n",
       "...     ...       ...        ...\n",
       "116       2  0.629615      worth\n",
       "116       3  0.108906      worth\n",
       "116       6  0.003403      worth\n",
       "1151      1  0.962235  yesterday\n",
       "431       3  0.973898       zoom\n",
       "\n",
       "[608 rows x 3 columns], R=30, lambda_step=0.01, plot_opts={'xlab': 'PC1', 'ylab': 'PC2'}, topic_order=[6, 4, 1, 2, 3, 5])"
      ]
     },
     "execution_count": 48,
     "metadata": {},
     "output_type": "execute_result"
    }
   ],
   "source": [
    "gensimvis.prepare(ldamodel,doc_term_matrix,dictionary)"
   ]
  },
  {
   "cell_type": "code",
   "execution_count": 49,
   "metadata": {
    "colab": {
     "base_uri": "https://localhost:8080/",
     "height": 206
    },
    "id": "1YKosNViAGdj",
    "outputId": "95536e24-9a3f-4874-d3ed-ef2f376f730f"
   },
   "outputs": [
    {
     "data": {
      "text/html": [
       "\n",
       "  <div id=\"df-9ce665d8-3a79-4abc-92d4-2cd6d36c1094\">\n",
       "    <div class=\"colab-df-container\">\n",
       "      <div>\n",
       "<style scoped>\n",
       "    .dataframe tbody tr th:only-of-type {\n",
       "        vertical-align: middle;\n",
       "    }\n",
       "\n",
       "    .dataframe tbody tr th {\n",
       "        vertical-align: top;\n",
       "    }\n",
       "\n",
       "    .dataframe thead th {\n",
       "        text-align: right;\n",
       "    }\n",
       "</style>\n",
       "<table border=\"1\" class=\"dataframe\">\n",
       "  <thead>\n",
       "    <tr style=\"text-align: right;\">\n",
       "      <th></th>\n",
       "      <th>sentiment</th>\n",
       "      <th>review</th>\n",
       "      <th>clean_review</th>\n",
       "    </tr>\n",
       "  </thead>\n",
       "  <tbody>\n",
       "    <tr>\n",
       "      <th>0</th>\n",
       "      <td>1</td>\n",
       "      <td>Good but need updates and improvements</td>\n",
       "      <td>[need, update, improvement]</td>\n",
       "    </tr>\n",
       "    <tr>\n",
       "      <th>1</th>\n",
       "      <td>0</td>\n",
       "      <td>Worst mobile i have bought ever, Battery is dr...</td>\n",
       "      <td>[mobile, bought, battery, hell, backup, hour, ...</td>\n",
       "    </tr>\n",
       "    <tr>\n",
       "      <th>2</th>\n",
       "      <td>1</td>\n",
       "      <td>when I will get my 10% cash back.... its alrea...</td>\n",
       "      <td>[cash, january]</td>\n",
       "    </tr>\n",
       "    <tr>\n",
       "      <th>3</th>\n",
       "      <td>0</td>\n",
       "      <td>The worst phone everThey have changed the last...</td>\n",
       "      <td>[phone, everthey, phone, problem, amazon, phon...</td>\n",
       "    </tr>\n",
       "    <tr>\n",
       "      <th>4</th>\n",
       "      <td>0</td>\n",
       "      <td>Only I'm telling don't buyI'm totally disappoi...</td>\n",
       "      <td>[buyi, disappointedpoor, batterypoor, camerawa...</td>\n",
       "    </tr>\n",
       "  </tbody>\n",
       "</table>\n",
       "</div>\n",
       "      <button class=\"colab-df-convert\" onclick=\"convertToInteractive('df-9ce665d8-3a79-4abc-92d4-2cd6d36c1094')\"\n",
       "              title=\"Convert this dataframe to an interactive table.\"\n",
       "              style=\"display:none;\">\n",
       "        \n",
       "  <svg xmlns=\"http://www.w3.org/2000/svg\" height=\"24px\"viewBox=\"0 0 24 24\"\n",
       "       width=\"24px\">\n",
       "    <path d=\"M0 0h24v24H0V0z\" fill=\"none\"/>\n",
       "    <path d=\"M18.56 5.44l.94 2.06.94-2.06 2.06-.94-2.06-.94-.94-2.06-.94 2.06-2.06.94zm-11 1L8.5 8.5l.94-2.06 2.06-.94-2.06-.94L8.5 2.5l-.94 2.06-2.06.94zm10 10l.94 2.06.94-2.06 2.06-.94-2.06-.94-.94-2.06-.94 2.06-2.06.94z\"/><path d=\"M17.41 7.96l-1.37-1.37c-.4-.4-.92-.59-1.43-.59-.52 0-1.04.2-1.43.59L10.3 9.45l-7.72 7.72c-.78.78-.78 2.05 0 2.83L4 21.41c.39.39.9.59 1.41.59.51 0 1.02-.2 1.41-.59l7.78-7.78 2.81-2.81c.8-.78.8-2.07 0-2.86zM5.41 20L4 18.59l7.72-7.72 1.47 1.35L5.41 20z\"/>\n",
       "  </svg>\n",
       "      </button>\n",
       "      \n",
       "  <style>\n",
       "    .colab-df-container {\n",
       "      display:flex;\n",
       "      flex-wrap:wrap;\n",
       "      gap: 12px;\n",
       "    }\n",
       "\n",
       "    .colab-df-convert {\n",
       "      background-color: #E8F0FE;\n",
       "      border: none;\n",
       "      border-radius: 50%;\n",
       "      cursor: pointer;\n",
       "      display: none;\n",
       "      fill: #1967D2;\n",
       "      height: 32px;\n",
       "      padding: 0 0 0 0;\n",
       "      width: 32px;\n",
       "    }\n",
       "\n",
       "    .colab-df-convert:hover {\n",
       "      background-color: #E2EBFA;\n",
       "      box-shadow: 0px 1px 2px rgba(60, 64, 67, 0.3), 0px 1px 3px 1px rgba(60, 64, 67, 0.15);\n",
       "      fill: #174EA6;\n",
       "    }\n",
       "\n",
       "    [theme=dark] .colab-df-convert {\n",
       "      background-color: #3B4455;\n",
       "      fill: #D2E3FC;\n",
       "    }\n",
       "\n",
       "    [theme=dark] .colab-df-convert:hover {\n",
       "      background-color: #434B5C;\n",
       "      box-shadow: 0px 1px 3px 1px rgba(0, 0, 0, 0.15);\n",
       "      filter: drop-shadow(0px 1px 2px rgba(0, 0, 0, 0.3));\n",
       "      fill: #FFFFFF;\n",
       "    }\n",
       "  </style>\n",
       "\n",
       "      <script>\n",
       "        const buttonEl =\n",
       "          document.querySelector('#df-9ce665d8-3a79-4abc-92d4-2cd6d36c1094 button.colab-df-convert');\n",
       "        buttonEl.style.display =\n",
       "          google.colab.kernel.accessAllowed ? 'block' : 'none';\n",
       "\n",
       "        async function convertToInteractive(key) {\n",
       "          const element = document.querySelector('#df-9ce665d8-3a79-4abc-92d4-2cd6d36c1094');\n",
       "          const dataTable =\n",
       "            await google.colab.kernel.invokeFunction('convertToInteractive',\n",
       "                                                     [key], {});\n",
       "          if (!dataTable) return;\n",
       "\n",
       "          const docLinkHtml = 'Like what you see? Visit the ' +\n",
       "            '<a target=\"_blank\" href=https://colab.research.google.com/notebooks/data_table.ipynb>data table notebook</a>'\n",
       "            + ' to learn more about interactive tables.';\n",
       "          element.innerHTML = '';\n",
       "          dataTable['output_type'] = 'display_data';\n",
       "          await google.colab.output.renderOutput(dataTable, element);\n",
       "          const docLink = document.createElement('div');\n",
       "          docLink.innerHTML = docLinkHtml;\n",
       "          element.appendChild(docLink);\n",
       "        }\n",
       "      </script>\n",
       "    </div>\n",
       "  </div>\n",
       "  "
      ],
      "text/plain": [
       "   sentiment                                             review  \\\n",
       "0          1             Good but need updates and improvements   \n",
       "1          0  Worst mobile i have bought ever, Battery is dr...   \n",
       "2          1  when I will get my 10% cash back.... its alrea...   \n",
       "3          0  The worst phone everThey have changed the last...   \n",
       "4          0  Only I'm telling don't buyI'm totally disappoi...   \n",
       "\n",
       "                                        clean_review  \n",
       "0                        [need, update, improvement]  \n",
       "1  [mobile, bought, battery, hell, backup, hour, ...  \n",
       "2                                    [cash, january]  \n",
       "3  [phone, everthey, phone, problem, amazon, phon...  \n",
       "4  [buyi, disappointedpoor, batterypoor, camerawa...  "
      ]
     },
     "execution_count": 49,
     "metadata": {},
     "output_type": "execute_result"
    }
   ],
   "source": [
    "AnaReviews_df.head()"
   ]
  },
  {
   "cell_type": "markdown",
   "metadata": {
    "id": "qOyoosuQAW8S"
   },
   "source": [
    "Creating a lookup table for topics"
   ]
  },
  {
   "cell_type": "code",
   "execution_count": 50,
   "metadata": {
    "colab": {
     "base_uri": "https://localhost:8080/",
     "height": 377
    },
    "id": "PQNdXKJ_AYlI",
    "outputId": "f696fa62-0e37-4bee-96d4-4a3aa4d087fa"
   },
   "outputs": [
    {
     "data": {
      "text/html": [
       "<style type=\"text/css\">\n",
       "#T_47030_row0_col2, #T_47030_row1_col2, #T_47030_row2_col2, #T_47030_row3_col2, #T_47030_row4_col2, #T_47030_row5_col2 {\n",
       "  width: 300px;\n",
       "}\n",
       "</style>\n",
       "<table id=\"T_47030_\" class=\"dataframe\">\n",
       "  <thead>\n",
       "    <tr>\n",
       "      <th class=\"blank level0\" >&nbsp;</th>\n",
       "      <th class=\"col_heading level0 col0\" >Topic_Number</th>\n",
       "      <th class=\"col_heading level0 col1\" >Topic_Name</th>\n",
       "      <th class=\"col_heading level0 col2\" >Top_Keywords</th>\n",
       "    </tr>\n",
       "  </thead>\n",
       "  <tbody>\n",
       "    <tr>\n",
       "      <th id=\"T_47030_level0_row0\" class=\"row_heading level0 row0\" >0</th>\n",
       "      <td id=\"T_47030_row0_col0\" class=\"data row0 col0\" >0</td>\n",
       "      <td id=\"T_47030_row0_col1\" class=\"data row0 col1\" >Camera, Sound</td>\n",
       "      <td id=\"T_47030_row0_col2\" class=\"data row0 col2\" >['camera', 'quality', 'phone', 'sound', 'front', 'mode', 'depth', 'performance', 'display', 'rear']</td>\n",
       "    </tr>\n",
       "    <tr>\n",
       "      <th id=\"T_47030_level0_row1\" class=\"row_heading level0 row1\" >1</th>\n",
       "      <td id=\"T_47030_row1_col0\" class=\"data row1 col0\" >1</td>\n",
       "      <td id=\"T_47030_row1_col1\" class=\"data row1 col1\" >Mixed issues</td>\n",
       "      <td id=\"T_47030_row1_col2\" class=\"data row1 col2\" >['note', 'lenovo', 'phone', 'call', 'feature', 'android', 'product', 'option', 'speaker', 'stock']</td>\n",
       "    </tr>\n",
       "    <tr>\n",
       "      <th id=\"T_47030_level0_row2\" class=\"row_heading level0 row2\" >2</th>\n",
       "      <td id=\"T_47030_row2_col0\" class=\"data row2 col0\" >2</td>\n",
       "      <td id=\"T_47030_row2_col1\" class=\"data row2 col1\" >Heating issue</td>\n",
       "      <td id=\"T_47030_row2_col2\" class=\"data row2 col2\" >['mobile', 'problem', 'heating', 'product', 'amazon', 'issue', 'return', 'network', 'lenovo', 'time']</td>\n",
       "    </tr>\n",
       "    <tr>\n",
       "      <th id=\"T_47030_level0_row3\" class=\"row_heading level0 row3\" >3</th>\n",
       "      <td id=\"T_47030_row3_col0\" class=\"data row3 col0\" >3</td>\n",
       "      <td id=\"T_47030_row3_col1\" class=\"data row3 col1\" >turbo charger</td>\n",
       "      <td id=\"T_47030_row3_col2\" class=\"data row3 col2\" >['phone', 'money', 'screen', 'charger', 'product', 'lenovo', 'turbo', 'waste', 'amazon', 'value']</td>\n",
       "    </tr>\n",
       "    <tr>\n",
       "      <th id=\"T_47030_level0_row4\" class=\"row_heading level0 row4\" >4</th>\n",
       "      <td id=\"T_47030_row4_col0\" class=\"data row4 col0\" >4</td>\n",
       "      <td id=\"T_47030_row4_col1\" class=\"data row4 col1\" >Connectivity</td>\n",
       "      <td id=\"T_47030_row4_col2\" class=\"data row4 col2\" >['phone', 'update', 'issue', 'problem', 'service', 'lenovo', 'network', 'software', 'volta', 'call']</td>\n",
       "    </tr>\n",
       "    <tr>\n",
       "      <th id=\"T_47030_level0_row5\" class=\"row_heading level0 row5\" >5</th>\n",
       "      <td id=\"T_47030_row5_col0\" class=\"data row5 col0\" >5</td>\n",
       "      <td id=\"T_47030_row5_col1\" class=\"data row5 col1\" >Battery</td>\n",
       "      <td id=\"T_47030_row5_col2\" class=\"data row5 col2\" >['battery', 'phone', 'price', 'awesome', 'camera', 'fast', 'performance', 'backup', 'product', 'heating']</td>\n",
       "    </tr>\n",
       "  </tbody>\n",
       "</table>\n"
      ],
      "text/plain": [
       "<pandas.io.formats.style.Styler at 0x7efea9062d10>"
      ]
     },
     "execution_count": 50,
     "metadata": {},
     "output_type": "execute_result"
    }
   ],
   "source": [
    "topic_lookup_data = pd.DataFrame((ldamodel.print_topics()),columns=['Topic_Number','Top_Keywords'])\n",
    "topic_lookup_data['Topic_Name'] = ['Camera, Sound','Mixed issues','Heating issue','turbo charger','Connectivity','Battery']\n",
    "topic_lookup_data = topic_lookup_data[['Topic_Number','Topic_Name','Top_Keywords']]\n",
    "topic_lookup_data['Top_Keywords'] = topic_lookup_data.Top_Keywords.str\\\n",
    ".replace(r'[^a-z]',' ',regex=True).apply(lambda x: x.split())\n",
    "topic_lookup_data.style.set_properties(subset=['Top_Keywords'], **{'width': '300px'})"
   ]
  },
  {
   "cell_type": "markdown",
   "metadata": {
    "id": "S65ImchABCG5"
   },
   "source": [
    "Creating new columns and inserting topic numbers and names"
   ]
  },
  {
   "cell_type": "code",
   "execution_count": 51,
   "metadata": {
    "id": "pkFfbroHBDw8"
   },
   "outputs": [],
   "source": [
    "for index,sent in enumerate(ldamodel[doc_term_matrix]):\n",
    "  topic_num =[]\n",
    "  topic_details = sorted(sent,key=lambda x: x[1], reverse=True)[:2] # Getting top 2 topics in descending order\n",
    "  topic_num.append(topic_details[0][0]) # Appending top topic\n",
    "  if len(topic_details) > 1:\n",
    "    if topic_details[1][1] > 0.35: # Appending second topic only if it has more than 35% influence on current row\n",
    "      topic_num.append(topic_details[1][0])\n",
    "  AnaReviews_df.loc[index,'Topic_Number'] = ','.join(str(x) for x in sorted(topic_num))"
   ]
  },
  {
   "cell_type": "code",
   "execution_count": 53,
   "metadata": {
    "id": "VtcXJFGvBShm"
   },
   "outputs": [],
   "source": [
    "for index,topic_num in enumerate(AnaReviews_df.Topic_Number):\n",
    "  topic_name_list=[]\n",
    "  for single_topic_num in topic_num.split(','):\n",
    "    single_topic_num=int(single_topic_num)\n",
    "    topic_name_list.append(topic_lookup_data.loc\\\n",
    "                           [topic_lookup_data.Topic_Number == single_topic_num,'Topic_Name'][single_topic_num]) \n",
    "  # Extracting topic names from lookup table\n",
    "  AnaReviews_df.loc[index,'Topic_Name'] =' & '.join(topic_name_list)"
   ]
  },
  {
   "cell_type": "code",
   "execution_count": 54,
   "metadata": {
    "colab": {
     "base_uri": "https://localhost:8080/",
     "height": 206
    },
    "id": "9B3-LuWUBSzf",
    "outputId": "f92b2fff-4519-42e0-a526-741db8aa59fb"
   },
   "outputs": [
    {
     "data": {
      "text/html": [
       "\n",
       "  <div id=\"df-576b90e7-b649-4358-9584-157d13f17a5c\">\n",
       "    <div class=\"colab-df-container\">\n",
       "      <div>\n",
       "<style scoped>\n",
       "    .dataframe tbody tr th:only-of-type {\n",
       "        vertical-align: middle;\n",
       "    }\n",
       "\n",
       "    .dataframe tbody tr th {\n",
       "        vertical-align: top;\n",
       "    }\n",
       "\n",
       "    .dataframe thead th {\n",
       "        text-align: right;\n",
       "    }\n",
       "</style>\n",
       "<table border=\"1\" class=\"dataframe\">\n",
       "  <thead>\n",
       "    <tr style=\"text-align: right;\">\n",
       "      <th></th>\n",
       "      <th>sentiment</th>\n",
       "      <th>review</th>\n",
       "      <th>clean_review</th>\n",
       "      <th>Topic_Number</th>\n",
       "      <th>Topic_Name</th>\n",
       "    </tr>\n",
       "  </thead>\n",
       "  <tbody>\n",
       "    <tr>\n",
       "      <th>0</th>\n",
       "      <td>1</td>\n",
       "      <td>Good but need updates and improvements</td>\n",
       "      <td>[need, update, improvement]</td>\n",
       "      <td>0,4</td>\n",
       "      <td>Camera, Sound &amp; Connectivity</td>\n",
       "    </tr>\n",
       "    <tr>\n",
       "      <th>1</th>\n",
       "      <td>0</td>\n",
       "      <td>Worst mobile i have bought ever, Battery is dr...</td>\n",
       "      <td>[mobile, bought, battery, hell, backup, hour, ...</td>\n",
       "      <td>3</td>\n",
       "      <td>turbo charger</td>\n",
       "    </tr>\n",
       "    <tr>\n",
       "      <th>2</th>\n",
       "      <td>1</td>\n",
       "      <td>when I will get my 10% cash back.... its alrea...</td>\n",
       "      <td>[cash, january]</td>\n",
       "      <td>0</td>\n",
       "      <td>Camera, Sound</td>\n",
       "    </tr>\n",
       "    <tr>\n",
       "      <th>3</th>\n",
       "      <td>0</td>\n",
       "      <td>The worst phone everThey have changed the last...</td>\n",
       "      <td>[phone, everthey, phone, problem, amazon, phon...</td>\n",
       "      <td>3</td>\n",
       "      <td>turbo charger</td>\n",
       "    </tr>\n",
       "    <tr>\n",
       "      <th>4</th>\n",
       "      <td>0</td>\n",
       "      <td>Only I'm telling don't buyI'm totally disappoi...</td>\n",
       "      <td>[buyi, disappointedpoor, batterypoor, camerawa...</td>\n",
       "      <td>4</td>\n",
       "      <td>Connectivity</td>\n",
       "    </tr>\n",
       "  </tbody>\n",
       "</table>\n",
       "</div>\n",
       "      <button class=\"colab-df-convert\" onclick=\"convertToInteractive('df-576b90e7-b649-4358-9584-157d13f17a5c')\"\n",
       "              title=\"Convert this dataframe to an interactive table.\"\n",
       "              style=\"display:none;\">\n",
       "        \n",
       "  <svg xmlns=\"http://www.w3.org/2000/svg\" height=\"24px\"viewBox=\"0 0 24 24\"\n",
       "       width=\"24px\">\n",
       "    <path d=\"M0 0h24v24H0V0z\" fill=\"none\"/>\n",
       "    <path d=\"M18.56 5.44l.94 2.06.94-2.06 2.06-.94-2.06-.94-.94-2.06-.94 2.06-2.06.94zm-11 1L8.5 8.5l.94-2.06 2.06-.94-2.06-.94L8.5 2.5l-.94 2.06-2.06.94zm10 10l.94 2.06.94-2.06 2.06-.94-2.06-.94-.94-2.06-.94 2.06-2.06.94z\"/><path d=\"M17.41 7.96l-1.37-1.37c-.4-.4-.92-.59-1.43-.59-.52 0-1.04.2-1.43.59L10.3 9.45l-7.72 7.72c-.78.78-.78 2.05 0 2.83L4 21.41c.39.39.9.59 1.41.59.51 0 1.02-.2 1.41-.59l7.78-7.78 2.81-2.81c.8-.78.8-2.07 0-2.86zM5.41 20L4 18.59l7.72-7.72 1.47 1.35L5.41 20z\"/>\n",
       "  </svg>\n",
       "      </button>\n",
       "      \n",
       "  <style>\n",
       "    .colab-df-container {\n",
       "      display:flex;\n",
       "      flex-wrap:wrap;\n",
       "      gap: 12px;\n",
       "    }\n",
       "\n",
       "    .colab-df-convert {\n",
       "      background-color: #E8F0FE;\n",
       "      border: none;\n",
       "      border-radius: 50%;\n",
       "      cursor: pointer;\n",
       "      display: none;\n",
       "      fill: #1967D2;\n",
       "      height: 32px;\n",
       "      padding: 0 0 0 0;\n",
       "      width: 32px;\n",
       "    }\n",
       "\n",
       "    .colab-df-convert:hover {\n",
       "      background-color: #E2EBFA;\n",
       "      box-shadow: 0px 1px 2px rgba(60, 64, 67, 0.3), 0px 1px 3px 1px rgba(60, 64, 67, 0.15);\n",
       "      fill: #174EA6;\n",
       "    }\n",
       "\n",
       "    [theme=dark] .colab-df-convert {\n",
       "      background-color: #3B4455;\n",
       "      fill: #D2E3FC;\n",
       "    }\n",
       "\n",
       "    [theme=dark] .colab-df-convert:hover {\n",
       "      background-color: #434B5C;\n",
       "      box-shadow: 0px 1px 3px 1px rgba(0, 0, 0, 0.15);\n",
       "      filter: drop-shadow(0px 1px 2px rgba(0, 0, 0, 0.3));\n",
       "      fill: #FFFFFF;\n",
       "    }\n",
       "  </style>\n",
       "\n",
       "      <script>\n",
       "        const buttonEl =\n",
       "          document.querySelector('#df-576b90e7-b649-4358-9584-157d13f17a5c button.colab-df-convert');\n",
       "        buttonEl.style.display =\n",
       "          google.colab.kernel.accessAllowed ? 'block' : 'none';\n",
       "\n",
       "        async function convertToInteractive(key) {\n",
       "          const element = document.querySelector('#df-576b90e7-b649-4358-9584-157d13f17a5c');\n",
       "          const dataTable =\n",
       "            await google.colab.kernel.invokeFunction('convertToInteractive',\n",
       "                                                     [key], {});\n",
       "          if (!dataTable) return;\n",
       "\n",
       "          const docLinkHtml = 'Like what you see? Visit the ' +\n",
       "            '<a target=\"_blank\" href=https://colab.research.google.com/notebooks/data_table.ipynb>data table notebook</a>'\n",
       "            + ' to learn more about interactive tables.';\n",
       "          element.innerHTML = '';\n",
       "          dataTable['output_type'] = 'display_data';\n",
       "          await google.colab.output.renderOutput(dataTable, element);\n",
       "          const docLink = document.createElement('div');\n",
       "          docLink.innerHTML = docLinkHtml;\n",
       "          element.appendChild(docLink);\n",
       "        }\n",
       "      </script>\n",
       "    </div>\n",
       "  </div>\n",
       "  "
      ],
      "text/plain": [
       "   sentiment                                             review  \\\n",
       "0          1             Good but need updates and improvements   \n",
       "1          0  Worst mobile i have bought ever, Battery is dr...   \n",
       "2          1  when I will get my 10% cash back.... its alrea...   \n",
       "3          0  The worst phone everThey have changed the last...   \n",
       "4          0  Only I'm telling don't buyI'm totally disappoi...   \n",
       "\n",
       "                                        clean_review Topic_Number  \\\n",
       "0                        [need, update, improvement]          0,4   \n",
       "1  [mobile, bought, battery, hell, backup, hour, ...            3   \n",
       "2                                    [cash, january]            0   \n",
       "3  [phone, everthey, phone, problem, amazon, phon...            3   \n",
       "4  [buyi, disappointedpoor, batterypoor, camerawa...            4   \n",
       "\n",
       "                     Topic_Name  \n",
       "0  Camera, Sound & Connectivity  \n",
       "1                 turbo charger  \n",
       "2                 Camera, Sound  \n",
       "3                 turbo charger  \n",
       "4                  Connectivity  "
      ]
     },
     "execution_count": 54,
     "metadata": {},
     "output_type": "execute_result"
    }
   ],
   "source": [
    "AnaReviews_df.head()"
   ]
  },
  {
   "cell_type": "markdown",
   "metadata": {
    "id": "zRE61FTdCANE"
   },
   "source": [
    "Visualization"
   ]
  },
  {
   "cell_type": "code",
   "execution_count": 55,
   "metadata": {
    "id": "kb7y_RHeCB5V"
   },
   "outputs": [],
   "source": [
    "import seaborn as sns"
   ]
  },
  {
   "cell_type": "code",
   "execution_count": 57,
   "metadata": {
    "colab": {
     "base_uri": "https://localhost:8080/",
     "height": 414
    },
    "id": "8_w96aEkA6Pq",
    "outputId": "d8db3c94-05c5-4617-9554-28992c43a0ae"
   },
   "outputs": [
    {
     "data": {
      "image/png": "[encoded data removed]",
      "text/plain": [
       "<Figure size 864x432 with 1 Axes>"
      ]
     },
     "metadata": {
      "needs_background": "light"
     },
     "output_type": "display_data"
    }
   ],
   "source": [
    "plt.figure(figsize=(12,6))\n",
    "ax = sns.barplot(x=AnaReviews_df.Topic_Name.value_counts()[:6].index,y=AnaReviews_df.Topic_Name.value_counts()[:6].values)\n",
    "for p in ax.patches:\n",
    "    ax.annotate(p.get_height(), (p.get_x() + p.get_width() / 2., p.get_height()+50),ha = 'center', va = 'center')\n",
    "plt.xlabel('Topic Names',size=15)\n",
    "plt.ylabel('Count of topics',size=15)\n",
    "plt.title('Most talked topics in reviews',size=15)\n",
    "plt.show()"
   ]
  },
  {
   "cell_type": "markdown",
   "metadata": {
    "id": "JUXfQBrXCkEs"
   },
   "source": [
    "\n",
    "\n",
    "Above chart shows the issues relevant to mobile phone include Battery, Camera, Sound, turbo charger, Heating issues, Mixed issues and connectivity, Where client faced highest issue relevant to Battery and least problem with connectivity issue.\n"
   ]
  },
  {
   "cell_type": "markdown",
   "metadata": {
    "id": "H5M4SjntSkw9"
   },
   "source": [
    "Task 9: Analyze the topics through the business lens."
   ]
  },
  {
   "cell_type": "code",
   "execution_count": 60,
   "metadata": {
    "colab": {
     "base_uri": "https://localhost:8080/",
     "height": 546
    },
    "id": "QIbtM-vzC6a1",
    "outputId": "b4ba5219-39df-40b1-87cc-e7cc33c66b6d"
   },
   "outputs": [
    {
     "data": {
      "image/png": "[encoded data removed]",
      "text/plain": [
       "<Figure size 864x432 with 1 Axes>"
      ]
     },
     "metadata": {
      "needs_background": "light"
     },
     "output_type": "display_data"
    }
   ],
   "source": [
    "plt.figure(figsize=(12,6))\n",
    "ax = sns.barplot(x=AnaReviews_df.Topic_Name.value_counts()[6:].index,y=AnaReviews_df.Topic_Name.value_counts()[6:].values)\n",
    "for p in ax.patches:\n",
    "    ax.annotate(p.get_height(), (p.get_x() + p.get_width() / 2., p.get_height()+5),ha = 'center', va = 'center')\n",
    "plt.xlabel('Topic Names combined',size=15)\n",
    "plt.ylabel('Count of combined topics',size=15)\n",
    "plt.title('Most talked combined topics in reviews',size=15)\n",
    "plt.xticks(rotation=45)\n",
    "plt.show()"
   ]
  },
  {
   "cell_type": "markdown",
   "metadata": {
    "id": "qmas74K8DI10"
   },
   "source": [
    "\n",
    "\n",
    "From above chart one can say can say that most of customers had combined issues with,\n",
    "\n",
    "    Heating issue & Battery\n",
    "    Camera, Sound & Battery\n",
    "    turbo charger & Battery\n",
    "\n"
   ]
  },
  {
   "cell_type": "markdown",
   "metadata": {
    "id": "yvC5X3UyDJIR"
   },
   "source": [
    "Task 10: Interpreting the topics.\n",
    "\n",
    "Extracting reviews of 5 topic (review of battery)"
   ]
  },
  {
   "cell_type": "code",
   "execution_count": 61,
   "metadata": {
    "colab": {
     "base_uri": "https://localhost:8080/",
     "height": 693
    },
    "id": "V7d0mywnDDaJ",
    "outputId": "4fd81305-ff33-42b5-acdf-d708bac7ae90"
   },
   "outputs": [
    {
     "data": {
      "text/html": [
       "<style type=\"text/css\">\n",
       "#T_ba0da_row0_col0, #T_ba0da_row1_col0, #T_ba0da_row2_col0, #T_ba0da_row3_col0, #T_ba0da_row4_col0, #T_ba0da_row5_col0, #T_ba0da_row6_col0, #T_ba0da_row7_col0, #T_ba0da_row8_col0, #T_ba0da_row9_col0 {\n",
       "  width: 300px;\n",
       "}\n",
       "</style>\n",
       "<table id=\"T_ba0da_\" class=\"dataframe\">\n",
       "  <thead>\n",
       "    <tr>\n",
       "      <th class=\"blank level0\" >&nbsp;</th>\n",
       "      <th class=\"col_heading level0 col0\" >review</th>\n",
       "      <th class=\"col_heading level0 col1\" >Topic_Name</th>\n",
       "    </tr>\n",
       "  </thead>\n",
       "  <tbody>\n",
       "    <tr>\n",
       "      <th id=\"T_ba0da_level0_row0\" class=\"row_heading level0 row0\" >5</th>\n",
       "      <td id=\"T_ba0da_row0_col0\" class=\"data row0 col0\" >Phone is awesome. But while charging, it heats up allot..Really a genuine reason to hate Lenovo k8 note</td>\n",
       "      <td id=\"T_ba0da_row0_col1\" class=\"data row0 col1\" >Battery</td>\n",
       "    </tr>\n",
       "    <tr>\n",
       "      <th id=\"T_ba0da_level0_row1\" class=\"row_heading level0 row1\" >10</th>\n",
       "      <td id=\"T_ba0da_row1_col0\" class=\"data row1 col0\" >Don't purchase this item, It is so much of heating &Battery life is very poor</td>\n",
       "      <td id=\"T_ba0da_row1_col1\" class=\"data row1 col1\" >Heating issue & Battery</td>\n",
       "    </tr>\n",
       "    <tr>\n",
       "      <th id=\"T_ba0da_level0_row2\" class=\"row_heading level0 row2\" >12</th>\n",
       "      <td id=\"T_ba0da_row2_col0\" class=\"data row2 col0\" >Very good phone slim good battry backup good screen love it</td>\n",
       "      <td id=\"T_ba0da_row2_col1\" class=\"data row2 col1\" >Battery</td>\n",
       "    </tr>\n",
       "    <tr>\n",
       "      <th id=\"T_ba0da_level0_row3\" class=\"row_heading level0 row3\" >15</th>\n",
       "      <td id=\"T_ba0da_row3_col0\" class=\"data row3 col0\" >Battery draining very rapidly I don't know why..Tell me possible solutions for battery life</td>\n",
       "      <td id=\"T_ba0da_row3_col1\" class=\"data row3 col1\" >Heating issue & Battery</td>\n",
       "    </tr>\n",
       "    <tr>\n",
       "      <th id=\"T_ba0da_level0_row4\" class=\"row_heading level0 row4\" >17</th>\n",
       "      <td id=\"T_ba0da_row4_col0\" class=\"data row4 col0\" >Excellent camera , excellent speed.excellent features.excelent battery.</td>\n",
       "      <td id=\"T_ba0da_row4_col1\" class=\"data row4 col1\" >Battery</td>\n",
       "    </tr>\n",
       "    <tr>\n",
       "      <th id=\"T_ba0da_level0_row5\" class=\"row_heading level0 row5\" >18</th>\n",
       "      <td id=\"T_ba0da_row5_col0\" class=\"data row5 col0\" >It is not a very good product camera are very poor ...Os is not good...Battery draining very quickly...Like a odinary phone..It was fully unexpected product from Lenovo..</td>\n",
       "      <td id=\"T_ba0da_row5_col1\" class=\"data row5 col1\" >Battery</td>\n",
       "    </tr>\n",
       "    <tr>\n",
       "      <th id=\"T_ba0da_level0_row6\" class=\"row_heading level0 row6\" >21</th>\n",
       "      <td id=\"T_ba0da_row6_col0\" class=\"data row6 col0\" >Awesome phone in this price and this is my second mobile from lenovo. It is fast and display has been improved.</td>\n",
       "      <td id=\"T_ba0da_row6_col1\" class=\"data row6 col1\" >Heating issue & Battery</td>\n",
       "    </tr>\n",
       "    <tr>\n",
       "      <th id=\"T_ba0da_level0_row7\" class=\"row_heading level0 row7\" >24</th>\n",
       "      <td id=\"T_ba0da_row7_col0\" class=\"data row7 col0\" >Before the new update of 8.0 Oreo, it worked superbly, the battery back-up is also superb and there is not that much heating problem...But... After that update, my phone got heating up simply, battery is also draining unnecessarily... really very much disappointed after that update of 8.0 Oreo...😒😒☹️</td>\n",
       "      <td id=\"T_ba0da_row7_col1\" class=\"data row7 col1\" >Connectivity & Battery</td>\n",
       "    </tr>\n",
       "    <tr>\n",
       "      <th id=\"T_ba0da_level0_row8\" class=\"row_heading level0 row8\" >26</th>\n",
       "      <td id=\"T_ba0da_row8_col0\" class=\"data row8 col0\" >Good performance but the battery gets oveheated</td>\n",
       "      <td id=\"T_ba0da_row8_col1\" class=\"data row8 col1\" >Battery</td>\n",
       "    </tr>\n",
       "    <tr>\n",
       "      <th id=\"T_ba0da_level0_row9\" class=\"row_heading level0 row9\" >27</th>\n",
       "      <td id=\"T_ba0da_row9_col0\" class=\"data row9 col0\" >Best camera and better backup is very bestIn this priceFull passa wasole phone</td>\n",
       "      <td id=\"T_ba0da_row9_col1\" class=\"data row9 col1\" >Battery</td>\n",
       "    </tr>\n",
       "  </tbody>\n",
       "</table>\n"
      ],
      "text/plain": [
       "<pandas.io.formats.style.Styler at 0x7efea69a67d0>"
      ]
     },
     "execution_count": 61,
     "metadata": {},
     "output_type": "execute_result"
    }
   ],
   "source": [
    "AnaReviews_df.loc[AnaReviews_df.Topic_Number.str.contains('5'),['review','Topic_Name']].head(10)\\\n",
    ".style.set_properties(subset=['review'], **{'width': '300px'})"
   ]
  },
  {
   "cell_type": "markdown",
   "metadata": {
    "id": "XjyTA_1MDsbU"
   },
   "source": [
    "Conclusion   \n",
    "\n",
    "1. One can combine topic number 2 (Heating issue),3 (turbo charger), 5 (Battery)\n",
    "2. If lenovo company improve their turbo charger that is causing heating issues in battery their mobile then it may have high preference from user to purchase.\n",
    "3. Model can be further improved by isung other POS tags\n",
    "\n",
    "\n",
    "\n"
   ]
  },
  {
   "cell_type": "markdown",
   "metadata": {
    "id": "3sdPuO1iDui6"
   },
   "source": [
    "References:\n",
    "\n",
    "1.   https://towardsdatascience.com/the-complete-guide-for-topics-extraction-in-python-a6aaa6cedbbc\n",
    "2.   https://mickzhang.com/amazon-reviews-using-sentiment-analysis "
   ]
  }
 ],
 "metadata": {
  "accelerator": "GPU",
  "colab": {
   "collapsed_sections": [],
   "name": "NLP_Proj 1_Topic Analysis of Review Data.ipynb",
   "provenance": []
  },
  "kernelspec": {
   "display_name": "Python 3 (ipykernel)",
   "language": "python",
   "name": "python3"
  },
  "language_info": {
   "codemirror_mode": {
    "name": "ipython",
    "version": 3
   },
   "file_extension": ".py",
   "mimetype": "text/x-python",
   "name": "python",
   "nbconvert_exporter": "python",
   "pygments_lexer": "ipython3",
   "version": "3.9.12"
  }
 },
 "nbformat": 4,
 "nbformat_minor": 1
}
